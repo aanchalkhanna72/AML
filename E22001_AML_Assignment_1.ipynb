{
  "nbformat": 4,
  "nbformat_minor": 0,
  "metadata": {
    "colab": {
      "name": "E22001 AML Assignment 1.ipynb",
      "provenance": [],
      "collapsed_sections": [],
      "authorship_tag": "ABX9TyOjZ8jqsN4UnPNwhZaoq+Fd",
      "include_colab_link": true
    },
    "kernelspec": {
      "name": "python3",
      "display_name": "Python 3"
    },
    "language_info": {
      "name": "python"
    }
  },
  "cells": [
    {
      "cell_type": "markdown",
      "metadata": {
        "id": "view-in-github",
        "colab_type": "text"
      },
      "source": [
        "<a href=\"https://colab.research.google.com/github/aanchalkhanna72/AML/blob/main/E22001_AML_Assignment_1.ipynb\" target=\"_parent\"><img src=\"https://colab.research.google.com/assets/colab-badge.svg\" alt=\"Open In Colab\"/></a>"
      ]
    },
    {
      "cell_type": "markdown",
      "source": [
        "**E22001 Aanchal Khanna**\n",
        "\n",
        "**E22011 Arav Sood**"
      ],
      "metadata": {
        "id": "n_UefEYpVIZF"
      }
    },
    {
      "cell_type": "markdown",
      "source": [
        "**Assigment 1: Predicting the price of King County Houses using bagged regressor model and Random Forest Regressor Model.**"
      ],
      "metadata": {
        "id": "tcav6M3OVTY1"
      }
    },
    {
      "cell_type": "markdown",
      "source": [
        "**Reading Data**"
      ],
      "metadata": {
        "id": "0UT30aQnUc6a"
      }
    },
    {
      "cell_type": "code",
      "source": [
        "#import libraries\n",
        "import pandas as pd\n",
        "import numpy as np\n",
        "from sklearn.tree import DecisionTreeRegressor\n",
        "from sklearn.ensemble import BaggingRegressor \n",
        "from sklearn.ensemble import RandomForestRegressor\n",
        "import warnings \n",
        "warnings.filterwarnings(\"ignore\")\n"
      ],
      "metadata": {
        "id": "7cW-bz7RZ--_"
      },
      "execution_count": 40,
      "outputs": []
    },
    {
      "cell_type": "code",
      "source": [
        "#reading file - train data and test data separately\n",
        "house_train=pd.read_csv(\"https://raw.githubusercontent.com/aanchalkhanna72/Datasets/main/kc_house_train_data.csv\")\n",
        "house_test=pd.read_csv(\"https://raw.githubusercontent.com/aanchalkhanna72/Datasets/main/kc_house_test_data.csv\")\n",
        "#house=pd.concat([house_train,house_test],axis=0) "
      ],
      "metadata": {
        "id": "dMvTaqIdVggU"
      },
      "execution_count": 2,
      "outputs": []
    },
    {
      "cell_type": "code",
      "source": [
        "#reading column names and their data types\n",
        "house_train.info()"
      ],
      "metadata": {
        "colab": {
          "base_uri": "https://localhost:8080/"
        },
        "id": "jKMPE-gyZ5PG",
        "outputId": "b31bd4d9-2e99-47f4-bc44-19d868ab45a8"
      },
      "execution_count": 3,
      "outputs": [
        {
          "output_type": "stream",
          "name": "stdout",
          "text": [
            "<class 'pandas.core.frame.DataFrame'>\n",
            "RangeIndex: 9761 entries, 0 to 9760\n",
            "Data columns (total 21 columns):\n",
            " #   Column         Non-Null Count  Dtype  \n",
            "---  ------         --------------  -----  \n",
            " 0   id             9761 non-null   int64  \n",
            " 1   date           9761 non-null   object \n",
            " 2   price          9761 non-null   float64\n",
            " 3   bedrooms       9761 non-null   int64  \n",
            " 4   bathrooms      9761 non-null   float64\n",
            " 5   sqft_living    9761 non-null   int64  \n",
            " 6   sqft_lot       9761 non-null   int64  \n",
            " 7   floors         9761 non-null   float64\n",
            " 8   waterfront     9761 non-null   int64  \n",
            " 9   view           9761 non-null   int64  \n",
            " 10  condition      9761 non-null   int64  \n",
            " 11  grade          9761 non-null   int64  \n",
            " 12  sqft_above     9761 non-null   int64  \n",
            " 13  sqft_basement  9761 non-null   int64  \n",
            " 14  yr_built       9761 non-null   int64  \n",
            " 15  yr_renovated   9761 non-null   int64  \n",
            " 16  zipcode        9761 non-null   int64  \n",
            " 17  lat            9761 non-null   float64\n",
            " 18  long           9761 non-null   float64\n",
            " 19  sqft_living15  9761 non-null   int64  \n",
            " 20  sqft_lot15     9761 non-null   int64  \n",
            "dtypes: float64(5), int64(15), object(1)\n",
            "memory usage: 1.6+ MB\n"
          ]
        }
      ]
    },
    {
      "cell_type": "markdown",
      "source": [
        "**Feature Transformation**"
      ],
      "metadata": {
        "id": "duqJRnbEMe8O"
      }
    },
    {
      "cell_type": "code",
      "source": [
        "#converting date object to datetime format \n",
        "house_train[\"Date\"]=pd.to_datetime(house_train[\"date\"])\n",
        "house_test[\"Date\"]=pd.to_datetime(house_test[\"date\"])\n"
      ],
      "metadata": {
        "id": "wihGbwS8sIxM"
      },
      "execution_count": 4,
      "outputs": []
    },
    {
      "cell_type": "code",
      "source": [
        "#finding the year in which the most recent house was sold (Train)\n",
        "house_train[\"Yr_sold\"]=pd.DatetimeIndex(house_train[\"Date\"]).year\n",
        "np.max(house_train.Yr_sold)"
      ],
      "metadata": {
        "colab": {
          "base_uri": "https://localhost:8080/"
        },
        "id": "6uIfMbpHtraI",
        "outputId": "71000e1d-c3d1-4ec6-b9db-a9b1a0b48022"
      },
      "execution_count": 5,
      "outputs": [
        {
          "output_type": "execute_result",
          "data": {
            "text/plain": [
              "2015"
            ]
          },
          "metadata": {},
          "execution_count": 5
        }
      ]
    },
    {
      "cell_type": "code",
      "source": [
        "#finding the year in which the most recent house was sold (test)\n",
        "house_test[\"Yr_sold\"]=pd.DatetimeIndex(house_test[\"Date\"]).year\n",
        "np.max(house_test.Yr_sold)"
      ],
      "metadata": {
        "colab": {
          "base_uri": "https://localhost:8080/"
        },
        "id": "Y9Pb0MVXy9YY",
        "outputId": "293f3ffb-36c8-4032-8147-a7c310c60b4f"
      },
      "execution_count": 6,
      "outputs": [
        {
          "output_type": "execute_result",
          "data": {
            "text/plain": [
              "2015"
            ]
          },
          "metadata": {},
          "execution_count": 6
        }
      ]
    },
    {
      "cell_type": "code",
      "source": [
        "#transforming variables\n",
        "#house age from yr_built for train data\n",
        "house_train[\"house_age\"]=2015-house_train[\"yr_built\"] #assuming the data was collected in  2015 since the max dates the houses were sold were in 2015\n",
        "#one hot encoding of zipcodes\n",
        "dummies_train=pd.get_dummies(house_train[\"zipcode\"])\n",
        "house_train=house_train.join(dummies_train)\n"
      ],
      "metadata": {
        "id": "RIbn2MedrDAX"
      },
      "execution_count": 7,
      "outputs": []
    },
    {
      "cell_type": "code",
      "source": [
        "#house_test[\"zipcode\"]=pd.get_dummies(house_test[\"zipcode\"])\n",
        "house_test[\"house_age\"]=2015-house_test[\"yr_built\"]\n",
        "#one hot encoding of zipcodes\n",
        "dummies_test=pd.get_dummies(house_test[\"zipcode\"])\n",
        "house_test=house_test.join(dummies_test)"
      ],
      "metadata": {
        "id": "Be4hlsLsxwHT"
      },
      "execution_count": 8,
      "outputs": []
    },
    {
      "cell_type": "code",
      "source": [
        "#checking if the columns have been inserted correctly\n",
        "house_train.head()"
      ],
      "metadata": {
        "colab": {
          "base_uri": "https://localhost:8080/",
          "height": 300
        },
        "id": "tD5jhythxhky",
        "outputId": "92467c57-6888-4e1d-da16-8637633e39b3"
      },
      "execution_count": 9,
      "outputs": [
        {
          "output_type": "execute_result",
          "data": {
            "text/plain": [
              "           id             date      price  bedrooms  bathrooms  sqft_living  \\\n",
              "0  2487200875  20141209T000000   604000.0         4       3.00         1960   \n",
              "1  7237550310  20140512T000000  1225000.0         4       4.50         5420   \n",
              "2  9212900260  20140527T000000   468000.0         2       1.00         1160   \n",
              "3   114101516  20140528T000000   310000.0         3       1.00         1430   \n",
              "4  6054650070  20141007T000000   400000.0         3       1.75         1370   \n",
              "\n",
              "   sqft_lot  floors  waterfront  view  ...  98146  98148  98155  98166  98168  \\\n",
              "0      5000     1.0           0     0  ...      0      0      0      0      0   \n",
              "1    101930     1.0           0     0  ...      0      0      0      0      0   \n",
              "2      6000     1.0           0     0  ...      0      0      0      0      0   \n",
              "3     19901     1.5           0     0  ...      0      0      0      0      0   \n",
              "4      9680     1.0           0     0  ...      0      0      0      0      0   \n",
              "\n",
              "   98177  98178  98188  98198  98199  \n",
              "0      0      0      0      0      0  \n",
              "1      0      0      0      0      0  \n",
              "2      0      0      0      0      0  \n",
              "3      0      0      0      0      0  \n",
              "4      0      0      0      0      0  \n",
              "\n",
              "[5 rows x 94 columns]"
            ],
            "text/html": [
              "\n",
              "  <div id=\"df-7f7ce24e-9b3a-421b-a9b7-50328fdaf497\">\n",
              "    <div class=\"colab-df-container\">\n",
              "      <div>\n",
              "<style scoped>\n",
              "    .dataframe tbody tr th:only-of-type {\n",
              "        vertical-align: middle;\n",
              "    }\n",
              "\n",
              "    .dataframe tbody tr th {\n",
              "        vertical-align: top;\n",
              "    }\n",
              "\n",
              "    .dataframe thead th {\n",
              "        text-align: right;\n",
              "    }\n",
              "</style>\n",
              "<table border=\"1\" class=\"dataframe\">\n",
              "  <thead>\n",
              "    <tr style=\"text-align: right;\">\n",
              "      <th></th>\n",
              "      <th>id</th>\n",
              "      <th>date</th>\n",
              "      <th>price</th>\n",
              "      <th>bedrooms</th>\n",
              "      <th>bathrooms</th>\n",
              "      <th>sqft_living</th>\n",
              "      <th>sqft_lot</th>\n",
              "      <th>floors</th>\n",
              "      <th>waterfront</th>\n",
              "      <th>view</th>\n",
              "      <th>...</th>\n",
              "      <th>98146</th>\n",
              "      <th>98148</th>\n",
              "      <th>98155</th>\n",
              "      <th>98166</th>\n",
              "      <th>98168</th>\n",
              "      <th>98177</th>\n",
              "      <th>98178</th>\n",
              "      <th>98188</th>\n",
              "      <th>98198</th>\n",
              "      <th>98199</th>\n",
              "    </tr>\n",
              "  </thead>\n",
              "  <tbody>\n",
              "    <tr>\n",
              "      <th>0</th>\n",
              "      <td>2487200875</td>\n",
              "      <td>20141209T000000</td>\n",
              "      <td>604000.0</td>\n",
              "      <td>4</td>\n",
              "      <td>3.00</td>\n",
              "      <td>1960</td>\n",
              "      <td>5000</td>\n",
              "      <td>1.0</td>\n",
              "      <td>0</td>\n",
              "      <td>0</td>\n",
              "      <td>...</td>\n",
              "      <td>0</td>\n",
              "      <td>0</td>\n",
              "      <td>0</td>\n",
              "      <td>0</td>\n",
              "      <td>0</td>\n",
              "      <td>0</td>\n",
              "      <td>0</td>\n",
              "      <td>0</td>\n",
              "      <td>0</td>\n",
              "      <td>0</td>\n",
              "    </tr>\n",
              "    <tr>\n",
              "      <th>1</th>\n",
              "      <td>7237550310</td>\n",
              "      <td>20140512T000000</td>\n",
              "      <td>1225000.0</td>\n",
              "      <td>4</td>\n",
              "      <td>4.50</td>\n",
              "      <td>5420</td>\n",
              "      <td>101930</td>\n",
              "      <td>1.0</td>\n",
              "      <td>0</td>\n",
              "      <td>0</td>\n",
              "      <td>...</td>\n",
              "      <td>0</td>\n",
              "      <td>0</td>\n",
              "      <td>0</td>\n",
              "      <td>0</td>\n",
              "      <td>0</td>\n",
              "      <td>0</td>\n",
              "      <td>0</td>\n",
              "      <td>0</td>\n",
              "      <td>0</td>\n",
              "      <td>0</td>\n",
              "    </tr>\n",
              "    <tr>\n",
              "      <th>2</th>\n",
              "      <td>9212900260</td>\n",
              "      <td>20140527T000000</td>\n",
              "      <td>468000.0</td>\n",
              "      <td>2</td>\n",
              "      <td>1.00</td>\n",
              "      <td>1160</td>\n",
              "      <td>6000</td>\n",
              "      <td>1.0</td>\n",
              "      <td>0</td>\n",
              "      <td>0</td>\n",
              "      <td>...</td>\n",
              "      <td>0</td>\n",
              "      <td>0</td>\n",
              "      <td>0</td>\n",
              "      <td>0</td>\n",
              "      <td>0</td>\n",
              "      <td>0</td>\n",
              "      <td>0</td>\n",
              "      <td>0</td>\n",
              "      <td>0</td>\n",
              "      <td>0</td>\n",
              "    </tr>\n",
              "    <tr>\n",
              "      <th>3</th>\n",
              "      <td>114101516</td>\n",
              "      <td>20140528T000000</td>\n",
              "      <td>310000.0</td>\n",
              "      <td>3</td>\n",
              "      <td>1.00</td>\n",
              "      <td>1430</td>\n",
              "      <td>19901</td>\n",
              "      <td>1.5</td>\n",
              "      <td>0</td>\n",
              "      <td>0</td>\n",
              "      <td>...</td>\n",
              "      <td>0</td>\n",
              "      <td>0</td>\n",
              "      <td>0</td>\n",
              "      <td>0</td>\n",
              "      <td>0</td>\n",
              "      <td>0</td>\n",
              "      <td>0</td>\n",
              "      <td>0</td>\n",
              "      <td>0</td>\n",
              "      <td>0</td>\n",
              "    </tr>\n",
              "    <tr>\n",
              "      <th>4</th>\n",
              "      <td>6054650070</td>\n",
              "      <td>20141007T000000</td>\n",
              "      <td>400000.0</td>\n",
              "      <td>3</td>\n",
              "      <td>1.75</td>\n",
              "      <td>1370</td>\n",
              "      <td>9680</td>\n",
              "      <td>1.0</td>\n",
              "      <td>0</td>\n",
              "      <td>0</td>\n",
              "      <td>...</td>\n",
              "      <td>0</td>\n",
              "      <td>0</td>\n",
              "      <td>0</td>\n",
              "      <td>0</td>\n",
              "      <td>0</td>\n",
              "      <td>0</td>\n",
              "      <td>0</td>\n",
              "      <td>0</td>\n",
              "      <td>0</td>\n",
              "      <td>0</td>\n",
              "    </tr>\n",
              "  </tbody>\n",
              "</table>\n",
              "<p>5 rows × 94 columns</p>\n",
              "</div>\n",
              "      <button class=\"colab-df-convert\" onclick=\"convertToInteractive('df-7f7ce24e-9b3a-421b-a9b7-50328fdaf497')\"\n",
              "              title=\"Convert this dataframe to an interactive table.\"\n",
              "              style=\"display:none;\">\n",
              "        \n",
              "  <svg xmlns=\"http://www.w3.org/2000/svg\" height=\"24px\"viewBox=\"0 0 24 24\"\n",
              "       width=\"24px\">\n",
              "    <path d=\"M0 0h24v24H0V0z\" fill=\"none\"/>\n",
              "    <path d=\"M18.56 5.44l.94 2.06.94-2.06 2.06-.94-2.06-.94-.94-2.06-.94 2.06-2.06.94zm-11 1L8.5 8.5l.94-2.06 2.06-.94-2.06-.94L8.5 2.5l-.94 2.06-2.06.94zm10 10l.94 2.06.94-2.06 2.06-.94-2.06-.94-.94-2.06-.94 2.06-2.06.94z\"/><path d=\"M17.41 7.96l-1.37-1.37c-.4-.4-.92-.59-1.43-.59-.52 0-1.04.2-1.43.59L10.3 9.45l-7.72 7.72c-.78.78-.78 2.05 0 2.83L4 21.41c.39.39.9.59 1.41.59.51 0 1.02-.2 1.41-.59l7.78-7.78 2.81-2.81c.8-.78.8-2.07 0-2.86zM5.41 20L4 18.59l7.72-7.72 1.47 1.35L5.41 20z\"/>\n",
              "  </svg>\n",
              "      </button>\n",
              "      \n",
              "  <style>\n",
              "    .colab-df-container {\n",
              "      display:flex;\n",
              "      flex-wrap:wrap;\n",
              "      gap: 12px;\n",
              "    }\n",
              "\n",
              "    .colab-df-convert {\n",
              "      background-color: #E8F0FE;\n",
              "      border: none;\n",
              "      border-radius: 50%;\n",
              "      cursor: pointer;\n",
              "      display: none;\n",
              "      fill: #1967D2;\n",
              "      height: 32px;\n",
              "      padding: 0 0 0 0;\n",
              "      width: 32px;\n",
              "    }\n",
              "\n",
              "    .colab-df-convert:hover {\n",
              "      background-color: #E2EBFA;\n",
              "      box-shadow: 0px 1px 2px rgba(60, 64, 67, 0.3), 0px 1px 3px 1px rgba(60, 64, 67, 0.15);\n",
              "      fill: #174EA6;\n",
              "    }\n",
              "\n",
              "    [theme=dark] .colab-df-convert {\n",
              "      background-color: #3B4455;\n",
              "      fill: #D2E3FC;\n",
              "    }\n",
              "\n",
              "    [theme=dark] .colab-df-convert:hover {\n",
              "      background-color: #434B5C;\n",
              "      box-shadow: 0px 1px 3px 1px rgba(0, 0, 0, 0.15);\n",
              "      filter: drop-shadow(0px 1px 2px rgba(0, 0, 0, 0.3));\n",
              "      fill: #FFFFFF;\n",
              "    }\n",
              "  </style>\n",
              "\n",
              "      <script>\n",
              "        const buttonEl =\n",
              "          document.querySelector('#df-7f7ce24e-9b3a-421b-a9b7-50328fdaf497 button.colab-df-convert');\n",
              "        buttonEl.style.display =\n",
              "          google.colab.kernel.accessAllowed ? 'block' : 'none';\n",
              "\n",
              "        async function convertToInteractive(key) {\n",
              "          const element = document.querySelector('#df-7f7ce24e-9b3a-421b-a9b7-50328fdaf497');\n",
              "          const dataTable =\n",
              "            await google.colab.kernel.invokeFunction('convertToInteractive',\n",
              "                                                     [key], {});\n",
              "          if (!dataTable) return;\n",
              "\n",
              "          const docLinkHtml = 'Like what you see? Visit the ' +\n",
              "            '<a target=\"_blank\" href=https://colab.research.google.com/notebooks/data_table.ipynb>data table notebook</a>'\n",
              "            + ' to learn more about interactive tables.';\n",
              "          element.innerHTML = '';\n",
              "          dataTable['output_type'] = 'display_data';\n",
              "          await google.colab.output.renderOutput(dataTable, element);\n",
              "          const docLink = document.createElement('div');\n",
              "          docLink.innerHTML = docLinkHtml;\n",
              "          element.appendChild(docLink);\n",
              "        }\n",
              "      </script>\n",
              "    </div>\n",
              "  </div>\n",
              "  "
            ]
          },
          "metadata": {},
          "execution_count": 9
        }
      ]
    },
    {
      "cell_type": "code",
      "source": [
        "#checking if the columns have been inserted correctly\n",
        "house_test.head()"
      ],
      "metadata": {
        "colab": {
          "base_uri": "https://localhost:8080/",
          "height": 300
        },
        "id": "wZl-g8QsyCvX",
        "outputId": "3d9623cd-3b31-413d-b6e2-f2462b8eeaf7"
      },
      "execution_count": 10,
      "outputs": [
        {
          "output_type": "execute_result",
          "data": {
            "text/plain": [
              "           id             date     price  bedrooms  bathrooms  sqft_living  \\\n",
              "0  3793500160  20150312T000000  323000.0         3       2.50         1890   \n",
              "1  1175000570  20150312T000000  530000.0         5       2.00         1810   \n",
              "2    16000397  20141205T000000  189000.0         2       1.00         1200   \n",
              "3   461000390  20140624T000000  687500.0         4       1.75         2330   \n",
              "4  7895500070  20150213T000000  240000.0         4       1.00         1220   \n",
              "\n",
              "   sqft_lot  floors  waterfront  view  ...  98146  98148  98155  98166  98168  \\\n",
              "0      6560     2.0           0     0  ...      0      0      0      0      0   \n",
              "1      4850     1.5           0     0  ...      0      0      0      0      0   \n",
              "2      9850     1.0           0     0  ...      0      0      0      0      0   \n",
              "3      5000     1.5           0     0  ...      0      0      0      0      0   \n",
              "4      8075     1.0           0     0  ...      0      0      0      0      0   \n",
              "\n",
              "   98177  98178  98188  98198  98199  \n",
              "0      0      0      0      0      0  \n",
              "1      0      0      0      0      0  \n",
              "2      0      0      0      0      0  \n",
              "3      0      0      0      0      0  \n",
              "4      0      0      0      0      0  \n",
              "\n",
              "[5 rows x 94 columns]"
            ],
            "text/html": [
              "\n",
              "  <div id=\"df-a810b4c3-5739-4b7b-a7f7-6ae502220997\">\n",
              "    <div class=\"colab-df-container\">\n",
              "      <div>\n",
              "<style scoped>\n",
              "    .dataframe tbody tr th:only-of-type {\n",
              "        vertical-align: middle;\n",
              "    }\n",
              "\n",
              "    .dataframe tbody tr th {\n",
              "        vertical-align: top;\n",
              "    }\n",
              "\n",
              "    .dataframe thead th {\n",
              "        text-align: right;\n",
              "    }\n",
              "</style>\n",
              "<table border=\"1\" class=\"dataframe\">\n",
              "  <thead>\n",
              "    <tr style=\"text-align: right;\">\n",
              "      <th></th>\n",
              "      <th>id</th>\n",
              "      <th>date</th>\n",
              "      <th>price</th>\n",
              "      <th>bedrooms</th>\n",
              "      <th>bathrooms</th>\n",
              "      <th>sqft_living</th>\n",
              "      <th>sqft_lot</th>\n",
              "      <th>floors</th>\n",
              "      <th>waterfront</th>\n",
              "      <th>view</th>\n",
              "      <th>...</th>\n",
              "      <th>98146</th>\n",
              "      <th>98148</th>\n",
              "      <th>98155</th>\n",
              "      <th>98166</th>\n",
              "      <th>98168</th>\n",
              "      <th>98177</th>\n",
              "      <th>98178</th>\n",
              "      <th>98188</th>\n",
              "      <th>98198</th>\n",
              "      <th>98199</th>\n",
              "    </tr>\n",
              "  </thead>\n",
              "  <tbody>\n",
              "    <tr>\n",
              "      <th>0</th>\n",
              "      <td>3793500160</td>\n",
              "      <td>20150312T000000</td>\n",
              "      <td>323000.0</td>\n",
              "      <td>3</td>\n",
              "      <td>2.50</td>\n",
              "      <td>1890</td>\n",
              "      <td>6560</td>\n",
              "      <td>2.0</td>\n",
              "      <td>0</td>\n",
              "      <td>0</td>\n",
              "      <td>...</td>\n",
              "      <td>0</td>\n",
              "      <td>0</td>\n",
              "      <td>0</td>\n",
              "      <td>0</td>\n",
              "      <td>0</td>\n",
              "      <td>0</td>\n",
              "      <td>0</td>\n",
              "      <td>0</td>\n",
              "      <td>0</td>\n",
              "      <td>0</td>\n",
              "    </tr>\n",
              "    <tr>\n",
              "      <th>1</th>\n",
              "      <td>1175000570</td>\n",
              "      <td>20150312T000000</td>\n",
              "      <td>530000.0</td>\n",
              "      <td>5</td>\n",
              "      <td>2.00</td>\n",
              "      <td>1810</td>\n",
              "      <td>4850</td>\n",
              "      <td>1.5</td>\n",
              "      <td>0</td>\n",
              "      <td>0</td>\n",
              "      <td>...</td>\n",
              "      <td>0</td>\n",
              "      <td>0</td>\n",
              "      <td>0</td>\n",
              "      <td>0</td>\n",
              "      <td>0</td>\n",
              "      <td>0</td>\n",
              "      <td>0</td>\n",
              "      <td>0</td>\n",
              "      <td>0</td>\n",
              "      <td>0</td>\n",
              "    </tr>\n",
              "    <tr>\n",
              "      <th>2</th>\n",
              "      <td>16000397</td>\n",
              "      <td>20141205T000000</td>\n",
              "      <td>189000.0</td>\n",
              "      <td>2</td>\n",
              "      <td>1.00</td>\n",
              "      <td>1200</td>\n",
              "      <td>9850</td>\n",
              "      <td>1.0</td>\n",
              "      <td>0</td>\n",
              "      <td>0</td>\n",
              "      <td>...</td>\n",
              "      <td>0</td>\n",
              "      <td>0</td>\n",
              "      <td>0</td>\n",
              "      <td>0</td>\n",
              "      <td>0</td>\n",
              "      <td>0</td>\n",
              "      <td>0</td>\n",
              "      <td>0</td>\n",
              "      <td>0</td>\n",
              "      <td>0</td>\n",
              "    </tr>\n",
              "    <tr>\n",
              "      <th>3</th>\n",
              "      <td>461000390</td>\n",
              "      <td>20140624T000000</td>\n",
              "      <td>687500.0</td>\n",
              "      <td>4</td>\n",
              "      <td>1.75</td>\n",
              "      <td>2330</td>\n",
              "      <td>5000</td>\n",
              "      <td>1.5</td>\n",
              "      <td>0</td>\n",
              "      <td>0</td>\n",
              "      <td>...</td>\n",
              "      <td>0</td>\n",
              "      <td>0</td>\n",
              "      <td>0</td>\n",
              "      <td>0</td>\n",
              "      <td>0</td>\n",
              "      <td>0</td>\n",
              "      <td>0</td>\n",
              "      <td>0</td>\n",
              "      <td>0</td>\n",
              "      <td>0</td>\n",
              "    </tr>\n",
              "    <tr>\n",
              "      <th>4</th>\n",
              "      <td>7895500070</td>\n",
              "      <td>20150213T000000</td>\n",
              "      <td>240000.0</td>\n",
              "      <td>4</td>\n",
              "      <td>1.00</td>\n",
              "      <td>1220</td>\n",
              "      <td>8075</td>\n",
              "      <td>1.0</td>\n",
              "      <td>0</td>\n",
              "      <td>0</td>\n",
              "      <td>...</td>\n",
              "      <td>0</td>\n",
              "      <td>0</td>\n",
              "      <td>0</td>\n",
              "      <td>0</td>\n",
              "      <td>0</td>\n",
              "      <td>0</td>\n",
              "      <td>0</td>\n",
              "      <td>0</td>\n",
              "      <td>0</td>\n",
              "      <td>0</td>\n",
              "    </tr>\n",
              "  </tbody>\n",
              "</table>\n",
              "<p>5 rows × 94 columns</p>\n",
              "</div>\n",
              "      <button class=\"colab-df-convert\" onclick=\"convertToInteractive('df-a810b4c3-5739-4b7b-a7f7-6ae502220997')\"\n",
              "              title=\"Convert this dataframe to an interactive table.\"\n",
              "              style=\"display:none;\">\n",
              "        \n",
              "  <svg xmlns=\"http://www.w3.org/2000/svg\" height=\"24px\"viewBox=\"0 0 24 24\"\n",
              "       width=\"24px\">\n",
              "    <path d=\"M0 0h24v24H0V0z\" fill=\"none\"/>\n",
              "    <path d=\"M18.56 5.44l.94 2.06.94-2.06 2.06-.94-2.06-.94-.94-2.06-.94 2.06-2.06.94zm-11 1L8.5 8.5l.94-2.06 2.06-.94-2.06-.94L8.5 2.5l-.94 2.06-2.06.94zm10 10l.94 2.06.94-2.06 2.06-.94-2.06-.94-.94-2.06-.94 2.06-2.06.94z\"/><path d=\"M17.41 7.96l-1.37-1.37c-.4-.4-.92-.59-1.43-.59-.52 0-1.04.2-1.43.59L10.3 9.45l-7.72 7.72c-.78.78-.78 2.05 0 2.83L4 21.41c.39.39.9.59 1.41.59.51 0 1.02-.2 1.41-.59l7.78-7.78 2.81-2.81c.8-.78.8-2.07 0-2.86zM5.41 20L4 18.59l7.72-7.72 1.47 1.35L5.41 20z\"/>\n",
              "  </svg>\n",
              "      </button>\n",
              "      \n",
              "  <style>\n",
              "    .colab-df-container {\n",
              "      display:flex;\n",
              "      flex-wrap:wrap;\n",
              "      gap: 12px;\n",
              "    }\n",
              "\n",
              "    .colab-df-convert {\n",
              "      background-color: #E8F0FE;\n",
              "      border: none;\n",
              "      border-radius: 50%;\n",
              "      cursor: pointer;\n",
              "      display: none;\n",
              "      fill: #1967D2;\n",
              "      height: 32px;\n",
              "      padding: 0 0 0 0;\n",
              "      width: 32px;\n",
              "    }\n",
              "\n",
              "    .colab-df-convert:hover {\n",
              "      background-color: #E2EBFA;\n",
              "      box-shadow: 0px 1px 2px rgba(60, 64, 67, 0.3), 0px 1px 3px 1px rgba(60, 64, 67, 0.15);\n",
              "      fill: #174EA6;\n",
              "    }\n",
              "\n",
              "    [theme=dark] .colab-df-convert {\n",
              "      background-color: #3B4455;\n",
              "      fill: #D2E3FC;\n",
              "    }\n",
              "\n",
              "    [theme=dark] .colab-df-convert:hover {\n",
              "      background-color: #434B5C;\n",
              "      box-shadow: 0px 1px 3px 1px rgba(0, 0, 0, 0.15);\n",
              "      filter: drop-shadow(0px 1px 2px rgba(0, 0, 0, 0.3));\n",
              "      fill: #FFFFFF;\n",
              "    }\n",
              "  </style>\n",
              "\n",
              "      <script>\n",
              "        const buttonEl =\n",
              "          document.querySelector('#df-a810b4c3-5739-4b7b-a7f7-6ae502220997 button.colab-df-convert');\n",
              "        buttonEl.style.display =\n",
              "          google.colab.kernel.accessAllowed ? 'block' : 'none';\n",
              "\n",
              "        async function convertToInteractive(key) {\n",
              "          const element = document.querySelector('#df-a810b4c3-5739-4b7b-a7f7-6ae502220997');\n",
              "          const dataTable =\n",
              "            await google.colab.kernel.invokeFunction('convertToInteractive',\n",
              "                                                     [key], {});\n",
              "          if (!dataTable) return;\n",
              "\n",
              "          const docLinkHtml = 'Like what you see? Visit the ' +\n",
              "            '<a target=\"_blank\" href=https://colab.research.google.com/notebooks/data_table.ipynb>data table notebook</a>'\n",
              "            + ' to learn more about interactive tables.';\n",
              "          element.innerHTML = '';\n",
              "          dataTable['output_type'] = 'display_data';\n",
              "          await google.colab.output.renderOutput(dataTable, element);\n",
              "          const docLink = document.createElement('div');\n",
              "          docLink.innerHTML = docLinkHtml;\n",
              "          element.appendChild(docLink);\n",
              "        }\n",
              "      </script>\n",
              "    </div>\n",
              "  </div>\n",
              "  "
            ]
          },
          "metadata": {},
          "execution_count": 10
        }
      ]
    },
    {
      "cell_type": "code",
      "source": [
        "house_test.columns"
      ],
      "metadata": {
        "colab": {
          "base_uri": "https://localhost:8080/"
        },
        "id": "0bWhhPMMyaJk",
        "outputId": "a59882c8-a749-4464-dc26-e6cd5fb8e9d8"
      },
      "execution_count": 11,
      "outputs": [
        {
          "output_type": "execute_result",
          "data": {
            "text/plain": [
              "Index([           'id',          'date',         'price',      'bedrooms',\n",
              "           'bathrooms',   'sqft_living',      'sqft_lot',        'floors',\n",
              "          'waterfront',          'view',     'condition',         'grade',\n",
              "          'sqft_above', 'sqft_basement',      'yr_built',  'yr_renovated',\n",
              "             'zipcode',           'lat',          'long', 'sqft_living15',\n",
              "          'sqft_lot15',          'Date',       'Yr_sold',     'house_age',\n",
              "                 98001,           98002,           98003,           98004,\n",
              "                 98005,           98006,           98007,           98008,\n",
              "                 98010,           98011,           98014,           98019,\n",
              "                 98022,           98023,           98024,           98027,\n",
              "                 98028,           98029,           98030,           98031,\n",
              "                 98032,           98033,           98034,           98038,\n",
              "                 98039,           98040,           98042,           98045,\n",
              "                 98052,           98053,           98055,           98056,\n",
              "                 98058,           98059,           98065,           98070,\n",
              "                 98072,           98074,           98075,           98077,\n",
              "                 98092,           98102,           98103,           98105,\n",
              "                 98106,           98107,           98108,           98109,\n",
              "                 98112,           98115,           98116,           98117,\n",
              "                 98118,           98119,           98122,           98125,\n",
              "                 98126,           98133,           98136,           98144,\n",
              "                 98146,           98148,           98155,           98166,\n",
              "                 98168,           98177,           98178,           98188,\n",
              "                 98198,           98199],\n",
              "      dtype='object')"
            ]
          },
          "metadata": {},
          "execution_count": 11
        }
      ]
    },
    {
      "cell_type": "code",
      "source": [
        "#dropping columns that are redundant or provide no information that is usable to the model\n",
        "house_train=house_train.drop([\"id\",\"zipcode\",\"lat\",\"long\",\"date\",\"yr_built\",\"Yr_sold\",\"Date\"],axis=1)"
      ],
      "metadata": {
        "id": "7VlZjPNgb5Ho"
      },
      "execution_count": 12,
      "outputs": []
    },
    {
      "cell_type": "code",
      "source": [
        "#dropping columns that are redundant or provide no information that is usable to the model\n",
        "house_test=house_test.drop([\"id\",\"zipcode\",\"lat\",\"long\",\"date\",\"yr_built\",\"Yr_sold\",\"Date\"],axis=1)"
      ],
      "metadata": {
        "id": "Wuad6ZsBqiAI"
      },
      "execution_count": 13,
      "outputs": []
    },
    {
      "cell_type": "code",
      "source": [
        "len(house_train.columns), len(house_test.columns) "
      ],
      "metadata": {
        "colab": {
          "base_uri": "https://localhost:8080/"
        },
        "id": "72bzKxZhom18",
        "outputId": "0dd55716-6977-4b49-98ab-7a0960f90f66"
      },
      "execution_count": 14,
      "outputs": [
        {
          "output_type": "execute_result",
          "data": {
            "text/plain": [
              "(86, 86)"
            ]
          },
          "metadata": {},
          "execution_count": 14
        }
      ]
    },
    {
      "cell_type": "code",
      "source": [
        "house_train.columns"
      ],
      "metadata": {
        "colab": {
          "base_uri": "https://localhost:8080/"
        },
        "id": "DUnuG9jAz9k0",
        "outputId": "812ef398-3373-464d-d8bb-db184aecf632"
      },
      "execution_count": 15,
      "outputs": [
        {
          "output_type": "execute_result",
          "data": {
            "text/plain": [
              "Index([        'price',      'bedrooms',     'bathrooms',   'sqft_living',\n",
              "            'sqft_lot',        'floors',    'waterfront',          'view',\n",
              "           'condition',         'grade',    'sqft_above', 'sqft_basement',\n",
              "        'yr_renovated', 'sqft_living15',    'sqft_lot15',     'house_age',\n",
              "                 98001,           98002,           98003,           98004,\n",
              "                 98005,           98006,           98007,           98008,\n",
              "                 98010,           98011,           98014,           98019,\n",
              "                 98022,           98023,           98024,           98027,\n",
              "                 98028,           98029,           98030,           98031,\n",
              "                 98032,           98033,           98034,           98038,\n",
              "                 98039,           98040,           98042,           98045,\n",
              "                 98052,           98053,           98055,           98056,\n",
              "                 98058,           98059,           98065,           98070,\n",
              "                 98072,           98074,           98075,           98077,\n",
              "                 98092,           98102,           98103,           98105,\n",
              "                 98106,           98107,           98108,           98109,\n",
              "                 98112,           98115,           98116,           98117,\n",
              "                 98118,           98119,           98122,           98125,\n",
              "                 98126,           98133,           98136,           98144,\n",
              "                 98146,           98148,           98155,           98166,\n",
              "                 98168,           98177,           98178,           98188,\n",
              "                 98198,           98199],\n",
              "      dtype='object')"
            ]
          },
          "metadata": {},
          "execution_count": 15
        }
      ]
    },
    {
      "cell_type": "code",
      "source": [
        "#defining target and predictors -- train set\n",
        "y=house_train.price\n",
        "X=house_train.drop([\"price\"],axis=1)\n",
        "X.shape"
      ],
      "metadata": {
        "colab": {
          "base_uri": "https://localhost:8080/"
        },
        "id": "NRNOP_Nvphqp",
        "outputId": "e888011e-b052-4ea1-e6df-7ab57ca10da1"
      },
      "execution_count": 16,
      "outputs": [
        {
          "output_type": "execute_result",
          "data": {
            "text/plain": [
              "(9761, 85)"
            ]
          },
          "metadata": {},
          "execution_count": 16
        }
      ]
    },
    {
      "cell_type": "code",
      "source": [
        "#defining target and predictors -- test set\n",
        "y_test = house_test.price\n",
        "X_test = house_test.drop('price',axis=1)"
      ],
      "metadata": {
        "id": "CJtiCOFA4m7i"
      },
      "execution_count": 17,
      "outputs": []
    },
    {
      "cell_type": "code",
      "source": [
        "X.shape,X_test.shape"
      ],
      "metadata": {
        "colab": {
          "base_uri": "https://localhost:8080/"
        },
        "id": "p_RGfxbn4960",
        "outputId": "864708f5-2e6c-4c4d-cd99-52ba09c51893"
      },
      "execution_count": 20,
      "outputs": [
        {
          "output_type": "execute_result",
          "data": {
            "text/plain": [
              "((9761, 85), (2217, 85))"
            ]
          },
          "metadata": {},
          "execution_count": 20
        }
      ]
    },
    {
      "cell_type": "markdown",
      "source": [
        "**Experimenting with Model Fitting**"
      ],
      "metadata": {
        "id": "76llBihIUjpz"
      }
    },
    {
      "cell_type": "markdown",
      "source": [
        "**A. Fitting Bagging  Regressor**"
      ],
      "metadata": {
        "id": "gdG3441eCBoo"
      }
    },
    {
      "cell_type": "code",
      "source": [
        "#importing mape metric\n",
        "from sklearn.metrics import mean_absolute_percentage_error"
      ],
      "metadata": {
        "id": "IbQs8GaKPiIZ"
      },
      "execution_count": 29,
      "outputs": []
    },
    {
      "cell_type": "markdown",
      "source": [
        "**Default Model:**"
      ],
      "metadata": {
        "id": "X_SD1-rlNXzI"
      }
    },
    {
      "cell_type": "code",
      "source": [
        "#fitting default bagged model\n",
        "def_bag = BaggingRegressor()\n",
        "def_bag.fit(X,y)\n",
        "#predicting train and test values\n",
        "def_pred_train=def_bag.predict(X)\n",
        "def_pred_test=def_bag.predict(X_test)\n",
        "#calculating train/test accuracy of default bagged model using mape\n",
        "print(\"Training accuracy: \", 1-mean_absolute_percentage_error(y,def_pred_train),\"Test accuracy: \", 1-mean_absolute_percentage_error(y_test,def_pred_test))"
      ],
      "metadata": {
        "colab": {
          "base_uri": "https://localhost:8080/"
        },
        "id": "cLR8SK2R4rL1",
        "outputId": "ee0ace56-b96b-491d-f352-fe1c82ca5961"
      },
      "execution_count": 30,
      "outputs": [
        {
          "output_type": "stream",
          "name": "stdout",
          "text": [
            "Training accuracy:  0.9275923710479314 Test accuracy:  0.8174174427156287\n"
          ]
        }
      ]
    },
    {
      "cell_type": "markdown",
      "source": [
        "**Tuned Bagged Model:**"
      ],
      "metadata": {
        "id": "KSqYirDVNcUy"
      }
    },
    {
      "cell_type": "code",
      "source": [
        "#using grid search method to select the best parameters\n",
        "from  sklearn.model_selection import GridSearchCV\n",
        "grid = GridSearchCV(estimator = BaggingRegressor(), param_grid = {\n",
        "    'n_estimators' : [20,80,100,150]\n",
        "},n_jobs= -1, verbose = 1)\n",
        "    "
      ],
      "metadata": {
        "id": "yYOwYF9dxERv"
      },
      "execution_count": 21,
      "outputs": []
    },
    {
      "cell_type": "code",
      "source": [
        "#fitting grid algo \n",
        "grid.fit(X,y)"
      ],
      "metadata": {
        "colab": {
          "base_uri": "https://localhost:8080/"
        },
        "id": "LRr_oFuS3bxw",
        "outputId": "9de1380e-2e20-43d8-be3e-8dce710fedd9"
      },
      "execution_count": 22,
      "outputs": [
        {
          "output_type": "stream",
          "name": "stdout",
          "text": [
            "Fitting 5 folds for each of 4 candidates, totalling 20 fits\n"
          ]
        },
        {
          "output_type": "execute_result",
          "data": {
            "text/plain": [
              "GridSearchCV(estimator=BaggingRegressor(), n_jobs=-1,\n",
              "             param_grid={'n_estimators': [20, 80, 100, 150]}, verbose=1)"
            ]
          },
          "metadata": {},
          "execution_count": 22
        }
      ]
    },
    {
      "cell_type": "code",
      "source": [
        "#printing the best parameter\n",
        "grid.best_params_"
      ],
      "metadata": {
        "colab": {
          "base_uri": "https://localhost:8080/"
        },
        "id": "IiBQnqNq3h_B",
        "outputId": "5ac6d8e5-13db-4664-fcfb-6a17f7267dae"
      },
      "execution_count": 23,
      "outputs": [
        {
          "output_type": "execute_result",
          "data": {
            "text/plain": [
              "{'n_estimators': 80}"
            ]
          },
          "metadata": {},
          "execution_count": 23
        }
      ]
    },
    {
      "cell_type": "code",
      "source": [
        "#model fitting of tuned Bagging Regressor\n",
        "bagged=BaggingRegressor(base_estimator=None, n_estimators=80, oob_score=True)\n",
        "bagged.fit(X,y)"
      ],
      "metadata": {
        "colab": {
          "base_uri": "https://localhost:8080/"
        },
        "id": "qN0INyyPmaEF",
        "outputId": "0c5614fe-3b7b-4eb2-b968-8f0187a43bee"
      },
      "execution_count": 24,
      "outputs": [
        {
          "output_type": "execute_result",
          "data": {
            "text/plain": [
              "BaggingRegressor(n_estimators=80, oob_score=True)"
            ]
          },
          "metadata": {},
          "execution_count": 24
        }
      ]
    },
    {
      "cell_type": "code",
      "source": [
        "#predicting train and test values\n",
        "y_pred_train=bagged.predict(X)\n",
        "y_pred = bagged.predict(X_test)\n"
      ],
      "metadata": {
        "id": "7Dr2Zd6l2cOw"
      },
      "execution_count": 31,
      "outputs": []
    },
    {
      "cell_type": "code",
      "source": [
        "#calculating train/test accuracy using mape of tuned model\n",
        "print(\"Training accuracy: \", 1-mean_absolute_percentage_error(y,y_pred_train),\"Test accuracy: \", 1-mean_absolute_percentage_error(y_test,y_pred))"
      ],
      "metadata": {
        "colab": {
          "base_uri": "https://localhost:8080/"
        },
        "id": "Rd9BPY8s6luj",
        "outputId": "be064da8-3253-4418-bcc0-d28911e0cfab"
      },
      "execution_count": 33,
      "outputs": [
        {
          "output_type": "stream",
          "name": "stdout",
          "text": [
            "Training accuracy:  0.9360221692234594 Test accuracy:  0.822886402780908\n"
          ]
        }
      ]
    },
    {
      "cell_type": "code",
      "source": [
        "#another metric for test score accuracy - OOB score (however, we already have test data here)\n",
        "bagged.oob_score_"
      ],
      "metadata": {
        "colab": {
          "base_uri": "https://localhost:8080/"
        },
        "id": "FPTvJYQJD4e-",
        "outputId": "13841cc9-854b-402f-e34f-e94ddb4105ef"
      },
      "execution_count": 27,
      "outputs": [
        {
          "output_type": "execute_result",
          "data": {
            "text/plain": [
              "0.8163158914246349"
            ]
          },
          "metadata": {},
          "execution_count": 27
        }
      ]
    },
    {
      "cell_type": "markdown",
      "source": [
        "**B. Random Forest Model**"
      ],
      "metadata": {
        "id": "UFbWHU3HCNl6"
      }
    },
    {
      "cell_type": "markdown",
      "source": [
        "**Default Model:**"
      ],
      "metadata": {
        "id": "Lbd3-hKGPP09"
      }
    },
    {
      "cell_type": "code",
      "source": [
        "#default random forest regressor\n",
        "d_rf=RandomForestRegressor()\n",
        "d_rf.fit(X,y)\n",
        "#predict test values\n",
        "y_pred_rf = d_rf.predict(X_test)\n",
        "y_pred_train_rf=d_rf.predict(X)\n",
        "#calculating train and test accuracy using mape\n",
        "print(\"Training accuracy: \",1-mean_absolute_percentage_error(y,y_pred_train_rf),\"Test accuracy: \",1-mean_absolute_percentage_error(y_test,y_pred_rf))\n"
      ],
      "metadata": {
        "id": "rFJPaoHiqRiu",
        "colab": {
          "base_uri": "https://localhost:8080/"
        },
        "outputId": "d9df44eb-4ed8-4b41-e53e-ae977e7d8853"
      },
      "execution_count": 35,
      "outputs": [
        {
          "output_type": "stream",
          "name": "stdout",
          "text": [
            "Training accuracy:  0.9363989376165507 Test accuracy:  0.823713428200728\n"
          ]
        }
      ]
    },
    {
      "cell_type": "markdown",
      "source": [
        "**Tuned Model:**"
      ],
      "metadata": {
        "id": "M4Ntf9A1Rusl"
      }
    },
    {
      "cell_type": "code",
      "source": [
        "#creating a range of features to choose from\n",
        "feature=np.arange(1,10)"
      ],
      "metadata": {
        "id": "-wPt8gonFCjt"
      },
      "execution_count": null,
      "outputs": []
    },
    {
      "cell_type": "code",
      "source": [
        "#grid search to select the best model\n",
        "from sklearn.model_selection import GridSearchCV\n",
        "gridrf=GridSearchCV(RandomForestRegressor(), cv=5, param_grid={\"n_estimators\":[100,150],\"max_features\":feature},n_jobs= -1, verbose = 1)"
      ],
      "metadata": {
        "id": "Par4IHqzA5zl"
      },
      "execution_count": null,
      "outputs": []
    },
    {
      "cell_type": "code",
      "source": [
        "#fitting the gridsearch model\n",
        "gridrf.fit(X,y)"
      ],
      "metadata": {
        "colab": {
          "base_uri": "https://localhost:8080/"
        },
        "id": "irRrcmZHGHiR",
        "outputId": "adb4777d-bd02-453f-df6b-5b1caa1a4023"
      },
      "execution_count": null,
      "outputs": [
        {
          "output_type": "stream",
          "name": "stdout",
          "text": [
            "Fitting 5 folds for each of 18 candidates, totalling 90 fits\n"
          ]
        },
        {
          "output_type": "execute_result",
          "data": {
            "text/plain": [
              "GridSearchCV(cv=5, estimator=RandomForestRegressor(), n_jobs=-1,\n",
              "             param_grid={'max_features': array([1, 2, 3, 4, 5, 6, 7, 8, 9]),\n",
              "                         'n_estimators': [100, 150]},\n",
              "             verbose=1)"
            ]
          },
          "metadata": {},
          "execution_count": 139
        }
      ]
    },
    {
      "cell_type": "code",
      "source": [
        "#finding the best  parameters\n",
        "gridrf.best_params_"
      ],
      "metadata": {
        "colab": {
          "base_uri": "https://localhost:8080/"
        },
        "id": "Wsrez2weG2xT",
        "outputId": "e36e4bd0-54ac-4594-cf2e-917b1aa5ef94"
      },
      "execution_count": null,
      "outputs": [
        {
          "output_type": "execute_result",
          "data": {
            "text/plain": [
              "{'max_features': 8, 'n_estimators': 100}"
            ]
          },
          "metadata": {},
          "execution_count": 140
        }
      ]
    },
    {
      "cell_type": "code",
      "source": [
        "#fitting  the random forest model \n",
        "rf=RandomForestRegressor(n_estimators=150 ,max_features=8)\n",
        "rf.fit(X,y)"
      ],
      "metadata": {
        "colab": {
          "base_uri": "https://localhost:8080/"
        },
        "id": "doMDnovnG3Re",
        "outputId": "d286edf3-cf5a-45a6-fad0-44de730f80b8"
      },
      "execution_count": 36,
      "outputs": [
        {
          "output_type": "execute_result",
          "data": {
            "text/plain": [
              "RandomForestRegressor(max_features=8, n_estimators=150)"
            ]
          },
          "metadata": {},
          "execution_count": 36
        }
      ]
    },
    {
      "cell_type": "code",
      "source": [
        "#finding train/test accuracy through mape\n",
        "y_pred_rf = rf.predict(X_test)\n",
        "y_pred_rf_train=rf.predict(X)\n",
        "print(\"Training accuracy: \",1-mean_absolute_percentage_error(y,y_pred_rf_train),\"Test accuracy: \",1-mean_absolute_percentage_error(y_test,y_pred_rf))\n"
      ],
      "metadata": {
        "colab": {
          "base_uri": "https://localhost:8080/"
        },
        "id": "_-MEhwHOC7FF",
        "outputId": "8438784f-ec23-4def-d77d-407e40c22cfc"
      },
      "execution_count": 37,
      "outputs": [
        {
          "output_type": "stream",
          "name": "stdout",
          "text": [
            "Training accuracy:  0.9328987283243113 Test accuracy:  0.8123399177263458\n"
          ]
        }
      ]
    },
    {
      "cell_type": "markdown",
      "source": [
        "**Insights post-experimentation**"
      ],
      "metadata": {
        "id": "5i6gXBqXSPc6"
      }
    },
    {
      "cell_type": "markdown",
      "source": [
        "1. We observed that performing grid search and tuning the hyperparameters of bagged and random forest models did not give better results. In fact, there was hardly a 1 percentage point difference between the training/test accuracies of both default and tuned models. This shows that tuning does not seem to impact the train/test accuracies of the bagged and random forest models.\n",
        "\n",
        "2. This experiment prompted us to again conduct an experiment with the base regressor and see its impact on the test/train accuracies."
      ],
      "metadata": {
        "id": "mEtex1cPS8Hz"
      }
    },
    {
      "cell_type": "markdown",
      "source": [
        "**Tuning base estimators/regressors of both models:**"
      ],
      "metadata": {
        "id": "5a9psVvnUsz5"
      }
    },
    {
      "cell_type": "markdown",
      "source": [
        "*Defining parameters of the base regressor:*"
      ],
      "metadata": {
        "id": "kKelr8JTYZKR"
      }
    },
    {
      "cell_type": "code",
      "source": [
        "#range\n",
        "depth=np.arange(1,15)"
      ],
      "metadata": {
        "id": "rIoRm6_zWuX4"
      },
      "execution_count": 42,
      "outputs": []
    },
    {
      "cell_type": "code",
      "source": [
        "#performing gridsearch to tune the base regressor\n",
        "grid=GridSearchCV(DecisionTreeRegressor(),param_grid={\"max_depth\":depth,\"min_samples_leaf\":[2,4,6,8],\"min_samples_split\":[2,4,6,8]},n_jobs=-1,cv=5)\n",
        "grid.fit(X,y)"
      ],
      "metadata": {
        "colab": {
          "base_uri": "https://localhost:8080/"
        },
        "id": "jsifZJSRUsJj",
        "outputId": "4019798f-7db4-4001-a7d1-3cd81faba38b"
      },
      "execution_count": 44,
      "outputs": [
        {
          "output_type": "execute_result",
          "data": {
            "text/plain": [
              "GridSearchCV(cv=5, estimator=DecisionTreeRegressor(), n_jobs=-1,\n",
              "             param_grid={'max_depth': array([ 1,  2,  3,  4,  5,  6,  7,  8,  9, 10, 11, 12, 13, 14]),\n",
              "                         'min_samples_leaf': [2, 4, 6, 8],\n",
              "                         'min_samples_split': [2, 4, 6, 8]})"
            ]
          },
          "metadata": {},
          "execution_count": 44
        }
      ]
    },
    {
      "cell_type": "code",
      "source": [
        "#finding best parameters\n",
        "grid.best_params_"
      ],
      "metadata": {
        "colab": {
          "base_uri": "https://localhost:8080/"
        },
        "id": "8xfsav5bSUfZ",
        "outputId": "1af96285-a7ac-4e64-949f-6babf2345434"
      },
      "execution_count": 45,
      "outputs": [
        {
          "output_type": "execute_result",
          "data": {
            "text/plain": [
              "{'max_depth': 12, 'min_samples_leaf': 2, 'min_samples_split': 6}"
            ]
          },
          "metadata": {},
          "execution_count": 45
        }
      ]
    },
    {
      "cell_type": "code",
      "source": [
        "#defining  base estimator\n",
        "base_dt=DecisionTreeRegressor(max_depth=12,min_samples_leaf=2,min_samples_split=6)"
      ],
      "metadata": {
        "id": "uIHELYTOYI8y"
      },
      "execution_count": 46,
      "outputs": []
    },
    {
      "cell_type": "markdown",
      "source": [
        "*A.Tuning Bagged Model with  new base estimator:*"
      ],
      "metadata": {
        "id": "hcAEG9Q-U0r9"
      }
    },
    {
      "cell_type": "code",
      "source": [
        "#fitting bagged model\n",
        "bagged=BaggingRegressor(base_estimator=base_dt)\n",
        "bagged.fit(X,y)\n",
        "#predicting train and test values\n",
        "bagged_pred_train=bagged.predict(X)\n",
        "bagged_pred_test=bagged.predict(X_test)\n",
        "#train/test accuracy\n",
        "print(\"Training accuracy: \",1-mean_absolute_percentage_error(y,bagged_pred_train),\"Test accuracy: \",1-mean_absolute_percentage_error(y_test,bagged_pred_test))\n"
      ],
      "metadata": {
        "colab": {
          "base_uri": "https://localhost:8080/"
        },
        "id": "yz5SVpkMYm-v",
        "outputId": "4666c332-8928-47c3-cad3-b9c7b8e6a74b"
      },
      "execution_count": 47,
      "outputs": [
        {
          "output_type": "stream",
          "name": "stdout",
          "text": [
            "Training accuracy:  0.816156934229439 Test accuracy:  0.7679951829138064\n"
          ]
        }
      ]
    },
    {
      "cell_type": "markdown",
      "source": [
        "*B.Tuning Random Forest Model with  new base estimator:*"
      ],
      "metadata": {
        "id": "n9zA37W2VEUR"
      }
    },
    {
      "cell_type": "code",
      "source": [
        "#fitting random forest model\n",
        "rfr=RandomForestRegressor(max_depth=12,min_samples_leaf=2,min_samples_split=6)\n",
        "rfr.fit(X,y)\n",
        "#predicting train and test values\n",
        "rfr_pred_train=rfr.predict(X)\n",
        "rfr_pred_test=rfr.predict(X_test)\n",
        "#train/test accuracy\n",
        "print(\"Training accuracy: \",1-mean_absolute_percentage_error(y,rfr_pred_train),\"Test accuracy: \",1-mean_absolute_percentage_error(y_test,rfr_pred_test))\n"
      ],
      "metadata": {
        "colab": {
          "base_uri": "https://localhost:8080/"
        },
        "id": "Kwbg6szgVGr3",
        "outputId": "07a99af9-3113-4572-cc46-c52abd369961"
      },
      "execution_count": 48,
      "outputs": [
        {
          "output_type": "stream",
          "name": "stdout",
          "text": [
            "Training accuracy:  0.8196407408367005 Test accuracy:  0.7711179190195139\n"
          ]
        }
      ]
    },
    {
      "cell_type": "markdown",
      "source": [
        "As is visible with this experiment, tuning the base regressor in bagged model and changing hyperparameters of DTs in random forest model yet again yields similar test/train accuracies. Although the  training accuracy and difference between  train/test accuracies decreases, we see that the model learns less compared to the experiments before."
      ],
      "metadata": {
        "id": "46Mc08T_iNRI"
      }
    },
    {
      "cell_type": "markdown",
      "source": [
        "**Conclusion:**\n",
        "Based on our experiments,  we can conclude that bagging models and random forest models yield similar results in terms of train/test accuracies. One model does not seem to outperform another. "
      ],
      "metadata": {
        "id": "ziKnNtd6iGGX"
      }
    }
  ]
}