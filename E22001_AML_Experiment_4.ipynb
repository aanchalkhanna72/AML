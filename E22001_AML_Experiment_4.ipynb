{
  "nbformat": 4,
  "nbformat_minor": 0,
  "metadata": {
    "colab": {
      "name": "E22001 AML Experiment 4.ipynb",
      "provenance": [],
      "collapsed_sections": [],
      "authorship_tag": "ABX9TyPEsK+e/EQvhG7uLsqcn5Ap",
      "include_colab_link": true
    },
    "kernelspec": {
      "name": "python3",
      "display_name": "Python 3"
    },
    "language_info": {
      "name": "python"
    }
  },
  "cells": [
    {
      "cell_type": "markdown",
      "metadata": {
        "id": "view-in-github",
        "colab_type": "text"
      },
      "source": [
        "<a href=\"https://colab.research.google.com/github/aanchalkhanna72/aanchalkhanna72/blob/main/E22001_AML_Experiment_4.ipynb\" target=\"_parent\"><img src=\"https://colab.research.google.com/assets/colab-badge.svg\" alt=\"Open In Colab\"/></a>"
      ]
    },
    {
      "cell_type": "markdown",
      "source": [
        "**E22001 Aanchal Khanna**"
      ],
      "metadata": {
        "id": "GVq17nd-tcR8"
      }
    },
    {
      "cell_type": "markdown",
      "source": [
        "**Experiment 4: Objective - Observing and Comparing Variance of KNN model when Number of Neighbors is Increased**"
      ],
      "metadata": {
        "id": "UxnECXJdc_v3"
      }
    },
    {
      "cell_type": "markdown",
      "source": [
        "**Hypothesis: KNN Model with a lower value for number of neighbors is more complex, and will probably have more variance.**"
      ],
      "metadata": {
        "id": "tNxy2Gak4g30"
      }
    },
    {
      "cell_type": "markdown",
      "source": [
        "**Let's check if that is reflected in our experiment..**"
      ],
      "metadata": {
        "id": "agYJLPZb42q5"
      }
    },
    {
      "cell_type": "code",
      "source": [
        "#importing libraries\n",
        "import pandas as pd\n",
        "import numpy as np\n",
        "from random import sample\n",
        "from sklearn.neighbors import KNeighborsRegressor\n",
        "import warnings\n",
        "warnings.filterwarnings(\"ignore\")"
      ],
      "metadata": {
        "id": "4dTUIAzWudpG"
      },
      "execution_count": 8,
      "outputs": []
    },
    {
      "cell_type": "code",
      "source": [
        "#importing dataset through github url\n",
        "cars=pd.read_csv(\"https://raw.githubusercontent.com/aanchalkhanna72/aanchalkhanna72/main/cars.csv\",sep=\",\")\n",
        "cars.head()"
      ],
      "metadata": {
        "colab": {
          "base_uri": "https://localhost:8080/",
          "height": 354
        },
        "id": "UxFOLMV-uTwe",
        "outputId": "0ab5b18a-3941-496d-d414-4714913d8cbf"
      },
      "execution_count": 10,
      "outputs": [
        {
          "output_type": "execute_result",
          "data": {
            "text/plain": [
              "                         Car   MPG  Cylinders  Displacement  Horsepower  \\\n",
              "0  Chevrolet Chevelle Malibu  18.0          8         307.0         130   \n",
              "1          Buick Skylark 320  15.0          8         350.0         165   \n",
              "2         Plymouth Satellite  18.0          8         318.0         150   \n",
              "3              AMC Rebel SST  16.0          8         304.0         150   \n",
              "4                Ford Torino  17.0          8         302.0         140   \n",
              "\n",
              "   Weight  Acceleration  Model Origin  \\\n",
              "0    3504          12.0     70     US   \n",
              "1    3693          11.5     70     US   \n",
              "2    3436          11.0     70     US   \n",
              "3    3433          12.0     70     US   \n",
              "4    3449          10.5     70     US   \n",
              "\n",
              "                                          Unnamed: 9 Unnamed: 10 Unnamed: 11  \\\n",
              "0                                                NaN         NaN         NaN   \n",
              "1                                                NaN         NaN         NaN   \n",
              "2                                          For every    entity,    there are   \n",
              "3  each variable represents a characteristic of  ...         NaN         NaN   \n",
              "4                                  entity - 406 cars         NaN         NaN   \n",
              "\n",
              "                         Unnamed: 12  \n",
              "0                                NaN  \n",
              "1                                NaN  \n",
              "2  7 values so this is 1 observation  \n",
              "3                                NaN  \n",
              "4                                NaN  "
            ],
            "text/html": [
              "\n",
              "  <div id=\"df-a398f427-ac35-4e5b-b1ad-50d29cf1bdff\">\n",
              "    <div class=\"colab-df-container\">\n",
              "      <div>\n",
              "<style scoped>\n",
              "    .dataframe tbody tr th:only-of-type {\n",
              "        vertical-align: middle;\n",
              "    }\n",
              "\n",
              "    .dataframe tbody tr th {\n",
              "        vertical-align: top;\n",
              "    }\n",
              "\n",
              "    .dataframe thead th {\n",
              "        text-align: right;\n",
              "    }\n",
              "</style>\n",
              "<table border=\"1\" class=\"dataframe\">\n",
              "  <thead>\n",
              "    <tr style=\"text-align: right;\">\n",
              "      <th></th>\n",
              "      <th>Car</th>\n",
              "      <th>MPG</th>\n",
              "      <th>Cylinders</th>\n",
              "      <th>Displacement</th>\n",
              "      <th>Horsepower</th>\n",
              "      <th>Weight</th>\n",
              "      <th>Acceleration</th>\n",
              "      <th>Model</th>\n",
              "      <th>Origin</th>\n",
              "      <th>Unnamed: 9</th>\n",
              "      <th>Unnamed: 10</th>\n",
              "      <th>Unnamed: 11</th>\n",
              "      <th>Unnamed: 12</th>\n",
              "    </tr>\n",
              "  </thead>\n",
              "  <tbody>\n",
              "    <tr>\n",
              "      <th>0</th>\n",
              "      <td>Chevrolet Chevelle Malibu</td>\n",
              "      <td>18.0</td>\n",
              "      <td>8</td>\n",
              "      <td>307.0</td>\n",
              "      <td>130</td>\n",
              "      <td>3504</td>\n",
              "      <td>12.0</td>\n",
              "      <td>70</td>\n",
              "      <td>US</td>\n",
              "      <td>NaN</td>\n",
              "      <td>NaN</td>\n",
              "      <td>NaN</td>\n",
              "      <td>NaN</td>\n",
              "    </tr>\n",
              "    <tr>\n",
              "      <th>1</th>\n",
              "      <td>Buick Skylark 320</td>\n",
              "      <td>15.0</td>\n",
              "      <td>8</td>\n",
              "      <td>350.0</td>\n",
              "      <td>165</td>\n",
              "      <td>3693</td>\n",
              "      <td>11.5</td>\n",
              "      <td>70</td>\n",
              "      <td>US</td>\n",
              "      <td>NaN</td>\n",
              "      <td>NaN</td>\n",
              "      <td>NaN</td>\n",
              "      <td>NaN</td>\n",
              "    </tr>\n",
              "    <tr>\n",
              "      <th>2</th>\n",
              "      <td>Plymouth Satellite</td>\n",
              "      <td>18.0</td>\n",
              "      <td>8</td>\n",
              "      <td>318.0</td>\n",
              "      <td>150</td>\n",
              "      <td>3436</td>\n",
              "      <td>11.0</td>\n",
              "      <td>70</td>\n",
              "      <td>US</td>\n",
              "      <td>For every</td>\n",
              "      <td>entity,</td>\n",
              "      <td>there are</td>\n",
              "      <td>7 values so this is 1 observation</td>\n",
              "    </tr>\n",
              "    <tr>\n",
              "      <th>3</th>\n",
              "      <td>AMC Rebel SST</td>\n",
              "      <td>16.0</td>\n",
              "      <td>8</td>\n",
              "      <td>304.0</td>\n",
              "      <td>150</td>\n",
              "      <td>3433</td>\n",
              "      <td>12.0</td>\n",
              "      <td>70</td>\n",
              "      <td>US</td>\n",
              "      <td>each variable represents a characteristic of  ...</td>\n",
              "      <td>NaN</td>\n",
              "      <td>NaN</td>\n",
              "      <td>NaN</td>\n",
              "    </tr>\n",
              "    <tr>\n",
              "      <th>4</th>\n",
              "      <td>Ford Torino</td>\n",
              "      <td>17.0</td>\n",
              "      <td>8</td>\n",
              "      <td>302.0</td>\n",
              "      <td>140</td>\n",
              "      <td>3449</td>\n",
              "      <td>10.5</td>\n",
              "      <td>70</td>\n",
              "      <td>US</td>\n",
              "      <td>entity - 406 cars</td>\n",
              "      <td>NaN</td>\n",
              "      <td>NaN</td>\n",
              "      <td>NaN</td>\n",
              "    </tr>\n",
              "  </tbody>\n",
              "</table>\n",
              "</div>\n",
              "      <button class=\"colab-df-convert\" onclick=\"convertToInteractive('df-a398f427-ac35-4e5b-b1ad-50d29cf1bdff')\"\n",
              "              title=\"Convert this dataframe to an interactive table.\"\n",
              "              style=\"display:none;\">\n",
              "        \n",
              "  <svg xmlns=\"http://www.w3.org/2000/svg\" height=\"24px\"viewBox=\"0 0 24 24\"\n",
              "       width=\"24px\">\n",
              "    <path d=\"M0 0h24v24H0V0z\" fill=\"none\"/>\n",
              "    <path d=\"M18.56 5.44l.94 2.06.94-2.06 2.06-.94-2.06-.94-.94-2.06-.94 2.06-2.06.94zm-11 1L8.5 8.5l.94-2.06 2.06-.94-2.06-.94L8.5 2.5l-.94 2.06-2.06.94zm10 10l.94 2.06.94-2.06 2.06-.94-2.06-.94-.94-2.06-.94 2.06-2.06.94z\"/><path d=\"M17.41 7.96l-1.37-1.37c-.4-.4-.92-.59-1.43-.59-.52 0-1.04.2-1.43.59L10.3 9.45l-7.72 7.72c-.78.78-.78 2.05 0 2.83L4 21.41c.39.39.9.59 1.41.59.51 0 1.02-.2 1.41-.59l7.78-7.78 2.81-2.81c.8-.78.8-2.07 0-2.86zM5.41 20L4 18.59l7.72-7.72 1.47 1.35L5.41 20z\"/>\n",
              "  </svg>\n",
              "      </button>\n",
              "      \n",
              "  <style>\n",
              "    .colab-df-container {\n",
              "      display:flex;\n",
              "      flex-wrap:wrap;\n",
              "      gap: 12px;\n",
              "    }\n",
              "\n",
              "    .colab-df-convert {\n",
              "      background-color: #E8F0FE;\n",
              "      border: none;\n",
              "      border-radius: 50%;\n",
              "      cursor: pointer;\n",
              "      display: none;\n",
              "      fill: #1967D2;\n",
              "      height: 32px;\n",
              "      padding: 0 0 0 0;\n",
              "      width: 32px;\n",
              "    }\n",
              "\n",
              "    .colab-df-convert:hover {\n",
              "      background-color: #E2EBFA;\n",
              "      box-shadow: 0px 1px 2px rgba(60, 64, 67, 0.3), 0px 1px 3px 1px rgba(60, 64, 67, 0.15);\n",
              "      fill: #174EA6;\n",
              "    }\n",
              "\n",
              "    [theme=dark] .colab-df-convert {\n",
              "      background-color: #3B4455;\n",
              "      fill: #D2E3FC;\n",
              "    }\n",
              "\n",
              "    [theme=dark] .colab-df-convert:hover {\n",
              "      background-color: #434B5C;\n",
              "      box-shadow: 0px 1px 3px 1px rgba(0, 0, 0, 0.15);\n",
              "      filter: drop-shadow(0px 1px 2px rgba(0, 0, 0, 0.3));\n",
              "      fill: #FFFFFF;\n",
              "    }\n",
              "  </style>\n",
              "\n",
              "      <script>\n",
              "        const buttonEl =\n",
              "          document.querySelector('#df-a398f427-ac35-4e5b-b1ad-50d29cf1bdff button.colab-df-convert');\n",
              "        buttonEl.style.display =\n",
              "          google.colab.kernel.accessAllowed ? 'block' : 'none';\n",
              "\n",
              "        async function convertToInteractive(key) {\n",
              "          const element = document.querySelector('#df-a398f427-ac35-4e5b-b1ad-50d29cf1bdff');\n",
              "          const dataTable =\n",
              "            await google.colab.kernel.invokeFunction('convertToInteractive',\n",
              "                                                     [key], {});\n",
              "          if (!dataTable) return;\n",
              "\n",
              "          const docLinkHtml = 'Like what you see? Visit the ' +\n",
              "            '<a target=\"_blank\" href=https://colab.research.google.com/notebooks/data_table.ipynb>data table notebook</a>'\n",
              "            + ' to learn more about interactive tables.';\n",
              "          element.innerHTML = '';\n",
              "          dataTable['output_type'] = 'display_data';\n",
              "          await google.colab.output.renderOutput(dataTable, element);\n",
              "          const docLink = document.createElement('div');\n",
              "          docLink.innerHTML = docLinkHtml;\n",
              "          element.appendChild(docLink);\n",
              "        }\n",
              "      </script>\n",
              "    </div>\n",
              "  </div>\n",
              "  "
            ]
          },
          "metadata": {},
          "execution_count": 10
        }
      ]
    },
    {
      "cell_type": "code",
      "source": [
        "#selecting columns for analysis\n",
        "data=cars[[\"Horsepower\",\"Cylinders\",\"Weight\",\"Displacement\",\"MPG\"]]\n"
      ],
      "metadata": {
        "id": "TDBMhqpVucdI"
      },
      "execution_count": 11,
      "outputs": []
    },
    {
      "cell_type": "code",
      "source": [
        "#checking data head,length\n",
        "data.head(),len(data)"
      ],
      "metadata": {
        "id": "ukkNRJR_uxOm",
        "colab": {
          "base_uri": "https://localhost:8080/"
        },
        "outputId": "5e888b02-b795-4c92-f112-0086e02a90ec"
      },
      "execution_count": 12,
      "outputs": [
        {
          "output_type": "execute_result",
          "data": {
            "text/plain": [
              "(   Horsepower  Cylinders  Weight  Displacement   MPG\n",
              " 0         130          8    3504         307.0  18.0\n",
              " 1         165          8    3693         350.0  15.0\n",
              " 2         150          8    3436         318.0  18.0\n",
              " 3         150          8    3433         304.0  16.0\n",
              " 4         140          8    3449         302.0  17.0, 406)"
            ]
          },
          "metadata": {},
          "execution_count": 12
        }
      ]
    },
    {
      "cell_type": "markdown",
      "source": [
        "**Step 1: Test-Train Split**"
      ],
      "metadata": {
        "id": "NRKTG-FMdjrz"
      }
    },
    {
      "cell_type": "code",
      "source": [
        "#segregating test observation from training data\n",
        "test=data.sample(n=1,random_state=1)\n",
        "X_test=test[[\"Horsepower\",\"Cylinders\",\"Weight\",\"Displacement\"]]\n",
        "y_test=test[[\"MPG\"]]"
      ],
      "metadata": {
        "id": "U7HiJks9DiLt"
      },
      "execution_count": 13,
      "outputs": []
    },
    {
      "cell_type": "code",
      "source": [
        "#creating training set for random sampling and model fitting\n",
        "train=data[[\"Horsepower\",\"Cylinders\",\"Weight\",\"Displacement\",\"MPG\"]]\n",
        "#dropping test observation from  train  data\n",
        "train.drop(test.index,inplace=True)\n",
        "len(X_test),len(y_test),len(train)"
      ],
      "metadata": {
        "colab": {
          "base_uri": "https://localhost:8080/"
        },
        "id": "mcPFIgE6T0hi",
        "outputId": "7428c2ae-3645-4084-8b47-1f3b9c2b3fb6"
      },
      "execution_count": 14,
      "outputs": [
        {
          "output_type": "execute_result",
          "data": {
            "text/plain": [
              "(1, 1, 405)"
            ]
          },
          "metadata": {},
          "execution_count": 14
        }
      ]
    },
    {
      "cell_type": "markdown",
      "source": [
        "**Step 2: Drawing 200 Random Samples, Fitting KNN models on respective samples**"
      ],
      "metadata": {
        "id": "pKJ6TyRz2e7i"
      }
    },
    {
      "cell_type": "markdown",
      "source": [
        "**Fitting model on k=2**"
      ],
      "metadata": {
        "id": "xcYQ-MwuCPww"
      }
    },
    {
      "cell_type": "code",
      "source": [
        "y_predictions2=[]\n",
        "for i in range (1,201):\n",
        "  #generate 200 random samples  of 80 observations each\n",
        "  smpl=train.sample(n=80)\n",
        "  #split training data into predictors and target\n",
        "  X_train_smpl=smpl[[\"Cylinders\",\"Horsepower\",\"Weight\",\"Displacement\"]]\n",
        "  y_train_smpl=smpl[[\"MPG\"]]\n",
        "  #fitting KNN model on each sample\n",
        "        #Step 1: instantiate learning model\n",
        "  knn=KNeighborsRegressor(metric='euclidean',n_neighbors=2) #5-NN default using euclidean distance  \n",
        "        #Step 2: fitting the model\n",
        "  knn.fit(X_train_smpl,y_train_smpl)\n",
        "  #predicting the MPG of test observation\n",
        "  y_pred=knn.predict(X_test)\n",
        "  y_predictions2.append(y_pred)\n",
        "print(y_predictions2)"
      ],
      "metadata": {
        "colab": {
          "base_uri": "https://localhost:8080/"
        },
        "id": "ktPt_fSCqPdR",
        "outputId": "f5e5d644-bbfb-429a-dda0-5d28b30f9469"
      },
      "execution_count": 19,
      "outputs": [
        {
          "output_type": "stream",
          "name": "stdout",
          "text": [
            "[array([[26.5]]), array([[35.35]]), array([[34.1]]), array([[25.5]]), array([[30.1]]), array([[26.]]), array([[25.5]]), array([[28.85]]), array([[30.1]]), array([[35.]]), array([[29.35]]), array([[34.25]]), array([[30.35]]), array([[30.65]]), array([[32.55]]), array([[29.6]]), array([[26.75]]), array([[25.25]]), array([[33.5]]), array([[32.35]]), array([[32.45]]), array([[31.]]), array([[34.5]]), array([[29.5]]), array([[32.6]]), array([[29.6]]), array([[31.]]), array([[28.]]), array([[26.75]]), array([[23.75]]), array([[27.5]]), array([[29.65]]), array([[32.]]), array([[25.5]]), array([[29.25]]), array([[24.5]]), array([[28.6]]), array([[26.]]), array([[28.25]]), array([[28.85]]), array([[28.]]), array([[29.75]]), array([[32.45]]), array([[32.45]]), array([[30.35]]), array([[27.5]]), array([[30.35]]), array([[29.6]]), array([[30.25]]), array([[29.35]]), array([[28.45]]), array([[30.1]]), array([[30.1]]), array([[33.85]]), array([[30.5]]), array([[28.75]]), array([[29.6]]), array([[27.75]]), array([[33.5]]), array([[35.35]]), array([[28.25]]), array([[29.]]), array([[28.]]), array([[29.6]]), array([[30.]]), array([[28.65]]), array([[26.5]]), array([[30.5]]), array([[34.45]]), array([[24.5]]), array([[30.35]]), array([[30.6]]), array([[31.]]), array([[32.6]]), array([[32.5]]), array([[28.95]]), array([[29.6]]), array([[27.75]]), array([[25.5]]), array([[32.25]]), array([[28.]]), array([[33.6]]), array([[31.]]), array([[29.5]]), array([[32.5]]), array([[28.85]]), array([[34.5]]), array([[27.75]]), array([[28.]]), array([[33.85]]), array([[29.6]]), array([[32.8]]), array([[32.15]]), array([[35.35]]), array([[25.]]), array([[32.55]]), array([[26.]]), array([[25.75]]), array([[26.]]), array([[31.5]]), array([[28.5]]), array([[29.]]), array([[25.25]]), array([[28.25]]), array([[25.5]]), array([[28.6]]), array([[28.6]]), array([[37.9]]), array([[29.6]]), array([[29.6]]), array([[28.]]), array([[33.85]]), array([[29.5]]), array([[26.]]), array([[30.1]]), array([[29.]]), array([[25.5]]), array([[27.]]), array([[28.95]]), array([[28.6]]), array([[30.35]]), array([[29.]]), array([[32.45]]), array([[33.5]]), array([[29.85]]), array([[34.45]]), array([[24.]]), array([[33.6]]), array([[33.6]]), array([[33.45]]), array([[24.5]]), array([[25.]]), array([[26.]]), array([[26.5]]), array([[30.1]]), array([[28.85]]), array([[31.95]]), array([[27.]]), array([[28.75]]), array([[34.45]]), array([[28.]]), array([[24.]]), array([[29.75]]), array([[29.85]]), array([[33.6]]), array([[24.]]), array([[30.15]]), array([[28.25]]), array([[23.]]), array([[26.95]]), array([[34.35]]), array([[26.]]), array([[35.]]), array([[34.45]]), array([[26.5]]), array([[29.]]), array([[35.]]), array([[30.5]]), array([[24.5]]), array([[34.5]]), array([[35.35]]), array([[31.]]), array([[23.75]]), array([[36.65]]), array([[28.]]), array([[25.5]]), array([[28.6]]), array([[30.1]]), array([[27.7]]), array([[33.6]]), array([[27.]]), array([[32.5]]), array([[31.75]]), array([[30.1]]), array([[30.25]]), array([[25.5]]), array([[25.]]), array([[29.5]]), array([[27.5]]), array([[29.25]]), array([[27.75]]), array([[29.4]]), array([[25.5]]), array([[28.5]]), array([[25.25]]), array([[29.65]]), array([[29.25]]), array([[27.75]]), array([[28.85]]), array([[22.5]]), array([[29.95]]), array([[29.6]]), array([[27.7]]), array([[27.]]), array([[24.5]]), array([[30.85]]), array([[27.]]), array([[30.85]]), array([[30.5]]), array([[36.]])]\n"
          ]
        }
      ]
    },
    {
      "cell_type": "code",
      "source": [
        "#calcualting variance of the DT model\n",
        "variance=(np.sum(np.asarray(y_predictions2)**2)/200-1)-(np.mean(y_predictions2)**2)\n",
        "variance"
      ],
      "metadata": {
        "id": "4Y-XmmFKgSYE",
        "colab": {
          "base_uri": "https://localhost:8080/"
        },
        "outputId": "29441b25-d5d2-41e0-f4d0-e2ffe696363a"
      },
      "execution_count": 20,
      "outputs": [
        {
          "output_type": "execute_result",
          "data": {
            "text/plain": [
              "8.566006000000016"
            ]
          },
          "metadata": {},
          "execution_count": 20
        }
      ]
    },
    {
      "cell_type": "code",
      "source": [
        "#double checking variance of the DT model\n",
        "np.var(y_predictions2)"
      ],
      "metadata": {
        "colab": {
          "base_uri": "https://localhost:8080/"
        },
        "id": "so9UJtY5B1jU",
        "outputId": "417652e3-4d8f-4202-85a2-fdae02ed39c6"
      },
      "execution_count": 21,
      "outputs": [
        {
          "output_type": "execute_result",
          "data": {
            "text/plain": [
              "9.566006"
            ]
          },
          "metadata": {},
          "execution_count": 21
        }
      ]
    },
    {
      "cell_type": "markdown",
      "source": [
        "**Fitting model on k=10**"
      ],
      "metadata": {
        "id": "F0lnNSsgCX6B"
      }
    },
    {
      "cell_type": "code",
      "source": [
        "y_predictions10=[]\n",
        "for i in range (1,201):\n",
        "  #generate 200 random samples  of 80 observations each\n",
        "  smpl=train.sample(n=80)\n",
        "  #split training data into predictors and target\n",
        "  X_train_smpl=smpl[[\"Cylinders\",\"Horsepower\",\"Weight\",\"Displacement\"]]\n",
        "  y_train_smpl=smpl[[\"MPG\"]]\n",
        "  #fitting KNN model on each sample\n",
        "        #Step 1: instantiate learning model\n",
        "  knn=KNeighborsRegressor(metric='euclidean',n_neighbors=10) #5-NN default using euclidean distance  \n",
        "        #Step 2: fitting the model\n",
        "  knn.fit(X_train_smpl,y_train_smpl)\n",
        "  #predicting the MPG of test observation\n",
        "  y_pred=knn.predict(X_test)\n",
        "  y_predictions10.append(y_pred)\n",
        "print(y_predictions10)"
      ],
      "metadata": {
        "colab": {
          "base_uri": "https://localhost:8080/"
        },
        "id": "DrkLmJZMCJJ_",
        "outputId": "fc71c048-7cd9-438e-f17d-a786d21fcb54"
      },
      "execution_count": 22,
      "outputs": [
        {
          "output_type": "stream",
          "name": "stdout",
          "text": [
            "[array([[31.71]]), array([[31.79]]), array([[29.63]]), array([[29.62]]), array([[31.55]]), array([[31.14]]), array([[32.2]]), array([[32.09]]), array([[32.86]]), array([[30.07]]), array([[28.14]]), array([[30.65]]), array([[31.15]]), array([[30.66]]), array([[31.69]]), array([[30.71]]), array([[27.45]]), array([[29.34]]), array([[31.]]), array([[29.86]]), array([[31.85]]), array([[27.61]]), array([[24.27]]), array([[30.37]]), array([[30.98]]), array([[32.43]]), array([[31.06]]), array([[31.33]]), array([[30.69]]), array([[29.18]]), array([[28.67]]), array([[30.15]]), array([[29.49]]), array([[31.31]]), array([[30.99]]), array([[28.2]]), array([[32.42]]), array([[30.68]]), array([[33.19]]), array([[29.03]]), array([[31.26]]), array([[29.83]]), array([[29.84]]), array([[32.68]]), array([[28.28]]), array([[28.]]), array([[30.91]]), array([[33.57]]), array([[33.06]]), array([[30.96]]), array([[28.61]]), array([[28.79]]), array([[30.86]]), array([[32.06]]), array([[28.64]]), array([[28.6]]), array([[29.95]]), array([[29.16]]), array([[31.47]]), array([[28.77]]), array([[29.05]]), array([[31.27]]), array([[26.28]]), array([[28.78]]), array([[32.9]]), array([[29.57]]), array([[31.91]]), array([[27.74]]), array([[29.03]]), array([[29.84]]), array([[29.82]]), array([[31.01]]), array([[29.86]]), array([[30.18]]), array([[28.45]]), array([[27.82]]), array([[29.15]]), array([[28.42]]), array([[31.43]]), array([[30.05]]), array([[27.73]]), array([[31.3]]), array([[29.43]]), array([[31.09]]), array([[27.65]]), array([[27.4]]), array([[29.95]]), array([[29.75]]), array([[28.77]]), array([[31.05]]), array([[29.84]]), array([[27.15]]), array([[30.26]]), array([[29.69]]), array([[29.76]]), array([[30.2]]), array([[30.25]]), array([[29.68]]), array([[30.13]]), array([[27.95]]), array([[28.97]]), array([[31.97]]), array([[27.55]]), array([[26.5]]), array([[30.19]]), array([[28.85]]), array([[31.78]]), array([[29.06]]), array([[29.03]]), array([[31.68]]), array([[29.09]]), array([[29.45]]), array([[28.49]]), array([[28.75]]), array([[29.54]]), array([[30.26]]), array([[27.15]]), array([[30.33]]), array([[28.72]]), array([[30.52]]), array([[29.1]]), array([[28.33]]), array([[30.04]]), array([[31.66]]), array([[33.4]]), array([[29.48]]), array([[31.03]]), array([[30.59]]), array([[31.02]]), array([[29.3]]), array([[30.]]), array([[30.65]]), array([[30.07]]), array([[26.86]]), array([[32.22]]), array([[31.04]]), array([[31.71]]), array([[30.85]]), array([[27.16]]), array([[29.57]]), array([[28.56]]), array([[28.48]]), array([[30.99]]), array([[27.32]]), array([[31.53]]), array([[30.24]]), array([[29.91]]), array([[28.43]]), array([[29.81]]), array([[32.49]]), array([[28.5]]), array([[28.86]]), array([[28.44]]), array([[28.95]]), array([[31.58]]), array([[31.16]]), array([[29.8]]), array([[27.91]]), array([[29.56]]), array([[29.55]]), array([[28.63]]), array([[30.44]]), array([[31.28]]), array([[31.39]]), array([[27.02]]), array([[33.95]]), array([[26.72]]), array([[27.05]]), array([[30.46]]), array([[29.34]]), array([[31.98]]), array([[28.]]), array([[27.79]]), array([[29.85]]), array([[31.47]]), array([[31.94]]), array([[32.38]]), array([[28.65]]), array([[28.05]]), array([[29.83]]), array([[28.76]]), array([[27.41]]), array([[26.85]]), array([[28.15]]), array([[28.67]]), array([[30.91]]), array([[30.44]]), array([[27.01]]), array([[30.38]]), array([[29.23]]), array([[29.92]]), array([[31.83]]), array([[28.04]]), array([[30.09]]), array([[28.73]]), array([[32.14]]), array([[27.98]]), array([[31.3]]), array([[30.2]]), array([[29.31]])]\n"
          ]
        }
      ]
    },
    {
      "cell_type": "code",
      "source": [
        "#calcualting variance of the DT model\n",
        "variance=(np.sum(np.asarray(y_predictions10)**2)/200-1)-(np.mean(y_predictions10)**2)\n",
        "variance"
      ],
      "metadata": {
        "colab": {
          "base_uri": "https://localhost:8080/"
        },
        "id": "BCXKbcZtCnud",
        "outputId": "5d2170ad-0325-41c0-b20c-3db99211310b"
      },
      "execution_count": 23,
      "outputs": [
        {
          "output_type": "execute_result",
          "data": {
            "text/plain": [
              "1.6570647499997904"
            ]
          },
          "metadata": {},
          "execution_count": 23
        }
      ]
    },
    {
      "cell_type": "code",
      "source": [
        "#double checking variance of the DT model\n",
        "np.var(y_predictions10)"
      ],
      "metadata": {
        "colab": {
          "base_uri": "https://localhost:8080/"
        },
        "id": "JQYy0jAJCrck",
        "outputId": "40e42ae3-0ba5-48f5-eae0-6aca09412a37"
      },
      "execution_count": 24,
      "outputs": [
        {
          "output_type": "execute_result",
          "data": {
            "text/plain": [
              "2.65706475"
            ]
          },
          "metadata": {},
          "execution_count": 24
        }
      ]
    },
    {
      "cell_type": "markdown",
      "source": [
        "**Result: Our hypothesis is proved correct. The KNN model with k=2 has higher variation in the model as for each new observation, the model tries to predict the new target value using only 2 neighbors in  the training set. With the obvious influence of the  training values, the model attempts to go through almost all data points, which results  in overfitting, higher model complexity (and therefore higher variance).**"
      ],
      "metadata": {
        "id": "fo0a73j54ZS_"
      }
    },
    {
      "cell_type": "markdown",
      "source": [
        "Github link: https://github.com/aanchalkhanna72/aanchalkhanna72"
      ],
      "metadata": {
        "id": "Dm8OSzqsM6M5"
      }
    },
    {
      "cell_type": "code",
      "source": [
        ""
      ],
      "metadata": {
        "id": "-2llqLiXM8pw"
      },
      "execution_count": null,
      "outputs": []
    }
  ]
}