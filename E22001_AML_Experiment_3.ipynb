{
  "nbformat": 4,
  "nbformat_minor": 0,
  "metadata": {
    "colab": {
      "name": "E22001 AML Experiment 3.ipynb",
      "provenance": [],
      "collapsed_sections": [],
      "authorship_tag": "ABX9TyMFyvtlcIMn0QWnKmD5FRjI",
      "include_colab_link": true
    },
    "kernelspec": {
      "name": "python3",
      "display_name": "Python 3"
    },
    "language_info": {
      "name": "python"
    }
  },
  "cells": [
    {
      "cell_type": "markdown",
      "metadata": {
        "id": "view-in-github",
        "colab_type": "text"
      },
      "source": [
        "<a href=\"https://colab.research.google.com/github/aanchalkhanna72/aanchalkhanna72/blob/main/E22001_AML_Experiment_3.ipynb\" target=\"_parent\"><img src=\"https://colab.research.google.com/assets/colab-badge.svg\" alt=\"Open In Colab\"/></a>"
      ]
    },
    {
      "cell_type": "markdown",
      "source": [
        "**E22001 Aanchal Khanna**"
      ],
      "metadata": {
        "id": "GVq17nd-tcR8"
      }
    },
    {
      "cell_type": "markdown",
      "source": [
        "**Experiment 3: Objective - Observing and Comparing Variance of Decision Tree model when Min_samples_split is Increased**"
      ],
      "metadata": {
        "id": "UxnECXJdc_v3"
      }
    },
    {
      "cell_type": "markdown",
      "source": [
        "**Hypothesis: Min_samples_split refers to the number of samples required to split an internal node. Decision Tree Model with higher min_samples_split is less complex, and will probably have lower variance.**"
      ],
      "metadata": {
        "id": "tNxy2Gak4g30"
      }
    },
    {
      "cell_type": "markdown",
      "source": [
        "**Let's check if that is reflected in our experiment..**"
      ],
      "metadata": {
        "id": "agYJLPZb42q5"
      }
    },
    {
      "cell_type": "code",
      "source": [
        "#importing libraries\n",
        "import pandas as pd\n",
        "import numpy as np\n",
        "from random import sample\n",
        "from sklearn.tree import DecisionTreeRegressor\n",
        "import warnings\n",
        "warnings.filterwarnings(\"ignore\")"
      ],
      "metadata": {
        "id": "4dTUIAzWudpG"
      },
      "execution_count": 33,
      "outputs": []
    },
    {
      "cell_type": "code",
      "source": [
        "#importing dataset through local runtime\n",
        "cars=pd.read_csv(\"https://raw.githubusercontent.com/aanchalkhanna72/aanchalkhanna72/main/cars.csv\",sep=\",\")\n",
        "cars.head()"
      ],
      "metadata": {
        "colab": {
          "base_uri": "https://localhost:8080/",
          "height": 354
        },
        "id": "UxFOLMV-uTwe",
        "outputId": "c3942fa1-ac00-4bdf-fa73-aead3b392a1e"
      },
      "execution_count": 34,
      "outputs": [
        {
          "output_type": "execute_result",
          "data": {
            "text/plain": [
              "                         Car   MPG  Cylinders  Displacement  Horsepower  \\\n",
              "0  Chevrolet Chevelle Malibu  18.0          8         307.0         130   \n",
              "1          Buick Skylark 320  15.0          8         350.0         165   \n",
              "2         Plymouth Satellite  18.0          8         318.0         150   \n",
              "3              AMC Rebel SST  16.0          8         304.0         150   \n",
              "4                Ford Torino  17.0          8         302.0         140   \n",
              "\n",
              "   Weight  Acceleration  Model Origin  \\\n",
              "0    3504          12.0     70     US   \n",
              "1    3693          11.5     70     US   \n",
              "2    3436          11.0     70     US   \n",
              "3    3433          12.0     70     US   \n",
              "4    3449          10.5     70     US   \n",
              "\n",
              "                                          Unnamed: 9 Unnamed: 10 Unnamed: 11  \\\n",
              "0                                                NaN         NaN         NaN   \n",
              "1                                                NaN         NaN         NaN   \n",
              "2                                          For every    entity,    there are   \n",
              "3  each variable represents a characteristic of  ...         NaN         NaN   \n",
              "4                                  entity - 406 cars         NaN         NaN   \n",
              "\n",
              "                         Unnamed: 12  \n",
              "0                                NaN  \n",
              "1                                NaN  \n",
              "2  7 values so this is 1 observation  \n",
              "3                                NaN  \n",
              "4                                NaN  "
            ],
            "text/html": [
              "\n",
              "  <div id=\"df-89644cf1-97de-4b0a-a30b-ddea8b102d83\">\n",
              "    <div class=\"colab-df-container\">\n",
              "      <div>\n",
              "<style scoped>\n",
              "    .dataframe tbody tr th:only-of-type {\n",
              "        vertical-align: middle;\n",
              "    }\n",
              "\n",
              "    .dataframe tbody tr th {\n",
              "        vertical-align: top;\n",
              "    }\n",
              "\n",
              "    .dataframe thead th {\n",
              "        text-align: right;\n",
              "    }\n",
              "</style>\n",
              "<table border=\"1\" class=\"dataframe\">\n",
              "  <thead>\n",
              "    <tr style=\"text-align: right;\">\n",
              "      <th></th>\n",
              "      <th>Car</th>\n",
              "      <th>MPG</th>\n",
              "      <th>Cylinders</th>\n",
              "      <th>Displacement</th>\n",
              "      <th>Horsepower</th>\n",
              "      <th>Weight</th>\n",
              "      <th>Acceleration</th>\n",
              "      <th>Model</th>\n",
              "      <th>Origin</th>\n",
              "      <th>Unnamed: 9</th>\n",
              "      <th>Unnamed: 10</th>\n",
              "      <th>Unnamed: 11</th>\n",
              "      <th>Unnamed: 12</th>\n",
              "    </tr>\n",
              "  </thead>\n",
              "  <tbody>\n",
              "    <tr>\n",
              "      <th>0</th>\n",
              "      <td>Chevrolet Chevelle Malibu</td>\n",
              "      <td>18.0</td>\n",
              "      <td>8</td>\n",
              "      <td>307.0</td>\n",
              "      <td>130</td>\n",
              "      <td>3504</td>\n",
              "      <td>12.0</td>\n",
              "      <td>70</td>\n",
              "      <td>US</td>\n",
              "      <td>NaN</td>\n",
              "      <td>NaN</td>\n",
              "      <td>NaN</td>\n",
              "      <td>NaN</td>\n",
              "    </tr>\n",
              "    <tr>\n",
              "      <th>1</th>\n",
              "      <td>Buick Skylark 320</td>\n",
              "      <td>15.0</td>\n",
              "      <td>8</td>\n",
              "      <td>350.0</td>\n",
              "      <td>165</td>\n",
              "      <td>3693</td>\n",
              "      <td>11.5</td>\n",
              "      <td>70</td>\n",
              "      <td>US</td>\n",
              "      <td>NaN</td>\n",
              "      <td>NaN</td>\n",
              "      <td>NaN</td>\n",
              "      <td>NaN</td>\n",
              "    </tr>\n",
              "    <tr>\n",
              "      <th>2</th>\n",
              "      <td>Plymouth Satellite</td>\n",
              "      <td>18.0</td>\n",
              "      <td>8</td>\n",
              "      <td>318.0</td>\n",
              "      <td>150</td>\n",
              "      <td>3436</td>\n",
              "      <td>11.0</td>\n",
              "      <td>70</td>\n",
              "      <td>US</td>\n",
              "      <td>For every</td>\n",
              "      <td>entity,</td>\n",
              "      <td>there are</td>\n",
              "      <td>7 values so this is 1 observation</td>\n",
              "    </tr>\n",
              "    <tr>\n",
              "      <th>3</th>\n",
              "      <td>AMC Rebel SST</td>\n",
              "      <td>16.0</td>\n",
              "      <td>8</td>\n",
              "      <td>304.0</td>\n",
              "      <td>150</td>\n",
              "      <td>3433</td>\n",
              "      <td>12.0</td>\n",
              "      <td>70</td>\n",
              "      <td>US</td>\n",
              "      <td>each variable represents a characteristic of  ...</td>\n",
              "      <td>NaN</td>\n",
              "      <td>NaN</td>\n",
              "      <td>NaN</td>\n",
              "    </tr>\n",
              "    <tr>\n",
              "      <th>4</th>\n",
              "      <td>Ford Torino</td>\n",
              "      <td>17.0</td>\n",
              "      <td>8</td>\n",
              "      <td>302.0</td>\n",
              "      <td>140</td>\n",
              "      <td>3449</td>\n",
              "      <td>10.5</td>\n",
              "      <td>70</td>\n",
              "      <td>US</td>\n",
              "      <td>entity - 406 cars</td>\n",
              "      <td>NaN</td>\n",
              "      <td>NaN</td>\n",
              "      <td>NaN</td>\n",
              "    </tr>\n",
              "  </tbody>\n",
              "</table>\n",
              "</div>\n",
              "      <button class=\"colab-df-convert\" onclick=\"convertToInteractive('df-89644cf1-97de-4b0a-a30b-ddea8b102d83')\"\n",
              "              title=\"Convert this dataframe to an interactive table.\"\n",
              "              style=\"display:none;\">\n",
              "        \n",
              "  <svg xmlns=\"http://www.w3.org/2000/svg\" height=\"24px\"viewBox=\"0 0 24 24\"\n",
              "       width=\"24px\">\n",
              "    <path d=\"M0 0h24v24H0V0z\" fill=\"none\"/>\n",
              "    <path d=\"M18.56 5.44l.94 2.06.94-2.06 2.06-.94-2.06-.94-.94-2.06-.94 2.06-2.06.94zm-11 1L8.5 8.5l.94-2.06 2.06-.94-2.06-.94L8.5 2.5l-.94 2.06-2.06.94zm10 10l.94 2.06.94-2.06 2.06-.94-2.06-.94-.94-2.06-.94 2.06-2.06.94z\"/><path d=\"M17.41 7.96l-1.37-1.37c-.4-.4-.92-.59-1.43-.59-.52 0-1.04.2-1.43.59L10.3 9.45l-7.72 7.72c-.78.78-.78 2.05 0 2.83L4 21.41c.39.39.9.59 1.41.59.51 0 1.02-.2 1.41-.59l7.78-7.78 2.81-2.81c.8-.78.8-2.07 0-2.86zM5.41 20L4 18.59l7.72-7.72 1.47 1.35L5.41 20z\"/>\n",
              "  </svg>\n",
              "      </button>\n",
              "      \n",
              "  <style>\n",
              "    .colab-df-container {\n",
              "      display:flex;\n",
              "      flex-wrap:wrap;\n",
              "      gap: 12px;\n",
              "    }\n",
              "\n",
              "    .colab-df-convert {\n",
              "      background-color: #E8F0FE;\n",
              "      border: none;\n",
              "      border-radius: 50%;\n",
              "      cursor: pointer;\n",
              "      display: none;\n",
              "      fill: #1967D2;\n",
              "      height: 32px;\n",
              "      padding: 0 0 0 0;\n",
              "      width: 32px;\n",
              "    }\n",
              "\n",
              "    .colab-df-convert:hover {\n",
              "      background-color: #E2EBFA;\n",
              "      box-shadow: 0px 1px 2px rgba(60, 64, 67, 0.3), 0px 1px 3px 1px rgba(60, 64, 67, 0.15);\n",
              "      fill: #174EA6;\n",
              "    }\n",
              "\n",
              "    [theme=dark] .colab-df-convert {\n",
              "      background-color: #3B4455;\n",
              "      fill: #D2E3FC;\n",
              "    }\n",
              "\n",
              "    [theme=dark] .colab-df-convert:hover {\n",
              "      background-color: #434B5C;\n",
              "      box-shadow: 0px 1px 3px 1px rgba(0, 0, 0, 0.15);\n",
              "      filter: drop-shadow(0px 1px 2px rgba(0, 0, 0, 0.3));\n",
              "      fill: #FFFFFF;\n",
              "    }\n",
              "  </style>\n",
              "\n",
              "      <script>\n",
              "        const buttonEl =\n",
              "          document.querySelector('#df-89644cf1-97de-4b0a-a30b-ddea8b102d83 button.colab-df-convert');\n",
              "        buttonEl.style.display =\n",
              "          google.colab.kernel.accessAllowed ? 'block' : 'none';\n",
              "\n",
              "        async function convertToInteractive(key) {\n",
              "          const element = document.querySelector('#df-89644cf1-97de-4b0a-a30b-ddea8b102d83');\n",
              "          const dataTable =\n",
              "            await google.colab.kernel.invokeFunction('convertToInteractive',\n",
              "                                                     [key], {});\n",
              "          if (!dataTable) return;\n",
              "\n",
              "          const docLinkHtml = 'Like what you see? Visit the ' +\n",
              "            '<a target=\"_blank\" href=https://colab.research.google.com/notebooks/data_table.ipynb>data table notebook</a>'\n",
              "            + ' to learn more about interactive tables.';\n",
              "          element.innerHTML = '';\n",
              "          dataTable['output_type'] = 'display_data';\n",
              "          await google.colab.output.renderOutput(dataTable, element);\n",
              "          const docLink = document.createElement('div');\n",
              "          docLink.innerHTML = docLinkHtml;\n",
              "          element.appendChild(docLink);\n",
              "        }\n",
              "      </script>\n",
              "    </div>\n",
              "  </div>\n",
              "  "
            ]
          },
          "metadata": {},
          "execution_count": 34
        }
      ]
    },
    {
      "cell_type": "code",
      "source": [
        "#selecting columns for analysis\n",
        "data=cars[[\"Horsepower\",\"Cylinders\",\"Weight\",\"Displacement\",\"MPG\"]]\n"
      ],
      "metadata": {
        "id": "TDBMhqpVucdI"
      },
      "execution_count": 35,
      "outputs": []
    },
    {
      "cell_type": "code",
      "source": [
        "#checking data head,length\n",
        "data.head(),len(data)"
      ],
      "metadata": {
        "id": "ukkNRJR_uxOm",
        "colab": {
          "base_uri": "https://localhost:8080/"
        },
        "outputId": "681413d4-47c3-43d3-935a-bf66a74f4af7"
      },
      "execution_count": 36,
      "outputs": [
        {
          "output_type": "execute_result",
          "data": {
            "text/plain": [
              "(   Horsepower  Cylinders  Weight  Displacement   MPG\n",
              " 0         130          8    3504         307.0  18.0\n",
              " 1         165          8    3693         350.0  15.0\n",
              " 2         150          8    3436         318.0  18.0\n",
              " 3         150          8    3433         304.0  16.0\n",
              " 4         140          8    3449         302.0  17.0, 406)"
            ]
          },
          "metadata": {},
          "execution_count": 36
        }
      ]
    },
    {
      "cell_type": "markdown",
      "source": [
        "**Step 1: Test-Train Split**"
      ],
      "metadata": {
        "id": "NRKTG-FMdjrz"
      }
    },
    {
      "cell_type": "code",
      "source": [
        "#segregating test observation from training data\n",
        "test=data.sample(n=1,random_state=1)\n",
        "X_test=test[[\"Horsepower\",\"Cylinders\",\"Weight\",\"Displacement\"]]\n",
        "y_test=test[[\"MPG\"]]"
      ],
      "metadata": {
        "id": "U7HiJks9DiLt"
      },
      "execution_count": 37,
      "outputs": []
    },
    {
      "cell_type": "code",
      "source": [
        "#creating training set for random sampling and model fitting\n",
        "train=data[[\"Horsepower\",\"Cylinders\",\"Weight\",\"Displacement\",\"MPG\"]]\n",
        "#dropping test observation from  train  data\n",
        "train.drop(test.index,inplace=True)\n",
        "len(X_test),len(y_test),len(train)"
      ],
      "metadata": {
        "colab": {
          "base_uri": "https://localhost:8080/"
        },
        "id": "mcPFIgE6T0hi",
        "outputId": "bf7f206d-9dd8-442a-a9d2-654b5f6b80f8"
      },
      "execution_count": 41,
      "outputs": [
        {
          "output_type": "execute_result",
          "data": {
            "text/plain": [
              "(1, 1, 405)"
            ]
          },
          "metadata": {},
          "execution_count": 41
        }
      ]
    },
    {
      "cell_type": "markdown",
      "source": [
        "**Step 2: Drawing 200 Random Samples, Fitting Decision Tree (DT) models on respective samples**"
      ],
      "metadata": {
        "id": "pKJ6TyRz2e7i"
      }
    },
    {
      "cell_type": "markdown",
      "source": [
        "**Fitting model on min_samples_split=10**"
      ],
      "metadata": {
        "id": "xcYQ-MwuCPww"
      }
    },
    {
      "cell_type": "code",
      "source": [
        "y_predictions_dt10=[]\n",
        "for i in range (1,201):\n",
        "  #generate 200 random samples  of 80 observations each\n",
        "  smpl=train.sample(n=80)\n",
        "  #split training data into predictors and target\n",
        "  X_train_smpl=smpl[[\"Cylinders\",\"Horsepower\",\"Weight\",\"Displacement\"]]\n",
        "  y_train_smpl=smpl[[\"MPG\"]]\n",
        "  #fitting DT model on each sample\n",
        "        #Step 1: instantiate learning model\n",
        "  reg_tree=DecisionTreeRegressor(min_samples_split=10) #default min_samples_leaf=5,max_depth=none\n",
        "  reg_tree.fit(X_train_smpl,y_train_smpl)\n",
        "  #predicting the MPG of test observation\n",
        "  y_pred=reg_tree.predict(X_test)\n",
        "  y_predictions_dt10.append(y_pred)\n",
        "print(y_predictions_dt10)"
      ],
      "metadata": {
        "colab": {
          "base_uri": "https://localhost:8080/"
        },
        "id": "ktPt_fSCqPdR",
        "outputId": "6e165c10-67d2-495e-bbfe-bac1a7fb5acc"
      },
      "execution_count": 42,
      "outputs": [
        {
          "output_type": "stream",
          "name": "stdout",
          "text": [
            "[array([13.]), array([43.1]), array([28.1]), array([33.48888889]), array([22.]), array([26.]), array([0.]), array([29.8375]), array([33.55]), array([24.5]), array([29.]), array([34.25]), array([11.5]), array([13.]), array([25.]), array([36.44]), array([0.]), array([44.3]), array([34.7]), array([35.]), array([35.12857143]), array([0.]), array([28.8]), array([20.83333333]), array([35.8]), array([36.42857143]), array([22.32857143]), array([32.16666667]), array([39.3]), array([34.82222222]), array([32.65714286]), array([21.55]), array([25.2375]), array([0.]), array([17.25]), array([36.4]), array([34.11428571]), array([20.16666667]), array([25.]), array([29.4]), array([29.75]), array([27.33333333]), array([35.]), array([36.4]), array([29.35714286]), array([36.18571429]), array([26.66666667]), array([33.7]), array([15.53333333]), array([24.64285714]), array([25.25]), array([31.775]), array([35.67777778]), array([24.]), array([23.]), array([31.5]), array([31.125]), array([42.6]), array([0.]), array([43.1]), array([21.]), array([28.5]), array([37.0875]), array([36.45]), array([42.]), array([24.]), array([32.52222222]), array([25.5]), array([25.]), array([35.46]), array([30.07142857]), array([31.68888889]), array([42.45]), array([12.5]), array([20.575]), array([24.5]), array([20.76]), array([32.9375]), array([41.56666667]), array([34.625]), array([21.1]), array([38.45]), array([28.46]), array([0.]), array([33.98]), array([29.15555556]), array([23.]), array([28.82857143]), array([39.2]), array([31.41428571]), array([22.2]), array([25.]), array([26.]), array([37.9]), array([36.73333333]), array([30.9625]), array([43.1]), array([24.]), array([35.48]), array([20.44285714]), array([34.]), array([17.25]), array([20.5]), array([34.2]), array([33.75714286]), array([0.]), array([31.825]), array([32.31666667]), array([29.8]), array([44.3]), array([44.3]), array([19.86666667]), array([32.7125]), array([43.4]), array([28.61666667]), array([34.]), array([21.7]), array([25.9]), array([24.86666667]), array([35.175]), array([39.31666667]), array([33.325]), array([40.575]), array([39.36]), array([35.03333333]), array([28.27777778]), array([30.14444444]), array([13.]), array([31.18888889]), array([26.25]), array([24.75]), array([31.1125]), array([0.]), array([0.]), array([33.82857143]), array([28.24285714]), array([27.875]), array([21.6]), array([36.225]), array([33.27777778]), array([33.06]), array([0.]), array([24.625]), array([26.]), array([20.61428571]), array([32.96666667]), array([26.]), array([35.84]), array([0.]), array([18.5]), array([23.75]), array([26.6875]), array([26.5625]), array([26.]), array([35.75555556]), array([28.1625]), array([37.]), array([37.5]), array([33.48333333]), array([31.56666667]), array([38.95]), array([42.6]), array([31.53333333]), array([24.8]), array([32.65]), array([26.]), array([37.4]), array([31.28571429]), array([40.675]), array([32.24285714]), array([20.96666667]), array([30.55555556]), array([38.05714286]), array([29.8875]), array([22.83333333]), array([19.25]), array([36.94]), array([29.86666667]), array([30.81666667]), array([21.125]), array([30.7]), array([32.4625]), array([21.]), array([0.]), array([29.8625]), array([25.5]), array([42.86666667]), array([32.76]), array([21.5]), array([24.9]), array([36.4]), array([31.44444444]), array([34.275]), array([21.5]), array([21.425]), array([26.66666667]), array([25.775]), array([15.]), array([30.77142857]), array([29.9])]\n"
          ]
        }
      ]
    },
    {
      "cell_type": "code",
      "source": [
        "#calcualting variance of the DT model\n",
        "variance=(np.sum(np.asarray(y_predictions_dt10)**2)/200-1)-(np.mean(y_predictions_dt10)**2)\n",
        "variance"
      ],
      "metadata": {
        "id": "4Y-XmmFKgSYE",
        "colab": {
          "base_uri": "https://localhost:8080/"
        },
        "outputId": "748828cb-0919-4b81-dc5e-7c60768d9415"
      },
      "execution_count": 43,
      "outputs": [
        {
          "output_type": "execute_result",
          "data": {
            "text/plain": [
              "97.49918117820584"
            ]
          },
          "metadata": {},
          "execution_count": 43
        }
      ]
    },
    {
      "cell_type": "code",
      "source": [
        "#double checking variance of the DT model\n",
        "np.var(y_predictions_dt10)"
      ],
      "metadata": {
        "colab": {
          "base_uri": "https://localhost:8080/"
        },
        "id": "so9UJtY5B1jU",
        "outputId": "0e87b66a-a3ee-4176-b7b6-2b1792ca5aa3"
      },
      "execution_count": 44,
      "outputs": [
        {
          "output_type": "execute_result",
          "data": {
            "text/plain": [
              "98.49918117820575"
            ]
          },
          "metadata": {},
          "execution_count": 44
        }
      ]
    },
    {
      "cell_type": "markdown",
      "source": [
        "**Fitting model on min_samples_split=20**"
      ],
      "metadata": {
        "id": "F0lnNSsgCX6B"
      }
    },
    {
      "cell_type": "code",
      "source": [
        "y_predictions_dt20=[]\n",
        "for i in range (1,201):\n",
        "  #generate 200 random samples  of 80 observations each\n",
        "  smpl=train.sample(n=80)\n",
        "  #split training data into predictors and target\n",
        "  X_train_smpl=smpl[[\"Cylinders\",\"Horsepower\",\"Weight\",\"Displacement\"]]\n",
        "  y_train_smpl=smpl[[\"MPG\"]]\n",
        "  #fitting DT model on each sample\n",
        "        #Step 1: instantiate learning model\n",
        "  reg_tree=DecisionTreeRegressor(min_samples_split=20) #default min_samples_leaf=5,max_depth=none\n",
        "  reg_tree.fit(X_train_smpl,y_train_smpl)\n",
        "  #predicting the MPG of test observation\n",
        "  y_pred=reg_tree.predict(X_test)\n",
        "  y_predictions_dt20.append(y_pred)\n",
        "print(y_predictions_dt20)"
      ],
      "metadata": {
        "colab": {
          "base_uri": "https://localhost:8080/"
        },
        "id": "DrkLmJZMCJJ_",
        "outputId": "afeb2886-0b09-4add-bef4-893f49821978"
      },
      "execution_count": 45,
      "outputs": [
        {
          "output_type": "stream",
          "name": "stdout",
          "text": [
            "[array([33.65263158]), array([27.21578947]), array([31.74210526]), array([18.65]), array([34.98]), array([35.20555556]), array([35.36153846]), array([13.]), array([33.22631579]), array([32.64210526]), array([41.1]), array([40.8]), array([33.34736842]), array([19.61666667]), array([0.]), array([33.16842105]), array([36.46666667]), array([36.64285714]), array([33.8]), array([28.1]), array([36.34166667]), array([27.98333333]), array([32.04375]), array([13.]), array([20.16666667]), array([30.27333333]), array([31.35]), array([35.375]), array([13.]), array([30.81]), array([25.23157895]), array([35.23333333]), array([21.35714286]), array([28.2375]), array([0.]), array([35.3]), array([40.7]), array([30.36363636]), array([25.02941176]), array([0.]), array([28.51818182]), array([33.78]), array([23.5]), array([27.]), array([27.4]), array([34.18571429]), array([28.92941176]), array([37.64]), array([19.86428571]), array([28.62]), array([31.93684211]), array([28.4375]), array([34.56923077]), array([34.92631579]), array([27.18125]), array([20.45]), array([0.]), array([34.81666667]), array([30.45]), array([0.]), array([36.66666667]), array([29.35]), array([28.43333333]), array([35.16666667]), array([32.72727273]), array([26.]), array([26.35]), array([33.29444444]), array([33.01111111]), array([31.42105263]), array([26.08421053]), array([20.48125]), array([27.48888889]), array([34.39333333]), array([43.4]), array([36.78333333]), array([26.]), array([29.26428571]), array([27.7]), array([22.]), array([16.33333333]), array([33.21111111]), array([28.97142857]), array([28.94210526]), array([37.7]), array([35.65833333]), array([34.95625]), array([27.51666667]), array([23.03333333]), array([32.90714286]), array([36.65]), array([33.71052632]), array([29.23888889]), array([19.40625]), array([33.33529412]), array([36.775]), array([32.45]), array([28.71333333]), array([27.58333333]), array([19.83076923]), array([29.06666667]), array([0.]), array([21.2]), array([20.275]), array([25.]), array([19.92105263]), array([35.31538462]), array([26.9375]), array([19.58888889]), array([30.24666667]), array([0.]), array([19.98421053]), array([34.20833333]), array([35.21875]), array([16.33333333]), array([28.80555556]), array([33.49333333]), array([29.74666667]), array([21.6]), array([37.3]), array([29.6125]), array([25.11875]), array([33.87647059]), array([12.5]), array([25.18888889]), array([33.38125]), array([32.22631579]), array([22.76]), array([34.03571429]), array([17.25]), array([30.07647059]), array([33.16]), array([11.8]), array([19.76]), array([35.98461538]), array([0.]), array([11.5]), array([26.96666667]), array([34.03571429]), array([28.39230769]), array([21.]), array([34.57368421]), array([30.99090909]), array([33.81818182]), array([34.75789474]), array([0.]), array([32.3375]), array([26.87894737]), array([21.55]), array([34.98571429]), array([19.91666667]), array([19.78421053]), array([34.96666667]), array([23.5]), array([29.6625]), array([28.36842105]), array([33.11111111]), array([36.07142857]), array([16.33333333]), array([34.29285714]), array([28.4]), array([0.]), array([19.05333333]), array([17.25]), array([30.23684211]), array([34.65294118]), array([36.325]), array([27.30666667]), array([33.6]), array([30.76666667]), array([22.625]), array([11.8]), array([35.95714286]), array([34.75625]), array([0.]), array([34.15789474]), array([34.58823529]), array([34.80666667]), array([34.45384615]), array([34.43636364]), array([34.14444444]), array([42.6]), array([32.98666667]), array([38.9]), array([36.1625]), array([34.11666667]), array([33.6]), array([29.93333333]), array([30.62666667]), array([21.27777778]), array([26.73888889]), array([34.63076923]), array([28.6]), array([32.66875]), array([28.42307692]), array([28.01666667]), array([26.525]), array([43.4]), array([28.85833333]), array([34.03636364])]\n"
          ]
        }
      ]
    },
    {
      "cell_type": "code",
      "source": [
        "#calcualting variance of the DT model\n",
        "variance=(np.sum(np.asarray(y_predictions_dt20)**2)/200-1)-(np.mean(y_predictions_dt20)**2)\n",
        "variance"
      ],
      "metadata": {
        "colab": {
          "base_uri": "https://localhost:8080/"
        },
        "id": "BCXKbcZtCnud",
        "outputId": "43768021-fcf0-469b-e0af-7b0d24cd5663"
      },
      "execution_count": 46,
      "outputs": [
        {
          "output_type": "execute_result",
          "data": {
            "text/plain": [
              "86.22551180670689"
            ]
          },
          "metadata": {},
          "execution_count": 46
        }
      ]
    },
    {
      "cell_type": "code",
      "source": [
        "#double checking variance of the DT model\n",
        "np.var(y_predictions_dt20)"
      ],
      "metadata": {
        "colab": {
          "base_uri": "https://localhost:8080/"
        },
        "id": "JQYy0jAJCrck",
        "outputId": "fa7848a6-5eac-4c5b-d8ff-3da120a7ac26"
      },
      "execution_count": 47,
      "outputs": [
        {
          "output_type": "execute_result",
          "data": {
            "text/plain": [
              "87.22551180670672"
            ]
          },
          "metadata": {},
          "execution_count": 47
        }
      ]
    },
    {
      "cell_type": "markdown",
      "source": [
        "**Result: Our hypothesis is proved correct. We see that the variance  of   the DT model with min_samples_leaf=10 is more than the variance of the model with min_samples_leaf=20. The DT model with max_depth=10 is less restricted in terms of the minimum samples requred to split at an internal node. It is thus likely to have more splits and leaf nodes, thereby increasing its model complexity and variance.**"
      ],
      "metadata": {
        "id": "fo0a73j54ZS_"
      }
    },
    {
      "cell_type": "code",
      "source": [
        ""
      ],
      "metadata": {
        "id": "P5hgnq-Txo1J"
      },
      "execution_count": null,
      "outputs": []
    }
  ]
}