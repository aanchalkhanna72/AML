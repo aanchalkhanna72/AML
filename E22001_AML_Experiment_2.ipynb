{
  "nbformat": 4,
  "nbformat_minor": 0,
  "metadata": {
    "colab": {
      "name": "E22001 AML Experiment 2.ipynb",
      "provenance": [],
      "collapsed_sections": [],
      "authorship_tag": "ABX9TyOJTkxwJprPGIkgveFrOZhQ",
      "include_colab_link": true
    },
    "kernelspec": {
      "name": "python3",
      "display_name": "Python 3"
    },
    "language_info": {
      "name": "python"
    }
  },
  "cells": [
    {
      "cell_type": "markdown",
      "metadata": {
        "id": "view-in-github",
        "colab_type": "text"
      },
      "source": [
        "<a href=\"https://colab.research.google.com/github/aanchalkhanna72/aanchalkhanna72/blob/main/E22001_AML_Experiment_2.ipynb\" target=\"_parent\"><img src=\"https://colab.research.google.com/assets/colab-badge.svg\" alt=\"Open In Colab\"/></a>"
      ]
    },
    {
      "cell_type": "markdown",
      "source": [
        "**E22001 Aanchal Khanna**"
      ],
      "metadata": {
        "id": "GVq17nd-tcR8"
      }
    },
    {
      "cell_type": "markdown",
      "source": [
        "**Experiment 2: Objective - Observing and Comparing Variance of Decision Tree model when Max_depth is Increased**"
      ],
      "metadata": {
        "id": "UxnECXJdc_v3"
      }
    },
    {
      "cell_type": "markdown",
      "source": [
        "**Hypothesis: Decision Tree Model with higher max_depth is more complex, and will probably have higher variance.**"
      ],
      "metadata": {
        "id": "tNxy2Gak4g30"
      }
    },
    {
      "cell_type": "markdown",
      "source": [
        "**Let's check if that is reflected in our experiment..**"
      ],
      "metadata": {
        "id": "agYJLPZb42q5"
      }
    },
    {
      "cell_type": "code",
      "source": [
        "#importing libraries\n",
        "import pandas as pd\n",
        "import numpy as np\n",
        "from random import sample\n",
        "from sklearn.tree import DecisionTreeRegressor"
      ],
      "metadata": {
        "id": "4dTUIAzWudpG"
      },
      "execution_count": 18,
      "outputs": []
    },
    {
      "cell_type": "code",
      "source": [
        "#importing dataset through local runtime\n",
        "cars=pd.read_csv(\"/Users/aanchalkhanna72/Desktop/Praxis/Term 1/IML/cars.csv\")\n",
        "cars.head()"
      ],
      "metadata": {
        "colab": {
          "base_uri": "https://localhost:8080/",
          "height": 310
        },
        "id": "UxFOLMV-uTwe",
        "outputId": "34f2f8ad-fbe5-48b5-ffdc-8261d2aa37e1"
      },
      "execution_count": 19,
      "outputs": [
        {
          "output_type": "execute_result",
          "data": {
            "text/plain": [
              "                         Car   MPG  Cylinders  Displacement  Horsepower  \\\n",
              "0  Chevrolet Chevelle Malibu  18.0          8         307.0         130   \n",
              "1          Buick Skylark 320  15.0          8         350.0         165   \n",
              "2         Plymouth Satellite  18.0          8         318.0         150   \n",
              "3              AMC Rebel SST  16.0          8         304.0         150   \n",
              "4                Ford Torino  17.0          8         302.0         140   \n",
              "\n",
              "   Weight  Acceleration  Model Origin  \\\n",
              "0    3504          12.0     70     US   \n",
              "1    3693          11.5     70     US   \n",
              "2    3436          11.0     70     US   \n",
              "3    3433          12.0     70     US   \n",
              "4    3449          10.5     70     US   \n",
              "\n",
              "                                          Unnamed: 9 Unnamed: 10 Unnamed: 11  \\\n",
              "0                                                NaN         NaN         NaN   \n",
              "1                                                NaN         NaN         NaN   \n",
              "2                                          For every    entity,    there are   \n",
              "3  each variable represents a characteristic of  ...         NaN         NaN   \n",
              "4                                  entity - 406 cars         NaN         NaN   \n",
              "\n",
              "                         Unnamed: 12  \n",
              "0                                NaN  \n",
              "1                                NaN  \n",
              "2  7 values so this is 1 observation  \n",
              "3                                NaN  \n",
              "4                                NaN  "
            ],
            "text/html": [
              "<div>\n",
              "<style scoped>\n",
              "    .dataframe tbody tr th:only-of-type {\n",
              "        vertical-align: middle;\n",
              "    }\n",
              "\n",
              "    .dataframe tbody tr th {\n",
              "        vertical-align: top;\n",
              "    }\n",
              "\n",
              "    .dataframe thead th {\n",
              "        text-align: right;\n",
              "    }\n",
              "</style>\n",
              "<table border=\"1\" class=\"dataframe\">\n",
              "  <thead>\n",
              "    <tr style=\"text-align: right;\">\n",
              "      <th></th>\n",
              "      <th>Car</th>\n",
              "      <th>MPG</th>\n",
              "      <th>Cylinders</th>\n",
              "      <th>Displacement</th>\n",
              "      <th>Horsepower</th>\n",
              "      <th>Weight</th>\n",
              "      <th>Acceleration</th>\n",
              "      <th>Model</th>\n",
              "      <th>Origin</th>\n",
              "      <th>Unnamed: 9</th>\n",
              "      <th>Unnamed: 10</th>\n",
              "      <th>Unnamed: 11</th>\n",
              "      <th>Unnamed: 12</th>\n",
              "    </tr>\n",
              "  </thead>\n",
              "  <tbody>\n",
              "    <tr>\n",
              "      <th>0</th>\n",
              "      <td>Chevrolet Chevelle Malibu</td>\n",
              "      <td>18.0</td>\n",
              "      <td>8</td>\n",
              "      <td>307.0</td>\n",
              "      <td>130</td>\n",
              "      <td>3504</td>\n",
              "      <td>12.0</td>\n",
              "      <td>70</td>\n",
              "      <td>US</td>\n",
              "      <td>NaN</td>\n",
              "      <td>NaN</td>\n",
              "      <td>NaN</td>\n",
              "      <td>NaN</td>\n",
              "    </tr>\n",
              "    <tr>\n",
              "      <th>1</th>\n",
              "      <td>Buick Skylark 320</td>\n",
              "      <td>15.0</td>\n",
              "      <td>8</td>\n",
              "      <td>350.0</td>\n",
              "      <td>165</td>\n",
              "      <td>3693</td>\n",
              "      <td>11.5</td>\n",
              "      <td>70</td>\n",
              "      <td>US</td>\n",
              "      <td>NaN</td>\n",
              "      <td>NaN</td>\n",
              "      <td>NaN</td>\n",
              "      <td>NaN</td>\n",
              "    </tr>\n",
              "    <tr>\n",
              "      <th>2</th>\n",
              "      <td>Plymouth Satellite</td>\n",
              "      <td>18.0</td>\n",
              "      <td>8</td>\n",
              "      <td>318.0</td>\n",
              "      <td>150</td>\n",
              "      <td>3436</td>\n",
              "      <td>11.0</td>\n",
              "      <td>70</td>\n",
              "      <td>US</td>\n",
              "      <td>For every</td>\n",
              "      <td>entity,</td>\n",
              "      <td>there are</td>\n",
              "      <td>7 values so this is 1 observation</td>\n",
              "    </tr>\n",
              "    <tr>\n",
              "      <th>3</th>\n",
              "      <td>AMC Rebel SST</td>\n",
              "      <td>16.0</td>\n",
              "      <td>8</td>\n",
              "      <td>304.0</td>\n",
              "      <td>150</td>\n",
              "      <td>3433</td>\n",
              "      <td>12.0</td>\n",
              "      <td>70</td>\n",
              "      <td>US</td>\n",
              "      <td>each variable represents a characteristic of  ...</td>\n",
              "      <td>NaN</td>\n",
              "      <td>NaN</td>\n",
              "      <td>NaN</td>\n",
              "    </tr>\n",
              "    <tr>\n",
              "      <th>4</th>\n",
              "      <td>Ford Torino</td>\n",
              "      <td>17.0</td>\n",
              "      <td>8</td>\n",
              "      <td>302.0</td>\n",
              "      <td>140</td>\n",
              "      <td>3449</td>\n",
              "      <td>10.5</td>\n",
              "      <td>70</td>\n",
              "      <td>US</td>\n",
              "      <td>entity - 406 cars</td>\n",
              "      <td>NaN</td>\n",
              "      <td>NaN</td>\n",
              "      <td>NaN</td>\n",
              "    </tr>\n",
              "  </tbody>\n",
              "</table>\n",
              "</div>"
            ]
          },
          "metadata": {},
          "execution_count": 19
        }
      ]
    },
    {
      "cell_type": "code",
      "source": [
        "#selecting columns for analysis\n",
        "data=cars[[\"Horsepower\",\"Cylinders\",\"Weight\",\"Displacement\",\"MPG\"]]\n"
      ],
      "metadata": {
        "id": "TDBMhqpVucdI"
      },
      "execution_count": 20,
      "outputs": []
    },
    {
      "cell_type": "code",
      "source": [
        "#checking data head,length\n",
        "data.head(),len(data)"
      ],
      "metadata": {
        "id": "ukkNRJR_uxOm",
        "colab": {
          "base_uri": "https://localhost:8080/"
        },
        "outputId": "7227b8bb-50b3-4d8d-861c-39aaf1a3f0da"
      },
      "execution_count": 21,
      "outputs": [
        {
          "output_type": "execute_result",
          "data": {
            "text/plain": [
              "(   Horsepower  Cylinders  Weight  Displacement   MPG\n",
              " 0         130          8    3504         307.0  18.0\n",
              " 1         165          8    3693         350.0  15.0\n",
              " 2         150          8    3436         318.0  18.0\n",
              " 3         150          8    3433         304.0  16.0\n",
              " 4         140          8    3449         302.0  17.0,\n",
              " 406)"
            ]
          },
          "metadata": {},
          "execution_count": 21
        }
      ]
    },
    {
      "cell_type": "markdown",
      "source": [
        "**Step 1: Test-Train Split**"
      ],
      "metadata": {
        "id": "NRKTG-FMdjrz"
      }
    },
    {
      "cell_type": "code",
      "source": [
        "#segregating test observation from training data\n",
        "test=data.sample(n=1,random_state=1)\n",
        "X_test=test[[\"Horsepower\",\"Cylinders\",\"Weight\",\"Displacement\"]]\n",
        "y_test=test[[\"MPG\"]]"
      ],
      "metadata": {
        "id": "U7HiJks9DiLt"
      },
      "execution_count": 22,
      "outputs": []
    },
    {
      "cell_type": "code",
      "source": [
        "#creating training set for random sampling and model fitting\n",
        "train=data[[\"Horsepower\",\"Cylinders\",\"Weight\",\"Displacement\",\"MPG\"]]\n",
        "#dropping test observation from  train  data\n",
        "train.drop(test.index,inplace=True)\n",
        "len(X_test),len(y_test),len(train)"
      ],
      "metadata": {
        "colab": {
          "base_uri": "https://localhost:8080/"
        },
        "id": "mcPFIgE6T0hi",
        "outputId": "978217e2-c167-456d-8b6b-4c59d9ccee70"
      },
      "execution_count": 23,
      "outputs": [
        {
          "output_type": "execute_result",
          "data": {
            "text/plain": [
              "(1, 1, 405)"
            ]
          },
          "metadata": {},
          "execution_count": 23
        }
      ]
    },
    {
      "cell_type": "markdown",
      "source": [
        "**Step 2: Drawing 200 Random Samples, Fitting Decision Tree (DT) models on respective samples**"
      ],
      "metadata": {
        "id": "pKJ6TyRz2e7i"
      }
    },
    {
      "cell_type": "markdown",
      "source": [
        "**Fitting model on max_depth=4**"
      ],
      "metadata": {
        "id": "xcYQ-MwuCPww"
      }
    },
    {
      "cell_type": "code",
      "source": [
        "y_predictions_dt4=[]\n",
        "for i in range (1,201):\n",
        "  #generate 200 random samples  of 80 observations each\n",
        "  smpl=train.sample(n=80)\n",
        "  #split training data into predictors and target\n",
        "  X_train_smpl=smpl[[\"Cylinders\",\"Horsepower\",\"Weight\",\"Displacement\"]]\n",
        "  y_train_smpl=smpl[[\"MPG\"]]\n",
        "  #fitting DT model on each sample\n",
        "        #Step 1: instantiate learning model\n",
        "  reg_tree=DecisionTreeRegressor(max_depth=4) #default min_samples_leaf=5,max_depth=none\n",
        "  reg_tree.fit(X_train_smpl,y_train_smpl)\n",
        "  #predicting the MPG of test observation\n",
        "  y_pred=reg_tree.predict(X_test)\n",
        "  y_predictions_dt4.append(y_pred)\n",
        "print(y_predictions_dt4)"
      ],
      "metadata": {
        "colab": {
          "base_uri": "https://localhost:8080/"
        },
        "id": "ktPt_fSCqPdR",
        "outputId": "2aeb7420-9232-4204-eb5d-d4637633dbe5"
      },
      "execution_count": 97,
      "outputs": [
        {
          "output_type": "stream",
          "name": "stdout",
          "text": [
            "[array([35.1]), array([28.83333333]), array([35.3]), array([35.9625]), array([28.4]), array([32.5]), array([28.125]), array([26.]), array([26.]), array([44.3]), array([25.]), array([30.825]), array([25.]), array([26.]), array([28.875]), array([37.025]), array([0.]), array([27.91388889]), array([43.4]), array([0.]), array([26.]), array([27.]), array([25.]), array([25.25]), array([38.]), array([31.75]), array([0.]), array([23.]), array([33.55]), array([29.69166667]), array([18.53125]), array([25.]), array([26.6]), array([34.08235294]), array([34.5]), array([0.]), array([33.6]), array([32.33333333]), array([20.5]), array([32.4]), array([39.63333333]), array([39.4]), array([26.32857143]), array([35.675]), array([37.7]), array([26.5]), array([43.25]), array([26.2047619]), array([32.71052632]), array([33.05]), array([13.]), array([26.]), array([24.66666667]), array([16.]), array([30.30434783]), array([21.625]), array([40.9]), array([25.5]), array([21.]), array([26.]), array([28.98888889]), array([25.]), array([28.23333333]), array([37.38333333]), array([25.]), array([25.625]), array([22.25]), array([41.4]), array([31.775]), array([38.45555556]), array([26.]), array([40.9]), array([34.5]), array([31.95]), array([29.]), array([29.10714286]), array([25.]), array([44.]), array([0.]), array([30.48571429]), array([34.5]), array([23.3]), array([0.]), array([44.]), array([24.]), array([26.]), array([21.06]), array([26.5]), array([24.5]), array([25.80857143]), array([43.1]), array([27.85]), array([23.825]), array([26.]), array([25.]), array([25.]), array([27.]), array([32.76666667]), array([0.]), array([26.]), array([25.5]), array([26.61034483]), array([21.]), array([24.9]), array([46.6]), array([25.]), array([23.]), array([21.5]), array([43.4]), array([32.34545455]), array([23.6]), array([40.9]), array([26.]), array([40.975]), array([43.55]), array([31.85833333]), array([23.]), array([25.06333333]), array([35.35]), array([40.9]), array([20.]), array([25.]), array([33.05]), array([22.84]), array([36.7]), array([23.9]), array([44.]), array([32.84]), array([43.4]), array([32.64444444]), array([36.55]), array([29.425]), array([34.5]), array([25.]), array([30.24444444]), array([26.02173913]), array([42.4]), array([25.]), array([23.]), array([25.]), array([20.7]), array([30.82631579]), array([27.37142857]), array([25.5]), array([25.17777778]), array([30.60909091]), array([28.85]), array([0.]), array([27.475]), array([31.41666667]), array([26.]), array([31.725]), array([43.4]), array([34.1]), array([31.52]), array([34.72857143]), array([33.15]), array([25.]), array([26.]), array([25.40588235]), array([20.26153846]), array([25.5]), array([36.4]), array([29.]), array([34.6]), array([42.3]), array([27.92857143]), array([27.13]), array([34.5]), array([40.825]), array([0.]), array([20.42727273]), array([21.33333333]), array([26.16666667]), array([31.7]), array([31.63333333]), array([29.9]), array([0.]), array([29.73125]), array([30.69565217]), array([30.36363636]), array([25.83333333]), array([26.]), array([37.33333333]), array([26.]), array([43.4]), array([43.1]), array([26.52916667]), array([21.375]), array([22.17142857]), array([25.]), array([22.25]), array([24.8]), array([30.17894737]), array([19.9]), array([26.04444444]), array([21.5]), array([34.2]), array([43.1]), array([24.5])]\n"
          ]
        }
      ]
    },
    {
      "cell_type": "code",
      "source": [
        "#calcualting variance of the DT model\n",
        "variance=(np.sum(np.asarray(y_predictions_dt4)**2)/200-1)-(np.mean(y_predictions_dt4)**2)\n",
        "variance"
      ],
      "metadata": {
        "id": "4Y-XmmFKgSYE",
        "colab": {
          "base_uri": "https://localhost:8080/"
        },
        "outputId": "d089fedc-d59c-4a06-e236-1d494590a3e6"
      },
      "execution_count": 98,
      "outputs": [
        {
          "output_type": "execute_result",
          "data": {
            "text/plain": [
              "85.12290964582951"
            ]
          },
          "metadata": {},
          "execution_count": 98
        }
      ]
    },
    {
      "cell_type": "code",
      "source": [
        "#double checking variance of the DT model\n",
        "np.var(y_predictions_dt4)"
      ],
      "metadata": {
        "colab": {
          "base_uri": "https://localhost:8080/"
        },
        "id": "so9UJtY5B1jU",
        "outputId": "75eff90e-a8f2-4d23-cbd5-0b38f8f4a54c"
      },
      "execution_count": 99,
      "outputs": [
        {
          "output_type": "execute_result",
          "data": {
            "text/plain": [
              "86.1229096458295"
            ]
          },
          "metadata": {},
          "execution_count": 99
        }
      ]
    },
    {
      "cell_type": "markdown",
      "source": [
        "**Fitting model on max_depth=8**"
      ],
      "metadata": {
        "id": "F0lnNSsgCX6B"
      }
    },
    {
      "cell_type": "code",
      "source": [
        "y_predictions_dt8=[]\n",
        "for i in range (1,201):\n",
        "  #generate 200 random samples  of 80 observations each\n",
        "  smpl=train.sample(n=80)\n",
        "  #split training data into predictors and target\n",
        "  X_train_smpl=smpl[[\"Cylinders\",\"Horsepower\",\"Weight\",\"Displacement\"]]\n",
        "  y_train_smpl=smpl[[\"MPG\"]]\n",
        "  #fitting DT model on each sample\n",
        "        #Step 1: instantiate learning model\n",
        "  reg_tree=DecisionTreeRegressor(max_depth=8) #default min_samples_leaf=5,max_depth=none\n",
        "  reg_tree.fit(X_train_smpl,y_train_smpl)\n",
        "  #predicting the MPG of test observation\n",
        "  y_pred=reg_tree.predict(X_test)\n",
        "  y_predictions_dt8.append(y_pred)\n",
        "print(y_predictions_dt8)"
      ],
      "metadata": {
        "colab": {
          "base_uri": "https://localhost:8080/"
        },
        "id": "DrkLmJZMCJJ_",
        "outputId": "6876b2dc-8568-4a39-f238-66d7e7f9b849"
      },
      "execution_count": 100,
      "outputs": [
        {
          "output_type": "stream",
          "name": "stdout",
          "text": [
            "[array([23.5]), array([34.5]), array([22.]), array([34.5]), array([22.]), array([0.]), array([44.]), array([23.]), array([40.9]), array([32.4]), array([22.]), array([34.5]), array([34.5]), array([30.5]), array([44.3]), array([44.]), array([40.9]), array([43.1]), array([26.]), array([34.]), array([24.5]), array([32.62857143]), array([0.]), array([28.8]), array([31.5]), array([34.]), array([33.68]), array([29.9]), array([30.9]), array([30.]), array([26.]), array([34.5]), array([44.]), array([15.]), array([21.]), array([26.]), array([34.7]), array([40.9]), array([25.]), array([36.4]), array([19.]), array([23.]), array([26.]), array([34.5]), array([23.]), array([23.]), array([20.]), array([21.]), array([34.7]), array([25.]), array([36.]), array([26.]), array([34.5]), array([21.]), array([23.]), array([34.5]), array([30.7]), array([26.]), array([34.5]), array([24.5]), array([25.]), array([38.]), array([24.5]), array([46.6]), array([0.]), array([44.]), array([38.]), array([25.]), array([34.5]), array([24.5]), array([23.]), array([26.]), array([25.]), array([32.0375]), array([34.5]), array([43.4]), array([18.]), array([34.5]), array([24.]), array([30.5]), array([23.]), array([24.5]), array([23.]), array([32.55]), array([36.]), array([21.]), array([26.6125]), array([30.]), array([21.]), array([34.7]), array([43.1]), array([44.]), array([34.4]), array([44.3]), array([25.]), array([24.5]), array([36.4]), array([21.]), array([44.3]), array([26.]), array([34.7]), array([0.]), array([23.6]), array([38.]), array([25.]), array([25.]), array([26.]), array([25.5]), array([46.6]), array([34.]), array([21.]), array([25.]), array([29.]), array([21.]), array([36.]), array([25.]), array([34.]), array([44.]), array([40.8]), array([25.]), array([34.5]), array([43.1]), array([34.7]), array([38.]), array([21.]), array([43.4]), array([21.]), array([46.6]), array([43.1]), array([23.]), array([24.5]), array([26.]), array([34.5]), array([25.]), array([26.]), array([23.]), array([34.5]), array([36.]), array([26.]), array([44.]), array([0.]), array([25.]), array([0.]), array([26.]), array([25.]), array([36.]), array([26.]), array([30.]), array([33.]), array([0.]), array([44.3]), array([38.]), array([34.5]), array([34.]), array([44.]), array([25.]), array([34.2]), array([24.]), array([27.]), array([34.5]), array([24.5]), array([30.9]), array([32.2]), array([25.]), array([26.]), array([26.]), array([26.]), array([25.]), array([26.]), array([27.84285714]), array([21.]), array([23.6]), array([21.]), array([21.]), array([33.]), array([0.]), array([36.]), array([24.5]), array([36.]), array([23.]), array([25.]), array([43.1]), array([29.9]), array([26.]), array([33.]), array([34.7]), array([21.]), array([34.5]), array([25.]), array([24.5]), array([32.5]), array([24.2]), array([22.]), array([33.96666667]), array([43.1]), array([25.]), array([46.6]), array([0.]), array([0.]), array([34.5])]\n"
          ]
        }
      ]
    },
    {
      "cell_type": "code",
      "source": [
        "#calcualting variance of the DT model\n",
        "variance=(np.sum(np.asarray(y_predictions_dt8)**2)/200-1)-(np.mean(y_predictions_dt8)**2)\n",
        "variance"
      ],
      "metadata": {
        "colab": {
          "base_uri": "https://localhost:8080/"
        },
        "id": "BCXKbcZtCnud",
        "outputId": "cc7c36e4-5b5f-4296-934e-5ea261bd0a84"
      },
      "execution_count": 101,
      "outputs": [
        {
          "output_type": "execute_result",
          "data": {
            "text/plain": [
              "96.09295688708016"
            ]
          },
          "metadata": {},
          "execution_count": 101
        }
      ]
    },
    {
      "cell_type": "code",
      "source": [
        "#double checking variance of the DT model\n",
        "np.var(y_predictions_dt8)"
      ],
      "metadata": {
        "colab": {
          "base_uri": "https://localhost:8080/"
        },
        "id": "JQYy0jAJCrck",
        "outputId": "245d36c0-687f-48a0-e5e6-e157e54171fa"
      },
      "execution_count": 102,
      "outputs": [
        {
          "output_type": "execute_result",
          "data": {
            "text/plain": [
              "97.09295688708049"
            ]
          },
          "metadata": {},
          "execution_count": 102
        }
      ]
    },
    {
      "cell_type": "markdown",
      "source": [
        "**Result: Our hypothesis is proved correct. We see that the variance  of   the DT model with max_depth=8 is more than that of the model with max_depth=4. Since the DT model with max_depth=8 is allowed to grow to a larger size, with more splits and leaf nodes, its model complexity is higher and variance is higher compared to the other model.**"
      ],
      "metadata": {
        "id": "fo0a73j54ZS_"
      }
    },
    {
      "cell_type": "markdown",
      "source": [
        "Github link: https://github.com/aanchalkhanna72/aanchalkhanna72"
      ],
      "metadata": {
        "id": "HlwcU1NZEyzb"
      }
    },
    {
      "cell_type": "code",
      "source": [
        ""
      ],
      "metadata": {
        "id": "P5hgnq-Txo1J"
      },
      "execution_count": 65,
      "outputs": []
    }
  ]
}