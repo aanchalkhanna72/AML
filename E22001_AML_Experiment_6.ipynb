{
  "nbformat": 4,
  "nbformat_minor": 0,
  "metadata": {
    "colab": {
      "name": "E22001 AML Experiment 6.ipynb",
      "provenance": [],
      "collapsed_sections": [],
      "authorship_tag": "ABX9TyMhH2pzsND4OVyenteTUXwB",
      "include_colab_link": true
    },
    "kernelspec": {
      "name": "python3",
      "display_name": "Python 3"
    },
    "language_info": {
      "name": "python"
    }
  },
  "cells": [
    {
      "cell_type": "markdown",
      "metadata": {
        "id": "view-in-github",
        "colab_type": "text"
      },
      "source": [
        "<a href=\"https://colab.research.google.com/github/aanchalkhanna72/aanchalkhanna72/blob/main/E22001_AML_Experiment_6.ipynb\" target=\"_parent\"><img src=\"https://colab.research.google.com/assets/colab-badge.svg\" alt=\"Open In Colab\"/></a>"
      ]
    },
    {
      "cell_type": "markdown",
      "source": [
        "**E22001 Aanchal Khanna | 6.6.2022**"
      ],
      "metadata": {
        "id": "CI5ceyZKnEK2"
      }
    },
    {
      "cell_type": "markdown",
      "source": [
        "Experiment 5: Bootstrapping for Standard Error Calculation\n",
        "\n",
        "Objective: Calculating and comparing variance, mean of bootstrap samples"
      ],
      "metadata": {
        "id": "2yXXvmtdnjmC"
      }
    },
    {
      "cell_type": "code",
      "source": [
        "#import libraries\n",
        "import numpy as np\n",
        "import pandas as pd\n",
        "import random\n",
        "from random import choices\n",
        "\n"
      ],
      "metadata": {
        "id": "3srRhcS-nJ1G"
      },
      "execution_count": 177,
      "outputs": []
    },
    {
      "cell_type": "code",
      "source": [
        "#read file\n",
        "attr=pd.read_csv(\"https://raw.githubusercontent.com/aanchalkhanna72/aanchalkhanna72/main/attrition.csv\")"
      ],
      "metadata": {
        "id": "tjoBXRlHniKT"
      },
      "execution_count": 178,
      "outputs": []
    },
    {
      "cell_type": "code",
      "source": [
        "#top 5 observations\n",
        "attr.head()"
      ],
      "metadata": {
        "colab": {
          "base_uri": "https://localhost:8080/",
          "height": 340
        },
        "id": "s6LoOYKP8AKQ",
        "outputId": "5389d6a3-1b7b-4b21-e588-2b456ebbca2c"
      },
      "execution_count": 181,
      "outputs": [
        {
          "output_type": "execute_result",
          "data": {
            "text/plain": [
              "   Age  Attrition     BusinessTravel              Department EducationField  \\\n",
              "0   41          1      Travel_Rarely                   Sales  Life Sciences   \n",
              "1   49          0  Travel_Frequently  Research & Development  Life Sciences   \n",
              "2   37          1      Travel_Rarely  Research & Development          Other   \n",
              "3   33          0  Travel_Frequently  Research & Development  Life Sciences   \n",
              "4   27          0      Travel_Rarely  Research & Development        Medical   \n",
              "\n",
              "   EnvironmentSatisfaction  Gender  JobInvolvement  JobLevel  JobSatisfaction  \\\n",
              "0                        2  Female               3         2                4   \n",
              "1                        3    Male               2         2                2   \n",
              "2                        4    Male               2         1                3   \n",
              "3                        4  Female               3         1                3   \n",
              "4                        1    Male               3         1                2   \n",
              "\n",
              "  MaritalStatus  MonthlyIncome OverTime  TotalWorkingYears  WorkLifeBalance  \\\n",
              "0        Single           5993      Yes                  8                1   \n",
              "1       Married           5130       No                 10                3   \n",
              "2        Single           2090      Yes                  7                3   \n",
              "3       Married           2909      Yes                  8                3   \n",
              "4       Married           3468       No                  6                3   \n",
              "\n",
              "   YearsAtCompany  YearsInCurrentRole  YearsSinceLastPromotion  \\\n",
              "0               6                   4                        0   \n",
              "1              10                   7                        1   \n",
              "2               0                   0                        0   \n",
              "3               8                   7                        3   \n",
              "4               2                   2                        2   \n",
              "\n",
              "   YearsWithCurrManager  DistanceFromHome  \n",
              "0                     5                 1  \n",
              "1                     7                 8  \n",
              "2                     0                 2  \n",
              "3                     0                 3  \n",
              "4                     2                 2  "
            ],
            "text/html": [
              "\n",
              "  <div id=\"df-4ab79091-67b5-44a0-bb12-1eeada695797\">\n",
              "    <div class=\"colab-df-container\">\n",
              "      <div>\n",
              "<style scoped>\n",
              "    .dataframe tbody tr th:only-of-type {\n",
              "        vertical-align: middle;\n",
              "    }\n",
              "\n",
              "    .dataframe tbody tr th {\n",
              "        vertical-align: top;\n",
              "    }\n",
              "\n",
              "    .dataframe thead th {\n",
              "        text-align: right;\n",
              "    }\n",
              "</style>\n",
              "<table border=\"1\" class=\"dataframe\">\n",
              "  <thead>\n",
              "    <tr style=\"text-align: right;\">\n",
              "      <th></th>\n",
              "      <th>Age</th>\n",
              "      <th>Attrition</th>\n",
              "      <th>BusinessTravel</th>\n",
              "      <th>Department</th>\n",
              "      <th>EducationField</th>\n",
              "      <th>EnvironmentSatisfaction</th>\n",
              "      <th>Gender</th>\n",
              "      <th>JobInvolvement</th>\n",
              "      <th>JobLevel</th>\n",
              "      <th>JobSatisfaction</th>\n",
              "      <th>MaritalStatus</th>\n",
              "      <th>MonthlyIncome</th>\n",
              "      <th>OverTime</th>\n",
              "      <th>TotalWorkingYears</th>\n",
              "      <th>WorkLifeBalance</th>\n",
              "      <th>YearsAtCompany</th>\n",
              "      <th>YearsInCurrentRole</th>\n",
              "      <th>YearsSinceLastPromotion</th>\n",
              "      <th>YearsWithCurrManager</th>\n",
              "      <th>DistanceFromHome</th>\n",
              "    </tr>\n",
              "  </thead>\n",
              "  <tbody>\n",
              "    <tr>\n",
              "      <th>0</th>\n",
              "      <td>41</td>\n",
              "      <td>1</td>\n",
              "      <td>Travel_Rarely</td>\n",
              "      <td>Sales</td>\n",
              "      <td>Life Sciences</td>\n",
              "      <td>2</td>\n",
              "      <td>Female</td>\n",
              "      <td>3</td>\n",
              "      <td>2</td>\n",
              "      <td>4</td>\n",
              "      <td>Single</td>\n",
              "      <td>5993</td>\n",
              "      <td>Yes</td>\n",
              "      <td>8</td>\n",
              "      <td>1</td>\n",
              "      <td>6</td>\n",
              "      <td>4</td>\n",
              "      <td>0</td>\n",
              "      <td>5</td>\n",
              "      <td>1</td>\n",
              "    </tr>\n",
              "    <tr>\n",
              "      <th>1</th>\n",
              "      <td>49</td>\n",
              "      <td>0</td>\n",
              "      <td>Travel_Frequently</td>\n",
              "      <td>Research &amp; Development</td>\n",
              "      <td>Life Sciences</td>\n",
              "      <td>3</td>\n",
              "      <td>Male</td>\n",
              "      <td>2</td>\n",
              "      <td>2</td>\n",
              "      <td>2</td>\n",
              "      <td>Married</td>\n",
              "      <td>5130</td>\n",
              "      <td>No</td>\n",
              "      <td>10</td>\n",
              "      <td>3</td>\n",
              "      <td>10</td>\n",
              "      <td>7</td>\n",
              "      <td>1</td>\n",
              "      <td>7</td>\n",
              "      <td>8</td>\n",
              "    </tr>\n",
              "    <tr>\n",
              "      <th>2</th>\n",
              "      <td>37</td>\n",
              "      <td>1</td>\n",
              "      <td>Travel_Rarely</td>\n",
              "      <td>Research &amp; Development</td>\n",
              "      <td>Other</td>\n",
              "      <td>4</td>\n",
              "      <td>Male</td>\n",
              "      <td>2</td>\n",
              "      <td>1</td>\n",
              "      <td>3</td>\n",
              "      <td>Single</td>\n",
              "      <td>2090</td>\n",
              "      <td>Yes</td>\n",
              "      <td>7</td>\n",
              "      <td>3</td>\n",
              "      <td>0</td>\n",
              "      <td>0</td>\n",
              "      <td>0</td>\n",
              "      <td>0</td>\n",
              "      <td>2</td>\n",
              "    </tr>\n",
              "    <tr>\n",
              "      <th>3</th>\n",
              "      <td>33</td>\n",
              "      <td>0</td>\n",
              "      <td>Travel_Frequently</td>\n",
              "      <td>Research &amp; Development</td>\n",
              "      <td>Life Sciences</td>\n",
              "      <td>4</td>\n",
              "      <td>Female</td>\n",
              "      <td>3</td>\n",
              "      <td>1</td>\n",
              "      <td>3</td>\n",
              "      <td>Married</td>\n",
              "      <td>2909</td>\n",
              "      <td>Yes</td>\n",
              "      <td>8</td>\n",
              "      <td>3</td>\n",
              "      <td>8</td>\n",
              "      <td>7</td>\n",
              "      <td>3</td>\n",
              "      <td>0</td>\n",
              "      <td>3</td>\n",
              "    </tr>\n",
              "    <tr>\n",
              "      <th>4</th>\n",
              "      <td>27</td>\n",
              "      <td>0</td>\n",
              "      <td>Travel_Rarely</td>\n",
              "      <td>Research &amp; Development</td>\n",
              "      <td>Medical</td>\n",
              "      <td>1</td>\n",
              "      <td>Male</td>\n",
              "      <td>3</td>\n",
              "      <td>1</td>\n",
              "      <td>2</td>\n",
              "      <td>Married</td>\n",
              "      <td>3468</td>\n",
              "      <td>No</td>\n",
              "      <td>6</td>\n",
              "      <td>3</td>\n",
              "      <td>2</td>\n",
              "      <td>2</td>\n",
              "      <td>2</td>\n",
              "      <td>2</td>\n",
              "      <td>2</td>\n",
              "    </tr>\n",
              "  </tbody>\n",
              "</table>\n",
              "</div>\n",
              "      <button class=\"colab-df-convert\" onclick=\"convertToInteractive('df-4ab79091-67b5-44a0-bb12-1eeada695797')\"\n",
              "              title=\"Convert this dataframe to an interactive table.\"\n",
              "              style=\"display:none;\">\n",
              "        \n",
              "  <svg xmlns=\"http://www.w3.org/2000/svg\" height=\"24px\"viewBox=\"0 0 24 24\"\n",
              "       width=\"24px\">\n",
              "    <path d=\"M0 0h24v24H0V0z\" fill=\"none\"/>\n",
              "    <path d=\"M18.56 5.44l.94 2.06.94-2.06 2.06-.94-2.06-.94-.94-2.06-.94 2.06-2.06.94zm-11 1L8.5 8.5l.94-2.06 2.06-.94-2.06-.94L8.5 2.5l-.94 2.06-2.06.94zm10 10l.94 2.06.94-2.06 2.06-.94-2.06-.94-.94-2.06-.94 2.06-2.06.94z\"/><path d=\"M17.41 7.96l-1.37-1.37c-.4-.4-.92-.59-1.43-.59-.52 0-1.04.2-1.43.59L10.3 9.45l-7.72 7.72c-.78.78-.78 2.05 0 2.83L4 21.41c.39.39.9.59 1.41.59.51 0 1.02-.2 1.41-.59l7.78-7.78 2.81-2.81c.8-.78.8-2.07 0-2.86zM5.41 20L4 18.59l7.72-7.72 1.47 1.35L5.41 20z\"/>\n",
              "  </svg>\n",
              "      </button>\n",
              "      \n",
              "  <style>\n",
              "    .colab-df-container {\n",
              "      display:flex;\n",
              "      flex-wrap:wrap;\n",
              "      gap: 12px;\n",
              "    }\n",
              "\n",
              "    .colab-df-convert {\n",
              "      background-color: #E8F0FE;\n",
              "      border: none;\n",
              "      border-radius: 50%;\n",
              "      cursor: pointer;\n",
              "      display: none;\n",
              "      fill: #1967D2;\n",
              "      height: 32px;\n",
              "      padding: 0 0 0 0;\n",
              "      width: 32px;\n",
              "    }\n",
              "\n",
              "    .colab-df-convert:hover {\n",
              "      background-color: #E2EBFA;\n",
              "      box-shadow: 0px 1px 2px rgba(60, 64, 67, 0.3), 0px 1px 3px 1px rgba(60, 64, 67, 0.15);\n",
              "      fill: #174EA6;\n",
              "    }\n",
              "\n",
              "    [theme=dark] .colab-df-convert {\n",
              "      background-color: #3B4455;\n",
              "      fill: #D2E3FC;\n",
              "    }\n",
              "\n",
              "    [theme=dark] .colab-df-convert:hover {\n",
              "      background-color: #434B5C;\n",
              "      box-shadow: 0px 1px 3px 1px rgba(0, 0, 0, 0.15);\n",
              "      filter: drop-shadow(0px 1px 2px rgba(0, 0, 0, 0.3));\n",
              "      fill: #FFFFFF;\n",
              "    }\n",
              "  </style>\n",
              "\n",
              "      <script>\n",
              "        const buttonEl =\n",
              "          document.querySelector('#df-4ab79091-67b5-44a0-bb12-1eeada695797 button.colab-df-convert');\n",
              "        buttonEl.style.display =\n",
              "          google.colab.kernel.accessAllowed ? 'block' : 'none';\n",
              "\n",
              "        async function convertToInteractive(key) {\n",
              "          const element = document.querySelector('#df-4ab79091-67b5-44a0-bb12-1eeada695797');\n",
              "          const dataTable =\n",
              "            await google.colab.kernel.invokeFunction('convertToInteractive',\n",
              "                                                     [key], {});\n",
              "          if (!dataTable) return;\n",
              "\n",
              "          const docLinkHtml = 'Like what you see? Visit the ' +\n",
              "            '<a target=\"_blank\" href=https://colab.research.google.com/notebooks/data_table.ipynb>data table notebook</a>'\n",
              "            + ' to learn more about interactive tables.';\n",
              "          element.innerHTML = '';\n",
              "          dataTable['output_type'] = 'display_data';\n",
              "          await google.colab.output.renderOutput(dataTable, element);\n",
              "          const docLink = document.createElement('div');\n",
              "          docLink.innerHTML = docLinkHtml;\n",
              "          element.appendChild(docLink);\n",
              "        }\n",
              "      </script>\n",
              "    </div>\n",
              "  </div>\n",
              "  "
            ]
          },
          "metadata": {},
          "execution_count": 181
        }
      ]
    },
    {
      "cell_type": "code",
      "source": [
        "#consider the \"monthly income\" column to be the population\n",
        "pop=attr.MonthlyIncome"
      ],
      "metadata": {
        "id": "FmkCdhI18CRT"
      },
      "execution_count": 182,
      "outputs": []
    },
    {
      "cell_type": "markdown",
      "source": [
        "**Part 1 - Population mean, variance calculation**"
      ],
      "metadata": {
        "id": "BacWl3auwvoP"
      }
    },
    {
      "cell_type": "code",
      "source": [
        "#population mean,variance, standard error\n",
        "print(\"Population mean:\",pop.mean(),\"\\n\"\"Population variance:\",np.var(pop,ddof=0))"
      ],
      "metadata": {
        "colab": {
          "base_uri": "https://localhost:8080/"
        },
        "id": "gQddihpS8I-R",
        "outputId": "133d6ecf-7c1d-463d-eb28-7c31c6a3f0d5"
      },
      "execution_count": 183,
      "outputs": [
        {
          "output_type": "stream",
          "name": "stdout",
          "text": [
            "Population mean: 6502.931292517007 \n",
            "Population variance: 22149778.937456165\n"
          ]
        }
      ]
    },
    {
      "cell_type": "markdown",
      "source": [
        "**Part 2 - Drawing one random sample (without replacement) and calculating sample mean, sample mean variance**"
      ],
      "metadata": {
        "id": "84cpeKPAwzTU"
      }
    },
    {
      "cell_type": "code",
      "source": [
        "#original sample to be used for bootstrapping later\n",
        "#generating random sample (s) of size 200 (without replacement)\n",
        "smpl=pop.sample(200)"
      ],
      "metadata": {
        "id": "j6qK4x3d9DfO"
      },
      "execution_count": 189,
      "outputs": []
    },
    {
      "cell_type": "code",
      "source": [
        "#calculating sample mean, sample mean variance\n",
        "print(\"Sample mean for 1 random sample:\", smpl.mean(), \"\\nSample mean variance for 1 random sample:\",(np.var(pop,ddof=0))/200) #using formula --> population variance/n"
      ],
      "metadata": {
        "colab": {
          "base_uri": "https://localhost:8080/"
        },
        "id": "3VOJXRp7-zVt",
        "outputId": "f87ea7e8-288c-4685-92c5-e498b7a70395"
      },
      "execution_count": 190,
      "outputs": [
        {
          "output_type": "stream",
          "name": "stdout",
          "text": [
            "Sample mean for 1 random sample: 6598.275 \n",
            "Sample mean variance for 1 random sample: 110748.89468728082\n"
          ]
        }
      ]
    },
    {
      "cell_type": "markdown",
      "source": [
        "**Part 3 - Drawing 10k random samples (without replacement) and calculating the average of sample means (expected value of sample means) and the variance of sample means**"
      ],
      "metadata": {
        "id": "LGay4Nwyw3LK"
      }
    },
    {
      "cell_type": "code",
      "source": [
        "#generating 10,000 samples of size 200 from P \n",
        "xbar=[]\n",
        "for i in range(10000):\n",
        "  smpl1=pop.sample(200)\n",
        "  smean=smpl1.mean()\n",
        "  xbar.append(smean)\n",
        "#print(xbar)\n"
      ],
      "metadata": {
        "id": "N12x2rS3_UsB"
      },
      "execution_count": 191,
      "outputs": []
    },
    {
      "cell_type": "code",
      "source": [
        "#calculating the E(xbar),i.e, mean of sampling means, and Var(xbar) i.e.  variance of sampling means\n",
        "print(\"Average of 10k random sample means: \", np.mean(xbar),\"\\nVariance of 10k random sample means: \", np.var(xbar,ddof=1))"
      ],
      "metadata": {
        "colab": {
          "base_uri": "https://localhost:8080/"
        },
        "id": "OteTtYzcAze8",
        "outputId": "89cd20f8-a871-486f-ca3b-139310563f84"
      },
      "execution_count": 192,
      "outputs": [
        {
          "output_type": "stream",
          "name": "stdout",
          "text": [
            "Average of 10k random sample means:  6503.6966385000005 \n",
            "Variance of 10k random sample means:  93704.03484658748\n"
          ]
        }
      ]
    },
    {
      "cell_type": "markdown",
      "source": [
        "**Comparison:** We observe that the variance of 10,000 sampling means is close, but not equal, to the calculated/theoretical variance of the sampling means (using the formula --> population variance/n) in part 2. The average of sampling means is nearly equal to the population mean in part 1."
      ],
      "metadata": {
        "id": "j5qj440GFS8w"
      }
    },
    {
      "cell_type": "markdown",
      "source": [
        "**Part 4 - Drawing 10k bootstrap samples from 's' (part 2) and calculating average of sample means and variance of sample means**"
      ],
      "metadata": {
        "id": "WiVX6w8EznNl"
      }
    },
    {
      "cell_type": "code",
      "source": [
        "#generating bootstrap samples from original sample 's'\n",
        "boot_smean=[]\n",
        "for i in range(0,10000):\n",
        "  boot=choices(list(smpl),k=200)\n",
        "  bootmean=np.mean(boot)\n",
        "  boot_smean.append(bootmean)\n",
        "#print(boot_smean)"
      ],
      "metadata": {
        "id": "1cpHPv1ICqnc"
      },
      "execution_count": 193,
      "outputs": []
    },
    {
      "cell_type": "code",
      "source": [
        "#average of bootstrap sample means, variance of bootstrap sample means\n",
        "print(\"Average  of 10k bootstrap sample means: \", np.mean(boot_smean),\"\\nVariance of 10k bootstrap sample means: \", np.var(boot_smean,ddof=1))"
      ],
      "metadata": {
        "colab": {
          "base_uri": "https://localhost:8080/"
        },
        "id": "blEG-_p7UwGa",
        "outputId": "127da25c-441c-4257-9084-c09d21011987"
      },
      "execution_count": 194,
      "outputs": [
        {
          "output_type": "stream",
          "name": "stdout",
          "text": [
            "Average  of 10k bootstrap sample means:  6602.344415 \n",
            "Variance of 10k bootstrap sample means:  112424.0250312959\n"
          ]
        }
      ]
    },
    {
      "cell_type": "markdown",
      "source": [
        "**Comparison:** We observe that the variance of 10,000 bootstrap sampling means is very close,but not equal to the variance of the original sample 's' (using the formula --> population variance/n) in part 2. The average of the bootstrap sample means in part 4 is nearly equal to the sample mean in part 2,however, the average of bootstrap sample means is farther away from the population mean, which makes sense, because all bootstrap samples are drawn from one random sample (s) whose mean is different from population mean."
      ],
      "metadata": {
        "id": "tGx9ZGOzh6ol"
      }
    },
    {
      "cell_type": "markdown",
      "source": [
        "[Github link](https://github.com/aanchalkhanna72/aanchalkhanna72/blob/main/E22001_AML_Experiment_6.ipynb)"
      ],
      "metadata": {
        "id": "YCONjlAD2-nQ"
      }
    },
    {
      "cell_type": "code",
      "source": [
        ""
      ],
      "metadata": {
        "id": "sw5DmgmS3CS7"
      },
      "execution_count": null,
      "outputs": []
    }
  ]
}