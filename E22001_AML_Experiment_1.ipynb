{
  "nbformat": 4,
  "nbformat_minor": 0,
  "metadata": {
    "colab": {
      "name": "E22001 AML Experiment 1.ipynb",
      "provenance": [],
      "authorship_tag": "ABX9TyN3t9dFVYEQID0E4/vmcPiS",
      "include_colab_link": true
    },
    "kernelspec": {
      "name": "python3",
      "display_name": "Python 3"
    },
    "language_info": {
      "name": "python"
    }
  },
  "cells": [
    {
      "cell_type": "markdown",
      "metadata": {
        "id": "view-in-github",
        "colab_type": "text"
      },
      "source": [
        "<a href=\"https://colab.research.google.com/github/aanchalkhanna72/aanchalkhanna72/blob/main/E22001_AML_Experiment_1.ipynb\" target=\"_parent\"><img src=\"https://colab.research.google.com/assets/colab-badge.svg\" alt=\"Open In Colab\"/></a>"
      ]
    },
    {
      "cell_type": "markdown",
      "source": [
        "**E22001 Aanchal Khanna**"
      ],
      "metadata": {
        "id": "GVq17nd-tcR8"
      }
    },
    {
      "cell_type": "markdown",
      "source": [
        "**Experiment 1: Objective - Observing and Comparing Variance of KNN Model and Decision Tree model using Ensemble Learning**"
      ],
      "metadata": {
        "id": "UxnECXJdc_v3"
      }
    },
    {
      "cell_type": "markdown",
      "source": [
        "**Hypothesis: Decision Tree will have higher variance as it is a greedy model and it overfits our data.**"
      ],
      "metadata": {
        "id": "tNxy2Gak4g30"
      }
    },
    {
      "cell_type": "markdown",
      "source": [
        "**Let's check if that is reflected in our experiment..**"
      ],
      "metadata": {
        "id": "agYJLPZb42q5"
      }
    },
    {
      "cell_type": "code",
      "source": [
        "#importing libraries\n",
        "import pandas as pd\n",
        "import numpy as np\n",
        "from random import sample\n",
        "from sklearn.neighbors import KNeighborsRegressor\n",
        "from sklearn.tree import DecisionTreeRegressor"
      ],
      "metadata": {
        "id": "4dTUIAzWudpG"
      },
      "execution_count": 135,
      "outputs": []
    },
    {
      "cell_type": "code",
      "source": [
        "#importing dataset through local runtime\n",
        "cars=pd.read_csv(\"/Users/aanchalkhanna72/Desktop/Praxis/Term 1/IML/cars.csv\")\n",
        "cars.head()"
      ],
      "metadata": {
        "colab": {
          "base_uri": "https://localhost:8080/",
          "height": 434
        },
        "id": "UxFOLMV-uTwe",
        "outputId": "775af96d-f771-4407-e6b3-b430e2118bda"
      },
      "execution_count": null,
      "outputs": [
        {
          "output_type": "execute_result",
          "data": {
            "text/plain": [
              "                         Car   MPG  Cylinders  Displacement  Horsepower  \\\n",
              "0  Chevrolet Chevelle Malibu  18.0          8         307.0         130   \n",
              "1          Buick Skylark 320  15.0          8         350.0         165   \n",
              "2         Plymouth Satellite  18.0          8         318.0         150   \n",
              "3              AMC Rebel SST  16.0          8         304.0         150   \n",
              "4                Ford Torino  17.0          8         302.0         140   \n",
              "\n",
              "   Weight  Acceleration  Model Origin  \\\n",
              "0    3504          12.0     70     US   \n",
              "1    3693          11.5     70     US   \n",
              "2    3436          11.0     70     US   \n",
              "3    3433          12.0     70     US   \n",
              "4    3449          10.5     70     US   \n",
              "\n",
              "                                          Unnamed: 9 Unnamed: 10 Unnamed: 11  \\\n",
              "0                                                NaN         NaN         NaN   \n",
              "1                                                NaN         NaN         NaN   \n",
              "2                                          For every    entity,    there are   \n",
              "3  each variable represents a characteristic of  ...         NaN         NaN   \n",
              "4                                  entity - 406 cars         NaN         NaN   \n",
              "\n",
              "                         Unnamed: 12  \n",
              "0                                NaN  \n",
              "1                                NaN  \n",
              "2  7 values so this is 1 observation  \n",
              "3                                NaN  \n",
              "4                                NaN  "
            ],
            "text/html": [
              "<div>\n",
              "<style scoped>\n",
              "    .dataframe tbody tr th:only-of-type {\n",
              "        vertical-align: middle;\n",
              "    }\n",
              "\n",
              "    .dataframe tbody tr th {\n",
              "        vertical-align: top;\n",
              "    }\n",
              "\n",
              "    .dataframe thead th {\n",
              "        text-align: right;\n",
              "    }\n",
              "</style>\n",
              "<table border=\"1\" class=\"dataframe\">\n",
              "  <thead>\n",
              "    <tr style=\"text-align: right;\">\n",
              "      <th></th>\n",
              "      <th>Car</th>\n",
              "      <th>MPG</th>\n",
              "      <th>Cylinders</th>\n",
              "      <th>Displacement</th>\n",
              "      <th>Horsepower</th>\n",
              "      <th>Weight</th>\n",
              "      <th>Acceleration</th>\n",
              "      <th>Model</th>\n",
              "      <th>Origin</th>\n",
              "      <th>Unnamed: 9</th>\n",
              "      <th>Unnamed: 10</th>\n",
              "      <th>Unnamed: 11</th>\n",
              "      <th>Unnamed: 12</th>\n",
              "    </tr>\n",
              "  </thead>\n",
              "  <tbody>\n",
              "    <tr>\n",
              "      <th>0</th>\n",
              "      <td>Chevrolet Chevelle Malibu</td>\n",
              "      <td>18.0</td>\n",
              "      <td>8</td>\n",
              "      <td>307.0</td>\n",
              "      <td>130</td>\n",
              "      <td>3504</td>\n",
              "      <td>12.0</td>\n",
              "      <td>70</td>\n",
              "      <td>US</td>\n",
              "      <td>NaN</td>\n",
              "      <td>NaN</td>\n",
              "      <td>NaN</td>\n",
              "      <td>NaN</td>\n",
              "    </tr>\n",
              "    <tr>\n",
              "      <th>1</th>\n",
              "      <td>Buick Skylark 320</td>\n",
              "      <td>15.0</td>\n",
              "      <td>8</td>\n",
              "      <td>350.0</td>\n",
              "      <td>165</td>\n",
              "      <td>3693</td>\n",
              "      <td>11.5</td>\n",
              "      <td>70</td>\n",
              "      <td>US</td>\n",
              "      <td>NaN</td>\n",
              "      <td>NaN</td>\n",
              "      <td>NaN</td>\n",
              "      <td>NaN</td>\n",
              "    </tr>\n",
              "    <tr>\n",
              "      <th>2</th>\n",
              "      <td>Plymouth Satellite</td>\n",
              "      <td>18.0</td>\n",
              "      <td>8</td>\n",
              "      <td>318.0</td>\n",
              "      <td>150</td>\n",
              "      <td>3436</td>\n",
              "      <td>11.0</td>\n",
              "      <td>70</td>\n",
              "      <td>US</td>\n",
              "      <td>For every</td>\n",
              "      <td>entity,</td>\n",
              "      <td>there are</td>\n",
              "      <td>7 values so this is 1 observation</td>\n",
              "    </tr>\n",
              "    <tr>\n",
              "      <th>3</th>\n",
              "      <td>AMC Rebel SST</td>\n",
              "      <td>16.0</td>\n",
              "      <td>8</td>\n",
              "      <td>304.0</td>\n",
              "      <td>150</td>\n",
              "      <td>3433</td>\n",
              "      <td>12.0</td>\n",
              "      <td>70</td>\n",
              "      <td>US</td>\n",
              "      <td>each variable represents a characteristic of  ...</td>\n",
              "      <td>NaN</td>\n",
              "      <td>NaN</td>\n",
              "      <td>NaN</td>\n",
              "    </tr>\n",
              "    <tr>\n",
              "      <th>4</th>\n",
              "      <td>Ford Torino</td>\n",
              "      <td>17.0</td>\n",
              "      <td>8</td>\n",
              "      <td>302.0</td>\n",
              "      <td>140</td>\n",
              "      <td>3449</td>\n",
              "      <td>10.5</td>\n",
              "      <td>70</td>\n",
              "      <td>US</td>\n",
              "      <td>entity - 406 cars</td>\n",
              "      <td>NaN</td>\n",
              "      <td>NaN</td>\n",
              "      <td>NaN</td>\n",
              "    </tr>\n",
              "  </tbody>\n",
              "</table>\n",
              "</div>"
            ]
          },
          "metadata": {},
          "execution_count": 126
        }
      ]
    },
    {
      "cell_type": "code",
      "source": [
        "#selecting columns for analysis\n",
        "data=cars[[\"Horsepower\",\"Cylinders\",\"Weight\",\"Displacement\",\"MPG\"]]\n"
      ],
      "metadata": {
        "id": "TDBMhqpVucdI"
      },
      "execution_count": null,
      "outputs": []
    },
    {
      "cell_type": "code",
      "source": [
        "#checking data head,length\n",
        "data.head(),len(data)"
      ],
      "metadata": {
        "id": "ukkNRJR_uxOm",
        "colab": {
          "base_uri": "https://localhost:8080/"
        },
        "outputId": "0b384136-c99c-442c-f95a-3ca0605a8041"
      },
      "execution_count": null,
      "outputs": [
        {
          "output_type": "execute_result",
          "data": {
            "text/plain": [
              "(   Horsepower  Cylinders  Weight  Displacement   MPG\n",
              " 0         130          8    3504         307.0  18.0\n",
              " 1         165          8    3693         350.0  15.0\n",
              " 2         150          8    3436         318.0  18.0\n",
              " 3         150          8    3433         304.0  16.0\n",
              " 4         140          8    3449         302.0  17.0,\n",
              " 406)"
            ]
          },
          "metadata": {},
          "execution_count": 128
        }
      ]
    },
    {
      "cell_type": "markdown",
      "source": [
        "**Step 1: Test-Train Split**"
      ],
      "metadata": {
        "id": "NRKTG-FMdjrz"
      }
    },
    {
      "cell_type": "code",
      "source": [
        "#segregating test observation from training data\n",
        "test=data.sample(n=1,random_state=1)\n",
        "X_test=test[[\"Horsepower\",\"Cylinders\",\"Weight\",\"Displacement\"]]\n",
        "y_test=test[[\"MPG\"]]"
      ],
      "metadata": {
        "id": "U7HiJks9DiLt"
      },
      "execution_count": null,
      "outputs": []
    },
    {
      "cell_type": "code",
      "source": [
        "#creating training set for random sampling and model fitting\n",
        "train=data[[\"Horsepower\",\"Cylinders\",\"Weight\",\"Displacement\",\"MPG\"]]\n",
        "#dropping test observation from  train  data\n",
        "train.drop(test.index,inplace=True)\n",
        "len(X_test),len(y_test),len(train)#len(X_train),len(y_train)"
      ],
      "metadata": {
        "colab": {
          "base_uri": "https://localhost:8080/"
        },
        "id": "mcPFIgE6T0hi",
        "outputId": "9ad99350-3d7f-4bc3-b8a4-9de26d8de96c"
      },
      "execution_count": null,
      "outputs": [
        {
          "output_type": "execute_result",
          "data": {
            "text/plain": [
              "(1, 1, 405)"
            ]
          },
          "metadata": {},
          "execution_count": 130
        }
      ]
    },
    {
      "cell_type": "markdown",
      "source": [
        "**Step 2: Drawing 200 Random Samples, Fitting KNN models on respective samples**"
      ],
      "metadata": {
        "id": "RXYbwGRRc5_a"
      }
    },
    {
      "cell_type": "code",
      "source": [
        "#Steps for creating code for :\n",
        "#drawing 200 random samples\n",
        "#fitting KNN model on each sample\n",
        "#predicting the MPG of test observation\n",
        "#calcualting variance of the model\n",
        "#repeating the same process for Decision Tree model\n",
        "\n",
        "y_predictions=[]\n",
        "for i in range (1,201):\n",
        "  #generate 200 random samples  of 80 observations each\n",
        "  smpl=train.sample(n=80)\n",
        "  #split training data into predictors and target\n",
        "  X_train_smpl=smpl[[\"Cylinders\",\"Horsepower\",\"Weight\",\"Displacement\"]]\n",
        "  y_train_smpl=smpl[[\"MPG\"]]\n",
        "  #fitting KNN model on each sample\n",
        "        #Step 1: instantiate learning model\n",
        "  knn=KNeighborsRegressor(metric='euclidean') #5-NN default using euclidean distance  \n",
        "        #Step 2: fitting the model\n",
        "  knn.fit(X_train_smpl,y_train_smpl)\n",
        "  #predicting the MPG of test observation\n",
        "  y_pred=knn.predict(X_test)\n",
        "  y_predictions.append(y_pred)\n",
        "print(y_predictions)"
      ],
      "metadata": {
        "id": "kSzYdk9MY5y4",
        "colab": {
          "base_uri": "https://localhost:8080/"
        },
        "outputId": "c0479c5d-3cde-436a-c6dd-9d631c9ed85a"
      },
      "execution_count": null,
      "outputs": [
        {
          "output_type": "stream",
          "name": "stdout",
          "text": [
            "[array([[30.5]]), array([[30.8]]), array([[28.06]]), array([[31.24]]), array([[28.34]]), array([[28.66]]), array([[31.36]]), array([[28.48]]), array([[30.1]]), array([[29.9]]), array([[29.]]), array([[29.84]]), array([[31.12]]), array([[24.6]]), array([[27.96]]), array([[33.64]]), array([[28.14]]), array([[34.42]]), array([[28.6]]), array([[28.2]]), array([[30.1]]), array([[30.04]]), array([[27.66]]), array([[28.6]]), array([[28.82]]), array([[28.62]]), array([[27.78]]), array([[30.32]]), array([[27.7]]), array([[30.58]]), array([[29.12]]), array([[25.1]]), array([[26.]]), array([[27.76]]), array([[28.]]), array([[27.84]]), array([[28.72]]), array([[27.7]]), array([[32.3]]), array([[26.18]]), array([[30.94]]), array([[29.9]]), array([[24.5]]), array([[28.7]]), array([[29.24]]), array([[28.64]]), array([[27.94]]), array([[31.48]]), array([[28.44]]), array([[28.94]]), array([[29.34]]), array([[31.76]]), array([[28.9]]), array([[30.48]]), array([[31.22]]), array([[29.14]]), array([[31.4]]), array([[28.3]]), array([[30.96]]), array([[23.9]]), array([[27.8]]), array([[30.94]]), array([[27.04]]), array([[28.04]]), array([[26.7]]), array([[27.1]]), array([[30.38]]), array([[29.]]), array([[26.5]]), array([[29.24]]), array([[32.34]]), array([[26.38]]), array([[28.2]]), array([[28.4]]), array([[30.04]]), array([[28.44]]), array([[28.24]]), array([[30.66]]), array([[28.6]]), array([[29.44]]), array([[28.28]]), array([[28.08]]), array([[29.28]]), array([[25.8]]), array([[29.7]]), array([[28.54]]), array([[28.12]]), array([[31.08]]), array([[31.52]]), array([[28.34]]), array([[27.98]]), array([[29.96]]), array([[29.68]]), array([[28.24]]), array([[34.6]]), array([[28.98]]), array([[28.6]]), array([[31.1]]), array([[30.18]]), array([[26.2]]), array([[31.54]]), array([[29.58]]), array([[27.3]]), array([[32.14]]), array([[30.44]]), array([[28.88]]), array([[30.66]]), array([[30.42]]), array([[31.64]]), array([[24.6]]), array([[30.86]]), array([[30.82]]), array([[29.74]]), array([[30.36]]), array([[31.6]]), array([[29.38]]), array([[27.56]]), array([[28.82]]), array([[28.86]]), array([[31.5]]), array([[30.54]]), array([[27.64]]), array([[30.78]]), array([[29.14]]), array([[29.6]]), array([[27.3]]), array([[29.74]]), array([[28.28]]), array([[27.74]]), array([[28.6]]), array([[26.4]]), array([[24.7]]), array([[26.4]]), array([[28.84]]), array([[29.2]]), array([[27.92]]), array([[29.]]), array([[26.]]), array([[29.62]]), array([[32.38]]), array([[27.84]]), array([[25.8]]), array([[29.1]]), array([[26.18]]), array([[31.9]]), array([[29.6]]), array([[31.52]]), array([[30.68]]), array([[28.24]]), array([[27.9]]), array([[27.74]]), array([[29.48]]), array([[27.3]]), array([[30.56]]), array([[27.46]]), array([[31.68]]), array([[27.64]]), array([[32.1]]), array([[26.14]]), array([[28.34]]), array([[29.94]]), array([[32.34]]), array([[30.54]]), array([[26.4]]), array([[30.]]), array([[29.]]), array([[28.94]]), array([[33.48]]), array([[24.7]]), array([[25.7]]), array([[30.3]]), array([[29.86]]), array([[29.84]]), array([[28.9]]), array([[27.68]]), array([[27.3]]), array([[25.7]]), array([[29.14]]), array([[26.56]]), array([[28.06]]), array([[28.94]]), array([[28.24]]), array([[28.]]), array([[27.1]]), array([[37.42]]), array([[25.4]]), array([[24.6]]), array([[29.2]]), array([[32.14]]), array([[29.58]]), array([[31.14]]), array([[29.04]]), array([[28.42]]), array([[25.8]]), array([[31.04]]), array([[27.84]]), array([[29.58]]), array([[30.22]]), array([[27.38]]), array([[33.76]])]\n"
          ]
        }
      ]
    },
    {
      "cell_type": "code",
      "source": [
        "#calcualting variance of the KNN model\n",
        "variance=(np.sum(np.asarray(y_predictions)**2)/200-1)-(np.mean(y_predictions)**2)\n",
        "variance"
      ],
      "metadata": {
        "id": "Zz8Rx0ZYrxJN",
        "outputId": "45f62e0b-667c-4f29-8c39-356eb79df769",
        "colab": {
          "base_uri": "https://localhost:8080/"
        }
      },
      "execution_count": null,
      "outputs": [
        {
          "output_type": "execute_result",
          "data": {
            "text/plain": [
              "3.2491517499997826"
            ]
          },
          "metadata": {},
          "execution_count": 132
        }
      ]
    },
    {
      "cell_type": "markdown",
      "source": [
        "**Step 3: Drawing 200 Random Samples, Fitting Decision Tree (DT) models on respective samples**"
      ],
      "metadata": {
        "id": "pKJ6TyRz2e7i"
      }
    },
    {
      "cell_type": "code",
      "source": [
        "y_predictions_dt=[]\n",
        "for i in range (1,201):\n",
        "  #generate 200 random samples  of 80 observations each\n",
        "  smpl=train.sample(n=80)\n",
        "  #split training data into predictors and target\n",
        "  X_train_smpl=smpl[[\"Cylinders\",\"Horsepower\",\"Weight\",\"Displacement\"]]\n",
        "  y_train_smpl=smpl[[\"MPG\"]]\n",
        "  #fitting DT model on each sample\n",
        "        #Step 1: instantiate learning model\n",
        "  reg_tree=DecisionTreeRegressor() #default min_samples_leaf=5,max_depth=none\n",
        "  reg_tree.fit(X_train_smpl,y_train_smpl)\n",
        "  #predicting the MPG of test observation\n",
        "  y_pred=reg_tree.predict(X_test)\n",
        "  y_predictions_dt.append(y_pred)\n",
        "print(y_predictions_dt)"
      ],
      "metadata": {
        "colab": {
          "base_uri": "https://localhost:8080/"
        },
        "id": "ktPt_fSCqPdR",
        "outputId": "5dc85b27-e8b7-48e5-917b-7f6f35bc6653"
      },
      "execution_count": null,
      "outputs": [
        {
          "output_type": "stream",
          "name": "stdout",
          "text": [
            "[array([34.]), array([23.6]), array([34.]), array([0.]), array([34.2]), array([34.7]), array([34.]), array([34.5]), array([0.]), array([44.3]), array([36.4]), array([26.]), array([30.7]), array([43.1]), array([44.3]), array([19.]), array([34.5]), array([44.3]), array([21.]), array([23.6]), array([24.]), array([33.]), array([44.3]), array([34.5]), array([34.7]), array([25.]), array([21.]), array([33.]), array([23.5]), array([44.3]), array([34.]), array([34.5]), array([25.]), array([23.]), array([43.4]), array([0.]), array([26.]), array([43.1]), array([34.5]), array([34.7]), array([34.7]), array([43.4]), array([22.]), array([25.]), array([24.]), array([34.5]), array([25.]), array([25.]), array([26.]), array([36.]), array([23.]), array([38.]), array([44.]), array([26.]), array([31.6]), array([34.5]), array([21.]), array([43.4]), array([34.5]), array([34.5]), array([25.]), array([34.5]), array([32.3]), array([0.]), array([34.5]), array([26.]), array([17.]), array([34.5]), array([26.]), array([36.4]), array([34.5]), array([19.8]), array([29.5]), array([26.]), array([21.]), array([21.]), array([34.5]), array([21.]), array([34.7]), array([34.5]), array([25.]), array([25.]), array([40.8]), array([23.]), array([34.7]), array([44.]), array([23.5]), array([23.]), array([34.7]), array([44.3]), array([24.5]), array([34.2]), array([23.]), array([23.9]), array([23.]), array([26.]), array([26.]), array([26.]), array([24.5]), array([29.9]), array([30.9]), array([26.]), array([33.]), array([34.7]), array([23.]), array([19.]), array([46.6]), array([24.5]), array([25.]), array([25.]), array([34.5]), array([34.5]), array([34.5]), array([26.]), array([21.]), array([44.]), array([34.5]), array([34.5]), array([36.]), array([26.]), array([22.]), array([25.]), array([37.]), array([26.]), array([24.]), array([23.]), array([26.]), array([22.]), array([25.]), array([44.3]), array([22.5]), array([34.7]), array([38.]), array([0.]), array([29.9]), array([26.]), array([22.]), array([43.1]), array([36.4]), array([24.]), array([43.4]), array([24.5]), array([23.]), array([44.3]), array([44.3]), array([43.4]), array([33.]), array([44.3]), array([43.1]), array([20.2]), array([24.5]), array([26.]), array([34.5]), array([25.]), array([46.6]), array([21.]), array([26.]), array([24.5]), array([44.3]), array([37.7]), array([30.5]), array([44.]), array([34.5]), array([23.6]), array([34.5]), array([34.5]), array([26.]), array([25.]), array([20.]), array([23.]), array([34.5]), array([44.]), array([24.5]), array([21.]), array([43.4]), array([34.2]), array([21.]), array([0.]), array([21.]), array([40.9]), array([25.]), array([44.3]), array([40.9]), array([34.7]), array([0.]), array([38.]), array([25.]), array([25.]), array([34.5]), array([34.2]), array([23.]), array([40.8]), array([26.]), array([32.4]), array([29.9]), array([44.3]), array([22.]), array([30.9]), array([26.]), array([44.])]\n"
          ]
        }
      ]
    },
    {
      "cell_type": "code",
      "source": [
        "#calcualting variance of the DT model\n",
        "variance=(np.sum(np.asarray(y_predictions_dt)**2)/200-1)-(np.mean(y_predictions_dt)**2)\n",
        "variance"
      ],
      "metadata": {
        "id": "4Y-XmmFKgSYE",
        "colab": {
          "base_uri": "https://localhost:8080/"
        },
        "outputId": "d3a09dd9-7e24-47e6-87fa-3f4bbcaa350d"
      },
      "execution_count": null,
      "outputs": [
        {
          "output_type": "execute_result",
          "data": {
            "text/plain": [
              "90.14111899999978"
            ]
          },
          "metadata": {},
          "execution_count": 134
        }
      ]
    },
    {
      "cell_type": "markdown",
      "source": [
        "**Result: Our hypothesis is proved correct. We see that the variance  of   the DT model is higher than that of KNN model. Since the DT model is allowed to grow to its maximum size in our current model, model complexity is high and variance is high. Compared to KNN, DT model generalizes the training data very well and so, when it is presented with an unknown observation, it will produce more variance in the predicted values of the test observation.**"
      ],
      "metadata": {
        "id": "fo0a73j54ZS_"
      }
    },
    {
      "cell_type": "markdown",
      "source": [
        "Github link: (https://github.com/aanchalkhanna72)"
      ],
      "metadata": {
        "id": "zpszJ6mz-YFa"
      }
    },
    {
      "cell_type": "code",
      "source": [
        ""
      ],
      "metadata": {
        "id": "iBCpb4Zz-rXH"
      },
      "execution_count": null,
      "outputs": []
    }
  ]
}