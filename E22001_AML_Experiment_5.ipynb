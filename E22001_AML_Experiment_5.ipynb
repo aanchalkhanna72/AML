{
  "nbformat": 4,
  "nbformat_minor": 0,
  "metadata": {
    "colab": {
      "name": "E22001 AML Experiment 5.ipynb",
      "provenance": [],
      "authorship_tag": "ABX9TyNEQMdDsFgai0blFqOxVutg",
      "include_colab_link": true
    },
    "kernelspec": {
      "name": "python3",
      "display_name": "Python 3"
    },
    "language_info": {
      "name": "python"
    }
  },
  "cells": [
    {
      "cell_type": "markdown",
      "metadata": {
        "id": "view-in-github",
        "colab_type": "text"
      },
      "source": [
        "<a href=\"https://colab.research.google.com/github/aanchalkhanna72/aanchalkhanna72/blob/main/E22001_AML_Experiment_5.ipynb\" target=\"_parent\"><img src=\"https://colab.research.google.com/assets/colab-badge.svg\" alt=\"Open In Colab\"/></a>"
      ]
    },
    {
      "cell_type": "markdown",
      "source": [
        "**E22001 Aanchal Khanna | 06.06.2022**"
      ],
      "metadata": {
        "id": "OtnFQQWU09wF"
      }
    },
    {
      "cell_type": "markdown",
      "source": [
        "**Experiment 5: Bootstrapping** \n",
        "\n",
        "Objective: Deepening understanding of the proportion of unique values vs duplicate values present in a bootstrap sample"
      ],
      "metadata": {
        "id": "Cdn7465L1HoF"
      }
    },
    {
      "cell_type": "code",
      "execution_count": 89,
      "metadata": {
        "id": "mrdr33s400gi"
      },
      "outputs": [],
      "source": [
        "#importing libraries\n",
        "import random\n",
        "import numpy as np\n",
        "import seaborn as sns"
      ]
    },
    {
      "cell_type": "code",
      "source": [
        "#generating a sequence of numbers from 1-100, which will be  called our population (P)\n",
        "P=np.array(range(1,101))\n",
        "P"
      ],
      "metadata": {
        "colab": {
          "base_uri": "https://localhost:8080/"
        },
        "id": "2FeSU5eb0-T4",
        "outputId": "2925c2ee-8aa9-442f-9aa8-5a1ef7a488b7"
      },
      "execution_count": 2,
      "outputs": [
        {
          "output_type": "execute_result",
          "data": {
            "text/plain": [
              "array([  1,   2,   3,   4,   5,   6,   7,   8,   9,  10,  11,  12,  13,\n",
              "        14,  15,  16,  17,  18,  19,  20,  21,  22,  23,  24,  25,  26,\n",
              "        27,  28,  29,  30,  31,  32,  33,  34,  35,  36,  37,  38,  39,\n",
              "        40,  41,  42,  43,  44,  45,  46,  47,  48,  49,  50,  51,  52,\n",
              "        53,  54,  55,  56,  57,  58,  59,  60,  61,  62,  63,  64,  65,\n",
              "        66,  67,  68,  69,  70,  71,  72,  73,  74,  75,  76,  77,  78,\n",
              "        79,  80,  81,  82,  83,  84,  85,  86,  87,  88,  89,  90,  91,\n",
              "        92,  93,  94,  95,  96,  97,  98,  99, 100])"
            ]
          },
          "metadata": {},
          "execution_count": 2
        }
      ]
    },
    {
      "cell_type": "code",
      "source": [
        "#generating bootstrapped samples\n",
        "\n",
        "prop=[] #empty list to store proportion of unique values\n",
        "#generating 1000 samples with replacement from P\n",
        "for i in range (1,1001):\n",
        "  smpl=random.choices(P,k=100) #generate a sample of size 100 \n",
        "  for each in smpl:  #go through each value in a sample #print(smpl) - for checking only\n",
        "    u_smpl=set(smpl) #calculating  the proportion of unique values\n",
        "  calc=len(u_smpl)/len(smpl) #out of loop because you want to calculate this at the end, not  in the loop\n",
        "  prop.append(calc)  #print(len(u_smpl)) - for checking only\n",
        "print(prop)"
      ],
      "metadata": {
        "colab": {
          "base_uri": "https://localhost:8080/"
        },
        "id": "MkP0EQE61BmE",
        "outputId": "93d611b8-5530-4b5a-c59b-4a72c5c9e108"
      },
      "execution_count": 91,
      "outputs": [
        {
          "output_type": "stream",
          "name": "stdout",
          "text": [
            "[0.61, 0.62, 0.65, 0.61, 0.69, 0.65, 0.68, 0.68, 0.66, 0.66, 0.59, 0.57, 0.64, 0.63, 0.6, 0.61, 0.67, 0.64, 0.61, 0.62, 0.66, 0.65, 0.65, 0.68, 0.62, 0.64, 0.65, 0.59, 0.65, 0.65, 0.64, 0.64, 0.65, 0.61, 0.59, 0.62, 0.63, 0.59, 0.61, 0.6, 0.64, 0.65, 0.65, 0.68, 0.63, 0.65, 0.57, 0.61, 0.66, 0.7, 0.69, 0.6, 0.61, 0.61, 0.68, 0.64, 0.71, 0.58, 0.63, 0.61, 0.66, 0.62, 0.69, 0.65, 0.65, 0.61, 0.63, 0.67, 0.65, 0.65, 0.64, 0.65, 0.65, 0.63, 0.64, 0.67, 0.68, 0.67, 0.71, 0.65, 0.67, 0.66, 0.63, 0.62, 0.66, 0.63, 0.67, 0.65, 0.63, 0.63, 0.65, 0.64, 0.61, 0.68, 0.62, 0.63, 0.64, 0.65, 0.65, 0.64, 0.59, 0.67, 0.65, 0.62, 0.62, 0.66, 0.64, 0.64, 0.63, 0.61, 0.61, 0.6, 0.66, 0.62, 0.66, 0.63, 0.6, 0.59, 0.63, 0.66, 0.65, 0.65, 0.61, 0.66, 0.63, 0.64, 0.65, 0.71, 0.66, 0.69, 0.64, 0.67, 0.66, 0.67, 0.64, 0.63, 0.58, 0.64, 0.64, 0.59, 0.65, 0.64, 0.66, 0.62, 0.59, 0.67, 0.62, 0.67, 0.69, 0.68, 0.66, 0.63, 0.66, 0.65, 0.59, 0.61, 0.66, 0.65, 0.67, 0.64, 0.64, 0.58, 0.67, 0.65, 0.63, 0.58, 0.64, 0.63, 0.67, 0.65, 0.64, 0.63, 0.65, 0.63, 0.61, 0.55, 0.61, 0.64, 0.64, 0.62, 0.64, 0.67, 0.59, 0.63, 0.59, 0.69, 0.58, 0.66, 0.68, 0.55, 0.61, 0.67, 0.64, 0.58, 0.68, 0.59, 0.61, 0.63, 0.61, 0.63, 0.56, 0.66, 0.61, 0.68, 0.68, 0.65, 0.64, 0.63, 0.59, 0.62, 0.62, 0.58, 0.64, 0.65, 0.63, 0.6, 0.61, 0.66, 0.69, 0.61, 0.61, 0.62, 0.56, 0.64, 0.65, 0.61, 0.57, 0.65, 0.68, 0.61, 0.63, 0.67, 0.65, 0.65, 0.61, 0.66, 0.59, 0.66, 0.62, 0.62, 0.69, 0.61, 0.69, 0.66, 0.62, 0.62, 0.65, 0.58, 0.66, 0.64, 0.6, 0.7, 0.72, 0.67, 0.64, 0.64, 0.62, 0.66, 0.62, 0.59, 0.64, 0.64, 0.64, 0.62, 0.54, 0.67, 0.62, 0.62, 0.58, 0.63, 0.63, 0.68, 0.63, 0.63, 0.63, 0.64, 0.63, 0.67, 0.7, 0.67, 0.62, 0.62, 0.63, 0.61, 0.66, 0.66, 0.62, 0.61, 0.62, 0.64, 0.62, 0.58, 0.56, 0.63, 0.61, 0.62, 0.61, 0.66, 0.61, 0.61, 0.61, 0.64, 0.63, 0.64, 0.58, 0.62, 0.62, 0.63, 0.64, 0.62, 0.58, 0.63, 0.65, 0.63, 0.66, 0.62, 0.59, 0.57, 0.59, 0.66, 0.61, 0.6, 0.68, 0.62, 0.66, 0.63, 0.6, 0.63, 0.66, 0.63, 0.64, 0.59, 0.65, 0.6, 0.67, 0.64, 0.61, 0.62, 0.63, 0.61, 0.63, 0.67, 0.62, 0.67, 0.64, 0.61, 0.6, 0.6, 0.61, 0.68, 0.69, 0.67, 0.62, 0.67, 0.62, 0.61, 0.63, 0.64, 0.6, 0.63, 0.61, 0.58, 0.63, 0.67, 0.74, 0.59, 0.68, 0.65, 0.65, 0.63, 0.64, 0.66, 0.62, 0.65, 0.64, 0.63, 0.63, 0.68, 0.65, 0.58, 0.65, 0.62, 0.6, 0.65, 0.68, 0.6, 0.67, 0.65, 0.69, 0.61, 0.66, 0.63, 0.6, 0.61, 0.64, 0.63, 0.6, 0.66, 0.64, 0.64, 0.58, 0.63, 0.64, 0.65, 0.65, 0.66, 0.63, 0.61, 0.67, 0.58, 0.63, 0.68, 0.62, 0.68, 0.63, 0.68, 0.64, 0.68, 0.64, 0.66, 0.62, 0.67, 0.62, 0.62, 0.66, 0.67, 0.64, 0.64, 0.62, 0.65, 0.63, 0.6, 0.68, 0.59, 0.68, 0.65, 0.64, 0.63, 0.61, 0.66, 0.63, 0.62, 0.61, 0.59, 0.63, 0.63, 0.6, 0.6, 0.64, 0.66, 0.68, 0.62, 0.65, 0.58, 0.62, 0.67, 0.64, 0.62, 0.64, 0.6, 0.72, 0.64, 0.66, 0.63, 0.66, 0.65, 0.64, 0.62, 0.63, 0.61, 0.64, 0.66, 0.65, 0.67, 0.64, 0.63, 0.67, 0.61, 0.67, 0.64, 0.67, 0.7, 0.58, 0.67, 0.63, 0.6, 0.65, 0.6, 0.61, 0.71, 0.62, 0.68, 0.65, 0.66, 0.63, 0.65, 0.62, 0.65, 0.7, 0.6, 0.68, 0.61, 0.66, 0.69, 0.59, 0.62, 0.63, 0.71, 0.65, 0.68, 0.56, 0.59, 0.64, 0.62, 0.64, 0.63, 0.67, 0.58, 0.63, 0.63, 0.59, 0.66, 0.61, 0.69, 0.69, 0.69, 0.65, 0.7, 0.62, 0.68, 0.61, 0.63, 0.66, 0.65, 0.61, 0.65, 0.66, 0.68, 0.67, 0.67, 0.65, 0.65, 0.59, 0.62, 0.64, 0.64, 0.61, 0.65, 0.61, 0.59, 0.66, 0.67, 0.6, 0.63, 0.68, 0.61, 0.67, 0.6, 0.64, 0.69, 0.59, 0.66, 0.62, 0.66, 0.65, 0.59, 0.64, 0.59, 0.65, 0.6, 0.64, 0.62, 0.67, 0.64, 0.57, 0.63, 0.59, 0.62, 0.67, 0.61, 0.64, 0.64, 0.66, 0.58, 0.65, 0.64, 0.63, 0.59, 0.66, 0.6, 0.56, 0.6, 0.57, 0.62, 0.63, 0.65, 0.64, 0.66, 0.58, 0.65, 0.63, 0.67, 0.62, 0.66, 0.67, 0.64, 0.63, 0.63, 0.64, 0.61, 0.63, 0.61, 0.63, 0.61, 0.61, 0.62, 0.65, 0.65, 0.68, 0.68, 0.61, 0.59, 0.65, 0.62, 0.66, 0.66, 0.63, 0.67, 0.64, 0.57, 0.63, 0.71, 0.69, 0.68, 0.65, 0.66, 0.6, 0.61, 0.63, 0.67, 0.7, 0.66, 0.65, 0.65, 0.63, 0.63, 0.63, 0.66, 0.63, 0.69, 0.66, 0.69, 0.61, 0.58, 0.59, 0.61, 0.65, 0.59, 0.61, 0.62, 0.65, 0.66, 0.63, 0.7, 0.62, 0.68, 0.66, 0.65, 0.61, 0.62, 0.59, 0.63, 0.61, 0.65, 0.65, 0.66, 0.62, 0.59, 0.67, 0.68, 0.69, 0.68, 0.63, 0.61, 0.61, 0.59, 0.63, 0.66, 0.64, 0.62, 0.63, 0.69, 0.62, 0.66, 0.66, 0.64, 0.65, 0.65, 0.65, 0.65, 0.68, 0.62, 0.61, 0.65, 0.65, 0.67, 0.57, 0.62, 0.58, 0.61, 0.68, 0.62, 0.61, 0.64, 0.58, 0.63, 0.66, 0.63, 0.63, 0.66, 0.61, 0.61, 0.67, 0.69, 0.6, 0.58, 0.63, 0.62, 0.61, 0.57, 0.6, 0.68, 0.55, 0.68, 0.68, 0.66, 0.67, 0.63, 0.68, 0.61, 0.64, 0.6, 0.61, 0.61, 0.65, 0.64, 0.67, 0.72, 0.67, 0.7, 0.61, 0.6, 0.69, 0.63, 0.67, 0.64, 0.64, 0.6, 0.63, 0.58, 0.67, 0.63, 0.61, 0.63, 0.6, 0.59, 0.54, 0.68, 0.67, 0.58, 0.67, 0.64, 0.61, 0.63, 0.63, 0.63, 0.61, 0.63, 0.64, 0.63, 0.67, 0.67, 0.63, 0.57, 0.61, 0.63, 0.57, 0.65, 0.63, 0.62, 0.64, 0.67, 0.64, 0.63, 0.59, 0.66, 0.64, 0.66, 0.59, 0.67, 0.7, 0.63, 0.64, 0.58, 0.59, 0.6, 0.71, 0.63, 0.58, 0.63, 0.66, 0.62, 0.67, 0.65, 0.64, 0.64, 0.66, 0.64, 0.62, 0.57, 0.63, 0.66, 0.59, 0.62, 0.68, 0.64, 0.64, 0.66, 0.65, 0.62, 0.67, 0.66, 0.63, 0.63, 0.62, 0.66, 0.62, 0.66, 0.6, 0.64, 0.59, 0.55, 0.65, 0.65, 0.61, 0.65, 0.61, 0.62, 0.64, 0.64, 0.66, 0.6, 0.66, 0.62, 0.63, 0.64, 0.61, 0.65, 0.63, 0.67, 0.67, 0.6, 0.68, 0.62, 0.58, 0.58, 0.53, 0.66, 0.66, 0.74, 0.68, 0.59, 0.7, 0.66, 0.62, 0.65, 0.65, 0.65, 0.59, 0.65, 0.65, 0.62, 0.64, 0.65, 0.68, 0.63, 0.62, 0.64, 0.62, 0.62, 0.64, 0.59, 0.61, 0.61, 0.63, 0.63, 0.66, 0.61, 0.6, 0.63, 0.65, 0.66, 0.61, 0.69, 0.58, 0.6, 0.69, 0.62, 0.63, 0.62, 0.64, 0.62, 0.64, 0.64, 0.61, 0.66, 0.59, 0.67, 0.68, 0.68, 0.66, 0.6, 0.62, 0.6, 0.65, 0.66, 0.66, 0.65, 0.67, 0.6, 0.71, 0.67, 0.66, 0.62, 0.69, 0.64, 0.64, 0.63, 0.63, 0.6, 0.65, 0.59, 0.62, 0.61, 0.64, 0.56, 0.64, 0.61, 0.63, 0.62, 0.64, 0.65, 0.61, 0.65, 0.66, 0.66, 0.66, 0.65, 0.62, 0.68, 0.63, 0.6, 0.55, 0.62, 0.64, 0.67, 0.61, 0.6, 0.59, 0.62, 0.64, 0.65, 0.62, 0.65, 0.63, 0.64, 0.61, 0.63, 0.59, 0.65, 0.56, 0.65, 0.65, 0.62, 0.56, 0.61, 0.6, 0.66, 0.63, 0.63, 0.62, 0.63, 0.67, 0.65, 0.59, 0.61, 0.61, 0.68, 0.64, 0.66]\n"
          ]
        }
      ]
    },
    {
      "cell_type": "code",
      "source": [
        "#checking the length of list 'prop'\n",
        "len(prop)"
      ],
      "metadata": {
        "colab": {
          "base_uri": "https://localhost:8080/"
        },
        "id": "g8rycnCVkTBM",
        "outputId": "56e754e8-b964-4efc-a25f-143dde9e7134"
      },
      "execution_count": 93,
      "outputs": [
        {
          "output_type": "execute_result",
          "data": {
            "text/plain": [
              "1000"
            ]
          },
          "metadata": {},
          "execution_count": 93
        }
      ]
    },
    {
      "cell_type": "code",
      "source": [
        "#finding the average of proportions of unique values\n",
        "np.mean(prop)"
      ],
      "metadata": {
        "colab": {
          "base_uri": "https://localhost:8080/"
        },
        "id": "g4VcubC4TDVe",
        "outputId": "04e09581-cdd0-4197-d91b-75bd40c4c1b6"
      },
      "execution_count": 92,
      "outputs": [
        {
          "output_type": "execute_result",
          "data": {
            "text/plain": [
              "0.63519"
            ]
          },
          "metadata": {},
          "execution_count": 92
        }
      ]
    },
    {
      "cell_type": "markdown",
      "source": [
        "**In our experiment,  63.5% of the observations in each bootstrap sample were unique.**"
      ],
      "metadata": {
        "id": "mQsCkwZelADb"
      }
    },
    {
      "cell_type": "code",
      "source": [
        "#plotting a histogram of proportions\n",
        "sns.histplot(prop)"
      ],
      "metadata": {
        "colab": {
          "base_uri": "https://localhost:8080/",
          "height": 283
        },
        "id": "fEqC2CRekOCA",
        "outputId": "4873fe11-80ff-46ff-f565-a3c2831f1739"
      },
      "execution_count": 94,
      "outputs": [
        {
          "output_type": "execute_result",
          "data": {
            "text/plain": [
              "<matplotlib.axes._subplots.AxesSubplot at 0x7ff588d3fb90>"
            ]
          },
          "metadata": {},
          "execution_count": 94
        },
        {
          "output_type": "display_data",
          "data": {
            "text/plain": [
              "<Figure size 432x288 with 1 Axes>"
            ],
            "image/png": "[encoded data removed]"
          },
          "metadata": {
            "needs_background": "light"
          }
        }
      ]
    },
    {
      "cell_type": "markdown",
      "source": [
        "**Result: On an average, the proportion of unique values in a bootstrap sample is approx 63%. The calculations in the above experiment  also confirm this insight. The histogram of the distribution of the proportions also shows that majority of the samples have between 62-67% unique values.**"
      ],
      "metadata": {
        "id": "1knN-jalkmjJ"
      }
    },
    {
      "cell_type": "code",
      "source": [
        ""
      ],
      "metadata": {
        "id": "VqXcgBE2kfUN"
      },
      "execution_count": null,
      "outputs": []
    }
  ]
}