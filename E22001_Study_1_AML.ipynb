{
  "nbformat": 4,
  "nbformat_minor": 0,
  "metadata": {
    "colab": {
      "name": "E22001  Study 1 AML.ipynb",
      "provenance": [],
      "collapsed_sections": [],
      "authorship_tag": "ABX9TyOaQccHtJNJ1MkfY9RG74nr",
      "include_colab_link": true
    },
    "kernelspec": {
      "name": "python3",
      "display_name": "Python 3"
    },
    "language_info": {
      "name": "python"
    }
  },
  "cells": [
    {
      "cell_type": "markdown",
      "metadata": {
        "id": "view-in-github",
        "colab_type": "text"
      },
      "source": [
        "<a href=\"https://colab.research.google.com/github/aanchalkhanna72/aanchalkhanna72/blob/main/E22001_Study_1_AML.ipynb\" target=\"_parent\"><img src=\"https://colab.research.google.com/assets/colab-badge.svg\" alt=\"Open In Colab\"/></a>"
      ]
    },
    {
      "cell_type": "markdown",
      "source": [
        "**E22001 Aanchal Khanna; Date: 01/06/2022**"
      ],
      "metadata": {
        "id": "RmkC0Ex5p2WK"
      }
    },
    {
      "cell_type": "markdown",
      "source": [
        "**Objective:  To calculate the estimated coefficients of simple linear regression model**"
      ],
      "metadata": {
        "id": "MGtrxIZtp66n"
      }
    },
    {
      "cell_type": "code",
      "source": [
        "#importing libraries\n",
        "import numpy as np\n",
        "import pandas  as pd"
      ],
      "metadata": {
        "id": "tTgRt3XbrJYZ"
      },
      "execution_count": 50,
      "outputs": []
    },
    {
      "cell_type": "code",
      "source": [
        "#importing dataset\n",
        "cars=pd.read_csv(\"https://raw.githubusercontent.com/aanchalkhanna72/aanchalkhanna72/main/cars.csv\",sep=\",\")\n",
        "X=cars[\"Weight\"]\n",
        "y=cars[\"MPG\"]"
      ],
      "metadata": {
        "id": "UbNSYToTqwZf"
      },
      "execution_count": 51,
      "outputs": []
    },
    {
      "cell_type": "code",
      "source": [
        "#checking data\n",
        "X, y, len(X),len(y)"
      ],
      "metadata": {
        "colab": {
          "base_uri": "https://localhost:8080/"
        },
        "id": "mSQEmFS7rB5X",
        "outputId": "4cbb65cf-a1fc-4ccb-fa1b-e0869e76f22e"
      },
      "execution_count": 52,
      "outputs": [
        {
          "output_type": "execute_result",
          "data": {
            "text/plain": [
              "(0      3504\n",
              " 1      3693\n",
              " 2      3436\n",
              " 3      3433\n",
              " 4      3449\n",
              "        ... \n",
              " 401    2790\n",
              " 402    2130\n",
              " 403    2295\n",
              " 404    2625\n",
              " 405    2720\n",
              " Name: Weight, Length: 406, dtype: int64, 0      18.0\n",
              " 1      15.0\n",
              " 2      18.0\n",
              " 3      16.0\n",
              " 4      17.0\n",
              "        ... \n",
              " 401    27.0\n",
              " 402    44.0\n",
              " 403    32.0\n",
              " 404    28.0\n",
              " 405    31.0\n",
              " Name: MPG, Length: 406, dtype: float64, 406, 406)"
            ]
          },
          "metadata": {},
          "execution_count": 52
        }
      ]
    },
    {
      "cell_type": "code",
      "source": [
        "#Calculating coefficients based on formula given below"
      ],
      "metadata": {
        "id": "-O1DZANfrW-5"
      },
      "execution_count": 5,
      "outputs": []
    },
    {
      "cell_type": "markdown",
      "source": [
        "![image.png](data:image/png;base64,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)"
      ],
      "metadata": {
        "id": "TQpzMhMAr5pW"
      }
    },
    {
      "cell_type": "code",
      "source": [
        "#calculating y-intercept\n",
        "((np.sum(y)*np.sum(X**2))-(np.sum(X)*np.sum(X*y)))/((406*(np.sum(X**2)))-((np.sum(X))**2))"
      ],
      "metadata": {
        "colab": {
          "base_uri": "https://localhost:8080/"
        },
        "id": "-PiWUCSor7zE",
        "outputId": "5e7d352a-724a-4252-a31b-a200a86e1b4f"
      },
      "execution_count": 6,
      "outputs": [
        {
          "output_type": "execute_result",
          "data": {
            "text/plain": [
              "46.325305341697934"
            ]
          },
          "metadata": {},
          "execution_count": 6
        }
      ]
    },
    {
      "cell_type": "code",
      "source": [
        "#double checking\n",
        "#calculating numerator in coefficient estimate formula\n",
        "num=(np.sum(y)*np.sum(X**2))-(np.sum(X)*np.sum(X*y))"
      ],
      "metadata": {
        "id": "va1VzJD2sm2B"
      },
      "execution_count": 7,
      "outputs": []
    },
    {
      "cell_type": "code",
      "source": [
        "#calculating denominator in coefficient estimate formula\n",
        "den=(406*(np.sum(X**2)))-((np.sum(X))**2)\n",
        "den"
      ],
      "metadata": {
        "id": "iqak-dLvtQZr",
        "colab": {
          "base_uri": "https://localhost:8080/"
        },
        "outputId": "b2e78a73-7460-4c27-d05d-d9e7a9404885"
      },
      "execution_count": 43,
      "outputs": [
        {
          "output_type": "execute_result",
          "data": {
            "text/plain": [
              "117964767480"
            ]
          },
          "metadata": {},
          "execution_count": 43
        }
      ]
    },
    {
      "cell_type": "code",
      "source": [
        "# intercept coefficient estimate\n",
        "num/den"
      ],
      "metadata": {
        "colab": {
          "base_uri": "https://localhost:8080/"
        },
        "id": "jcljFivPtnpr",
        "outputId": "45efd23f-3a8c-4447-ec3e-9b8ebc7ea875"
      },
      "execution_count": 9,
      "outputs": [
        {
          "output_type": "execute_result",
          "data": {
            "text/plain": [
              "46.325305341697934"
            ]
          },
          "metadata": {},
          "execution_count": 9
        }
      ]
    },
    {
      "cell_type": "code",
      "source": [
        "#slope  coefficient estimate\n",
        "((406*np.sum(X*y))-(np.sum(X)*np.sum(y)))/((406*(np.sum(X**2)))-((np.sum(X))**2))"
      ],
      "metadata": {
        "colab": {
          "base_uri": "https://localhost:8080/"
        },
        "id": "vGjCU_J4x0R5",
        "outputId": "abd71d1b-2ca3-486d-8a04-c67f128ab1db"
      },
      "execution_count": 49,
      "outputs": [
        {
          "output_type": "execute_result",
          "data": {
            "text/plain": [
              "-0.00781162853863321"
            ]
          },
          "metadata": {},
          "execution_count": 49
        }
      ]
    },
    {
      "cell_type": "code",
      "source": [
        "#double checking\n",
        "#calculating numerator,denominator in coefficient estimate formula\n",
        "num=(406*np.sum(X*y))-(np.sum(X)*np.sum(y))\n",
        "den=(406*(np.sum(X**2)))-((np.sum(X))**2)\n",
        "num/den"
      ],
      "metadata": {
        "id": "lLl3RoA9t4xd",
        "colab": {
          "base_uri": "https://localhost:8080/"
        },
        "outputId": "90f5c215-fa23-4069-86e0-36940ecd7bde"
      },
      "execution_count": 46,
      "outputs": [
        {
          "output_type": "execute_result",
          "data": {
            "text/plain": [
              "-0.00781162853863321"
            ]
          },
          "metadata": {},
          "execution_count": 46
        }
      ]
    },
    {
      "cell_type": "code",
      "source": [
        "Interpretation of slope coefficient:"
      ],
      "metadata": {
        "id": "U90hZ8VuyOS-"
      },
      "execution_count": null,
      "outputs": []
    },
    {
      "cell_type": "markdown",
      "source": [
        "**Interpretation of slope coefficient: According  to our  regression coefficient estimates, increasing the weight by 1000 pounds will decrease the MPG by 7 miles.**"
      ],
      "metadata": {
        "id": "pn9OiTH1y2Mq"
      }
    },
    {
      "cell_type": "code",
      "source": [
        ""
      ],
      "metadata": {
        "id": "cBZM0qfZzQS4"
      },
      "execution_count": null,
      "outputs": []
    }
  ]
}