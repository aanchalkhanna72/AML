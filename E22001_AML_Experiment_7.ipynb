{
  "nbformat": 4,
  "nbformat_minor": 0,
  "metadata": {
    "colab": {
      "name": "E22001 AML Experiment 7.ipynb",
      "provenance": [],
      "collapsed_sections": [],
      "authorship_tag": "ABX9TyMyzPyS3dvD9dPHv1zqMnSC",
      "include_colab_link": true
    },
    "kernelspec": {
      "name": "python3",
      "display_name": "Python 3"
    },
    "language_info": {
      "name": "python"
    }
  },
  "cells": [
    {
      "cell_type": "markdown",
      "metadata": {
        "id": "view-in-github",
        "colab_type": "text"
      },
      "source": [
        "<a href=\"https://colab.research.google.com/github/aanchalkhanna72/aanchalkhanna72/blob/main/E22001_AML_Experiment_7.ipynb\" target=\"_parent\"><img src=\"https://colab.research.google.com/assets/colab-badge.svg\" alt=\"Open In Colab\"/></a>"
      ]
    },
    {
      "cell_type": "markdown",
      "source": [
        "**E22001 Aanchal Khanna**"
      ],
      "metadata": {
        "id": "7QMQNHG8v677"
      }
    },
    {
      "cell_type": "markdown",
      "source": [
        "**Experiment 7: Comparison of Variance of individual Decision Tree Models and Bagged Model**"
      ],
      "metadata": {
        "id": "4xTGPICOv3ug"
      }
    },
    {
      "cell_type": "markdown",
      "source": [
        "**Hypothesis: Since Bagged Models are designed to reduce variance due  to aggregation of output, I hypothesize that the bagged model will have lower variance.**"
      ],
      "metadata": {
        "id": "ux9-pgZPwTG9"
      }
    },
    {
      "cell_type": "code",
      "source": [
        "#importing libraries\n",
        "import pandas as pd\n",
        "import numpy as np\n",
        "from random import sample\n",
        "from sklearn.tree import DecisionTreeRegressor\n",
        "from sklearn.ensemble import BaggingRegressor"
      ],
      "metadata": {
        "id": "zgNKRvSiwNUY"
      },
      "execution_count": 125,
      "outputs": []
    },
    {
      "cell_type": "code",
      "source": [
        "#importing dataset through github link\n",
        "cars=pd.read_csv(\"https://raw.githubusercontent.com/aanchalkhanna72/aanchalkhanna72/main/cars.csv\",sep=\",\")"
      ],
      "metadata": {
        "id": "4D6fkZcNY_cK"
      },
      "execution_count": 149,
      "outputs": []
    },
    {
      "cell_type": "code",
      "source": [
        "cars.columns"
      ],
      "metadata": {
        "colab": {
          "base_uri": "https://localhost:8080/"
        },
        "id": "BL6PLzC4cRvP",
        "outputId": "170f494e-a092-4bdf-dbd0-2d928aac7140"
      },
      "execution_count": 148,
      "outputs": [
        {
          "output_type": "execute_result",
          "data": {
            "text/plain": [
              "Index(['Car', 'MPG', 'Cylinders', 'Displacement', 'Horsepower', 'Weight',\n",
              "       'Acceleration', 'Model', 'Origin', 'Unnamed: 9', 'Unnamed: 10',\n",
              "       'Unnamed: 11', 'Unnamed: 12'],\n",
              "      dtype='object')"
            ]
          },
          "metadata": {},
          "execution_count": 148
        }
      ]
    },
    {
      "cell_type": "code",
      "source": [
        "#defining  predictors and  target\n",
        "X=cars.drop(columns=[\"Unnamed: 9\",\"Unnamed: 10\",\"Unnamed: 11\",\"Unnamed: 12\",\"Model\",\"Car\",\"Origin\"])  #not including MPG as it will be separated during sampling\n",
        "y=cars.MPG"
      ],
      "metadata": {
        "id": "-fJR3xJQF7mc"
      },
      "execution_count": 150,
      "outputs": []
    },
    {
      "cell_type": "code",
      "source": [
        "#train-test split\n",
        "from sklearn.model_selection import train_test_split\n",
        "(X_train,X_test,y_train,y_test)=train_test_split(X,y,test_size=1,train_size=405,random_state=1)\n"
      ],
      "metadata": {
        "id": "0Qiw0a1nD6kF"
      },
      "execution_count": 145,
      "outputs": []
    },
    {
      "cell_type": "code",
      "source": [
        "#dropping MPG column  of test observation\n",
        "X_test=X_test.drop(\"MPG\",axis=1)"
      ],
      "metadata": {
        "id": "VrBQ-z8dUaH5"
      },
      "execution_count": 146,
      "outputs": []
    },
    {
      "cell_type": "code",
      "source": [
        "#generating 1000 random samples of size 150 each to conduct experiment \n",
        "\n",
        "depths=[]\n",
        "dt_predictions=[] #empty list  for storing predictions of DTs\n",
        "bagged_predictions=[]  #empty list  for storing predictions of bagged models\n",
        "for i in range(1000):\n",
        "  #draw a sample from  train \"population\"\n",
        "  smpl_X=X_train.sample(150)\n",
        "  smpl_y=smpl_X.MPG\n",
        "  smpl_X=smpl_X.drop(\"MPG\",axis=1)\n",
        "  #fit decision trees on each sample\n",
        "  dt=DecisionTreeRegressor() \n",
        "  dt.fit(smpl_X,smpl_y)\n",
        "  d=dt.get_depth()\n",
        "  depths.append(d)\n",
        "  #predictions by DT on test observation\n",
        "  y_pred_dt=dt.predict(X_test)\n",
        "  #1000 predictions obtained by the DTs\n",
        "  dt_predictions.append(y_pred_dt)\n",
        "  #fitting a bagged regressor model\n",
        "  bagged=BaggingRegressor()\n",
        "  bagged.fit(smpl_X,smpl_y)\n",
        "  #predictions by bagged model on test observation\n",
        "  y_pred_b=bagged.predict(X_test)\n",
        "  #1000 predictions obtained by the bagged models\n",
        "  bagged_predictions.append(y_pred_b)"
      ],
      "metadata": {
        "id": "Uugfi9AiZNLX"
      },
      "execution_count": 131,
      "outputs": []
    },
    {
      "cell_type": "code",
      "source": [
        "#default mean depth of DTs\n",
        "np.mean(depths)"
      ],
      "metadata": {
        "colab": {
          "base_uri": "https://localhost:8080/"
        },
        "id": "cwUNEhwkYcyK",
        "outputId": "f74bc422-54f8-4411-df55-3bd3c112a8ab"
      },
      "execution_count": 142,
      "outputs": [
        {
          "output_type": "execute_result",
          "data": {
            "text/plain": [
              "14.265"
            ]
          },
          "metadata": {},
          "execution_count": 142
        }
      ]
    },
    {
      "cell_type": "code",
      "source": [
        "#default n_estimators of bagged model\n",
        "bagged.get_params()\n",
        "#how to check just the 'n_estimators' parameter?"
      ],
      "metadata": {
        "colab": {
          "base_uri": "https://localhost:8080/"
        },
        "id": "E86XxBONaIgk",
        "outputId": "9e5fdd77-7ed8-47cf-a035-748abe1805ce"
      },
      "execution_count": 143,
      "outputs": [
        {
          "output_type": "execute_result",
          "data": {
            "text/plain": [
              "{'base_estimator': None,\n",
              " 'bootstrap': True,\n",
              " 'bootstrap_features': False,\n",
              " 'max_features': 1.0,\n",
              " 'max_samples': 1.0,\n",
              " 'n_estimators': 10,\n",
              " 'n_jobs': None,\n",
              " 'oob_score': False,\n",
              " 'random_state': None,\n",
              " 'verbose': 0,\n",
              " 'warm_start': False}"
            ]
          },
          "metadata": {},
          "execution_count": 143
        }
      ]
    },
    {
      "cell_type": "code",
      "source": [
        "#checking variance of predictions\n",
        "np.var(dt_predictions),np.var(bagged_predictions)"
      ],
      "metadata": {
        "colab": {
          "base_uri": "https://localhost:8080/"
        },
        "id": "9X9xd0_8V2Zu",
        "outputId": "b416171c-3c43-423a-d3ef-09d7bd099230"
      },
      "execution_count": 147,
      "outputs": [
        {
          "output_type": "execute_result",
          "data": {
            "text/plain": [
              "(13.49021231, 5.0183081950999995)"
            ]
          },
          "metadata": {},
          "execution_count": 147
        }
      ]
    },
    {
      "cell_type": "markdown",
      "source": [
        "**Conclusion: As hypothesized, the variance in the predictions has been reduced by more than 50% upon using bagged models. This happens because each Bagged Model aggregates output from a combination of Decision Trees.**"
      ],
      "metadata": {
        "id": "7GtbprtiYF_x"
      }
    },
    {
      "cell_type": "code",
      "source": [
        ""
      ],
      "metadata": {
        "id": "LgrddAkHXN_j"
      },
      "execution_count": null,
      "outputs": []
    }
  ]
}